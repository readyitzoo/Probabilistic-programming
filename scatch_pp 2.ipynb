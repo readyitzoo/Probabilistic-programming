{
 "cells": [
  {
   "cell_type": "code",
   "execution_count": 4,
   "metadata": {
    "id": "SnjKlKdq_KpK"
   },
   "outputs": [
    {
     "name": "stdout",
     "output_type": "stream",
     "text": [
      "Requirement already satisfied: scipy in d:\\program files\\anaconda 3\\lib\\site-packages (1.15.1)\n",
      "Requirement already satisfied: seaborn in d:\\program files\\anaconda 3\\lib\\site-packages (0.13.2)\n",
      "Requirement already satisfied: numpy<2.5,>=1.23.5 in d:\\program files\\anaconda 3\\lib\\site-packages (from scipy) (1.26.4)\n",
      "Requirement already satisfied: pandas>=1.2 in c:\\users\\ricardo milos\\appdata\\roaming\\python\\python311\\site-packages (from seaborn) (2.2.3)\n",
      "Requirement already satisfied: matplotlib!=3.6.1,>=3.4 in d:\\program files\\anaconda 3\\lib\\site-packages (from seaborn) (3.7.1)\n",
      "Requirement already satisfied: contourpy>=1.0.1 in d:\\program files\\anaconda 3\\lib\\site-packages (from matplotlib!=3.6.1,>=3.4->seaborn) (1.0.5)\n",
      "Requirement already satisfied: cycler>=0.10 in d:\\program files\\anaconda 3\\lib\\site-packages (from matplotlib!=3.6.1,>=3.4->seaborn) (0.11.0)\n",
      "Requirement already satisfied: fonttools>=4.22.0 in d:\\program files\\anaconda 3\\lib\\site-packages (from matplotlib!=3.6.1,>=3.4->seaborn) (4.25.0)\n",
      "Requirement already satisfied: kiwisolver>=1.0.1 in d:\\program files\\anaconda 3\\lib\\site-packages (from matplotlib!=3.6.1,>=3.4->seaborn) (1.4.4)\n",
      "Requirement already satisfied: packaging>=20.0 in d:\\program files\\anaconda 3\\lib\\site-packages (from matplotlib!=3.6.1,>=3.4->seaborn) (23.0)\n",
      "Requirement already satisfied: pillow>=6.2.0 in d:\\program files\\anaconda 3\\lib\\site-packages (from matplotlib!=3.6.1,>=3.4->seaborn) (9.4.0)\n",
      "Requirement already satisfied: pyparsing>=2.3.1 in d:\\program files\\anaconda 3\\lib\\site-packages (from matplotlib!=3.6.1,>=3.4->seaborn) (3.0.9)\n",
      "Requirement already satisfied: python-dateutil>=2.7 in d:\\program files\\anaconda 3\\lib\\site-packages (from matplotlib!=3.6.1,>=3.4->seaborn) (2.8.2)\n",
      "Requirement already satisfied: pytz>=2020.1 in d:\\program files\\anaconda 3\\lib\\site-packages (from pandas>=1.2->seaborn) (2022.7)\n",
      "Requirement already satisfied: tzdata>=2022.7 in d:\\program files\\anaconda 3\\lib\\site-packages (from pandas>=1.2->seaborn) (2025.1)\n",
      "Requirement already satisfied: six>=1.5 in d:\\program files\\anaconda 3\\lib\\site-packages (from python-dateutil>=2.7->matplotlib!=3.6.1,>=3.4->seaborn) (1.16.0)\n",
      "Note: you may need to restart the kernel to use updated packages.\n"
     ]
    }
   ],
   "source": [
    "#! pip install pymc\n",
    "#! pip install pytensor\n",
    "%pip install --upgrade scipy seaborn\n",
    "\n"
   ]
  },
  {
   "cell_type": "code",
   "execution_count": 5,
   "metadata": {},
   "outputs": [
    {
     "name": "stdout",
     "output_type": "stream",
     "text": [
      "Files removed: 2\n",
      "Note: you may need to restart the kernel to use updated packages.\n"
     ]
    }
   ],
   "source": [
    "%pip cache purge"
   ]
  },
  {
   "cell_type": "code",
   "execution_count": 1,
   "metadata": {
    "id": "kIdk-UdW_Fje"
   },
   "outputs": [
    {
     "ename": "ValueError",
     "evalue": "All ufuncs must have type `numpy.ufunc`. Received (<ufunc 'sph_legendre_p'>, <ufunc 'sph_legendre_p'>, <ufunc 'sph_legendre_p'>)",
     "output_type": "error",
     "traceback": [
      "\u001b[1;31m---------------------------------------------------------------------------\u001b[0m",
      "\u001b[1;31mValueError\u001b[0m                                Traceback (most recent call last)",
      "Cell \u001b[1;32mIn[1], line 6\u001b[0m\n\u001b[0;32m      4\u001b[0m \u001b[38;5;66;03m# Third-party library imports\u001b[39;00m\n\u001b[0;32m      5\u001b[0m \u001b[38;5;28;01mimport\u001b[39;00m \u001b[38;5;21;01mmatplotlib\u001b[39;00m\u001b[38;5;21;01m.\u001b[39;00m\u001b[38;5;21;01mpyplot\u001b[39;00m \u001b[38;5;28;01mas\u001b[39;00m \u001b[38;5;21;01mplt\u001b[39;00m\n\u001b[1;32m----> 6\u001b[0m \u001b[38;5;28;01mimport\u001b[39;00m \u001b[38;5;21;01mseaborn\u001b[39;00m \u001b[38;5;28;01mas\u001b[39;00m \u001b[38;5;21;01msns\u001b[39;00m\n\u001b[0;32m      7\u001b[0m \u001b[38;5;28;01mfrom\u001b[39;00m \u001b[38;5;21;01mscipy\u001b[39;00m\u001b[38;5;21;01m.\u001b[39;00m\u001b[38;5;21;01mstats\u001b[39;00m \u001b[38;5;28;01mimport\u001b[39;00m entropy\n\u001b[0;32m      9\u001b[0m \u001b[38;5;28;01mfrom\u001b[39;00m \u001b[38;5;21;01msklearn\u001b[39;00m\u001b[38;5;21;01m.\u001b[39;00m\u001b[38;5;21;01mmodel_selection\u001b[39;00m \u001b[38;5;28;01mimport\u001b[39;00m train_test_split\n",
      "File \u001b[1;32mD:\\Program Files\\anaconda 3\\Lib\\site-packages\\seaborn\\__init__.py:5\u001b[0m\n\u001b[0;32m      3\u001b[0m \u001b[38;5;28;01mfrom\u001b[39;00m \u001b[38;5;21;01m.\u001b[39;00m\u001b[38;5;21;01mutils\u001b[39;00m \u001b[38;5;28;01mimport\u001b[39;00m \u001b[38;5;241m*\u001b[39m  \u001b[38;5;66;03m# noqa: F401,F403\u001b[39;00m\n\u001b[0;32m      4\u001b[0m \u001b[38;5;28;01mfrom\u001b[39;00m \u001b[38;5;21;01m.\u001b[39;00m\u001b[38;5;21;01mpalettes\u001b[39;00m \u001b[38;5;28;01mimport\u001b[39;00m \u001b[38;5;241m*\u001b[39m  \u001b[38;5;66;03m# noqa: F401,F403\u001b[39;00m\n\u001b[1;32m----> 5\u001b[0m \u001b[38;5;28;01mfrom\u001b[39;00m \u001b[38;5;21;01m.\u001b[39;00m\u001b[38;5;21;01mrelational\u001b[39;00m \u001b[38;5;28;01mimport\u001b[39;00m \u001b[38;5;241m*\u001b[39m  \u001b[38;5;66;03m# noqa: F401,F403\u001b[39;00m\n\u001b[0;32m      6\u001b[0m \u001b[38;5;28;01mfrom\u001b[39;00m \u001b[38;5;21;01m.\u001b[39;00m\u001b[38;5;21;01mregression\u001b[39;00m \u001b[38;5;28;01mimport\u001b[39;00m \u001b[38;5;241m*\u001b[39m  \u001b[38;5;66;03m# noqa: F401,F403\u001b[39;00m\n\u001b[0;32m      7\u001b[0m \u001b[38;5;28;01mfrom\u001b[39;00m \u001b[38;5;21;01m.\u001b[39;00m\u001b[38;5;21;01mcategorical\u001b[39;00m \u001b[38;5;28;01mimport\u001b[39;00m \u001b[38;5;241m*\u001b[39m  \u001b[38;5;66;03m# noqa: F401,F403\u001b[39;00m\n",
      "File \u001b[1;32mD:\\Program Files\\anaconda 3\\Lib\\site-packages\\seaborn\\relational.py:21\u001b[0m\n\u001b[0;32m     13\u001b[0m \u001b[38;5;28;01mfrom\u001b[39;00m \u001b[38;5;21;01m.\u001b[39;00m\u001b[38;5;21;01mutils\u001b[39;00m \u001b[38;5;28;01mimport\u001b[39;00m (\n\u001b[0;32m     14\u001b[0m     adjust_legend_subtitles,\n\u001b[0;32m     15\u001b[0m     _default_color,\n\u001b[1;32m   (...)\u001b[0m\n\u001b[0;32m     18\u001b[0m     _scatter_legend_artist,\n\u001b[0;32m     19\u001b[0m )\n\u001b[0;32m     20\u001b[0m \u001b[38;5;28;01mfrom\u001b[39;00m \u001b[38;5;21;01m.\u001b[39;00m\u001b[38;5;21;01m_compat\u001b[39;00m \u001b[38;5;28;01mimport\u001b[39;00m groupby_apply_include_groups\n\u001b[1;32m---> 21\u001b[0m \u001b[38;5;28;01mfrom\u001b[39;00m \u001b[38;5;21;01m.\u001b[39;00m\u001b[38;5;21;01m_statistics\u001b[39;00m \u001b[38;5;28;01mimport\u001b[39;00m EstimateAggregator, WeightedAggregator\n\u001b[0;32m     22\u001b[0m \u001b[38;5;28;01mfrom\u001b[39;00m \u001b[38;5;21;01m.\u001b[39;00m\u001b[38;5;21;01maxisgrid\u001b[39;00m \u001b[38;5;28;01mimport\u001b[39;00m FacetGrid, _facet_docs\n\u001b[0;32m     23\u001b[0m \u001b[38;5;28;01mfrom\u001b[39;00m \u001b[38;5;21;01m.\u001b[39;00m\u001b[38;5;21;01m_docstrings\u001b[39;00m \u001b[38;5;28;01mimport\u001b[39;00m DocstringComponents, _core_docs\n",
      "File \u001b[1;32mD:\\Program Files\\anaconda 3\\Lib\\site-packages\\seaborn\\_statistics.py:32\u001b[0m\n\u001b[0;32m     30\u001b[0m \u001b[38;5;28;01mimport\u001b[39;00m \u001b[38;5;21;01mpandas\u001b[39;00m \u001b[38;5;28;01mas\u001b[39;00m \u001b[38;5;21;01mpd\u001b[39;00m\n\u001b[0;32m     31\u001b[0m \u001b[38;5;28;01mtry\u001b[39;00m:\n\u001b[1;32m---> 32\u001b[0m     \u001b[38;5;28;01mfrom\u001b[39;00m \u001b[38;5;21;01mscipy\u001b[39;00m\u001b[38;5;21;01m.\u001b[39;00m\u001b[38;5;21;01mstats\u001b[39;00m \u001b[38;5;28;01mimport\u001b[39;00m gaussian_kde\n\u001b[0;32m     33\u001b[0m     _no_scipy \u001b[38;5;241m=\u001b[39m \u001b[38;5;28;01mFalse\u001b[39;00m\n\u001b[0;32m     34\u001b[0m \u001b[38;5;28;01mexcept\u001b[39;00m \u001b[38;5;167;01mImportError\u001b[39;00m:\n",
      "File \u001b[1;32mD:\\Program Files\\anaconda 3\\Lib\\site-packages\\scipy\\stats\\__init__.py:624\u001b[0m\n\u001b[0;32m      1\u001b[0m \u001b[38;5;124;03m\"\"\"\u001b[39;00m\n\u001b[0;32m      2\u001b[0m \u001b[38;5;124;03m.. _statsrefmanual:\u001b[39;00m\n\u001b[0;32m      3\u001b[0m \n\u001b[1;32m   (...)\u001b[0m\n\u001b[0;32m    619\u001b[0m \n\u001b[0;32m    620\u001b[0m \u001b[38;5;124;03m\"\"\"\u001b[39;00m  \u001b[38;5;66;03m# noqa: E501\u001b[39;00m\n\u001b[0;32m    622\u001b[0m \u001b[38;5;28;01mfrom\u001b[39;00m \u001b[38;5;21;01m.\u001b[39;00m\u001b[38;5;21;01m_warnings_errors\u001b[39;00m \u001b[38;5;28;01mimport\u001b[39;00m (ConstantInputWarning, NearConstantInputWarning,\n\u001b[0;32m    623\u001b[0m                                DegenerateDataWarning, FitError)\n\u001b[1;32m--> 624\u001b[0m \u001b[38;5;28;01mfrom\u001b[39;00m \u001b[38;5;21;01m.\u001b[39;00m\u001b[38;5;21;01m_stats_py\u001b[39;00m \u001b[38;5;28;01mimport\u001b[39;00m \u001b[38;5;241m*\u001b[39m\n\u001b[0;32m    625\u001b[0m \u001b[38;5;28;01mfrom\u001b[39;00m \u001b[38;5;21;01m.\u001b[39;00m\u001b[38;5;21;01m_variation\u001b[39;00m \u001b[38;5;28;01mimport\u001b[39;00m variation\n\u001b[0;32m    626\u001b[0m \u001b[38;5;28;01mfrom\u001b[39;00m \u001b[38;5;21;01m.\u001b[39;00m\u001b[38;5;21;01mdistributions\u001b[39;00m \u001b[38;5;28;01mimport\u001b[39;00m \u001b[38;5;241m*\u001b[39m\n",
      "File \u001b[1;32mD:\\Program Files\\anaconda 3\\Lib\\site-packages\\scipy\\stats\\_stats_py.py:39\u001b[0m\n\u001b[0;32m     36\u001b[0m \u001b[38;5;28;01mfrom\u001b[39;00m \u001b[38;5;21;01mnumpy\u001b[39;00m \u001b[38;5;28;01mimport\u001b[39;00m array, asarray, ma\n\u001b[0;32m     38\u001b[0m \u001b[38;5;28;01mfrom\u001b[39;00m \u001b[38;5;21;01mscipy\u001b[39;00m \u001b[38;5;28;01mimport\u001b[39;00m sparse\n\u001b[1;32m---> 39\u001b[0m \u001b[38;5;28;01mfrom\u001b[39;00m \u001b[38;5;21;01mscipy\u001b[39;00m\u001b[38;5;21;01m.\u001b[39;00m\u001b[38;5;21;01mspatial\u001b[39;00m \u001b[38;5;28;01mimport\u001b[39;00m distance_matrix\n\u001b[0;32m     41\u001b[0m \u001b[38;5;28;01mfrom\u001b[39;00m \u001b[38;5;21;01mscipy\u001b[39;00m\u001b[38;5;21;01m.\u001b[39;00m\u001b[38;5;21;01moptimize\u001b[39;00m \u001b[38;5;28;01mimport\u001b[39;00m milp, LinearConstraint\n\u001b[0;32m     42\u001b[0m \u001b[38;5;28;01mfrom\u001b[39;00m \u001b[38;5;21;01mscipy\u001b[39;00m\u001b[38;5;21;01m.\u001b[39;00m\u001b[38;5;21;01m_lib\u001b[39;00m\u001b[38;5;21;01m.\u001b[39;00m\u001b[38;5;21;01m_util\u001b[39;00m \u001b[38;5;28;01mimport\u001b[39;00m (check_random_state, _get_nan,\n\u001b[0;32m     43\u001b[0m                               _rename_parameter, _contains_nan,\n\u001b[0;32m     44\u001b[0m                               AxisError, _lazywhere)\n",
      "File \u001b[1;32mD:\\Program Files\\anaconda 3\\Lib\\site-packages\\scipy\\spatial\\__init__.py:116\u001b[0m\n\u001b[0;32m    114\u001b[0m \u001b[38;5;28;01mfrom\u001b[39;00m \u001b[38;5;21;01m.\u001b[39;00m\u001b[38;5;21;01m_plotutils\u001b[39;00m \u001b[38;5;28;01mimport\u001b[39;00m \u001b[38;5;241m*\u001b[39m\n\u001b[0;32m    115\u001b[0m \u001b[38;5;28;01mfrom\u001b[39;00m \u001b[38;5;21;01m.\u001b[39;00m\u001b[38;5;21;01m_procrustes\u001b[39;00m \u001b[38;5;28;01mimport\u001b[39;00m procrustes\n\u001b[1;32m--> 116\u001b[0m \u001b[38;5;28;01mfrom\u001b[39;00m \u001b[38;5;21;01m.\u001b[39;00m\u001b[38;5;21;01m_geometric_slerp\u001b[39;00m \u001b[38;5;28;01mimport\u001b[39;00m geometric_slerp\n\u001b[0;32m    118\u001b[0m \u001b[38;5;66;03m# Deprecated namespaces, to be removed in v2.0.0\u001b[39;00m\n\u001b[0;32m    119\u001b[0m \u001b[38;5;28;01mfrom\u001b[39;00m \u001b[38;5;21;01m.\u001b[39;00m \u001b[38;5;28;01mimport\u001b[39;00m ckdtree, kdtree, qhull\n",
      "File \u001b[1;32mD:\\Program Files\\anaconda 3\\Lib\\site-packages\\scipy\\spatial\\_geometric_slerp.py:7\u001b[0m\n\u001b[0;32m      4\u001b[0m \u001b[38;5;28;01mfrom\u001b[39;00m \u001b[38;5;21;01mtyping\u001b[39;00m \u001b[38;5;28;01mimport\u001b[39;00m TYPE_CHECKING\n\u001b[0;32m      6\u001b[0m \u001b[38;5;28;01mimport\u001b[39;00m \u001b[38;5;21;01mnumpy\u001b[39;00m \u001b[38;5;28;01mas\u001b[39;00m \u001b[38;5;21;01mnp\u001b[39;00m\n\u001b[1;32m----> 7\u001b[0m \u001b[38;5;28;01mfrom\u001b[39;00m \u001b[38;5;21;01mscipy\u001b[39;00m\u001b[38;5;21;01m.\u001b[39;00m\u001b[38;5;21;01mspatial\u001b[39;00m\u001b[38;5;21;01m.\u001b[39;00m\u001b[38;5;21;01mdistance\u001b[39;00m \u001b[38;5;28;01mimport\u001b[39;00m euclidean\n\u001b[0;32m      9\u001b[0m \u001b[38;5;28;01mif\u001b[39;00m TYPE_CHECKING:\n\u001b[0;32m     10\u001b[0m     \u001b[38;5;28;01mimport\u001b[39;00m \u001b[38;5;21;01mnumpy\u001b[39;00m\u001b[38;5;21;01m.\u001b[39;00m\u001b[38;5;21;01mtyping\u001b[39;00m \u001b[38;5;28;01mas\u001b[39;00m \u001b[38;5;21;01mnpt\u001b[39;00m\n",
      "File \u001b[1;32mD:\\Program Files\\anaconda 3\\Lib\\site-packages\\scipy\\spatial\\distance.py:121\u001b[0m\n\u001b[0;32m    119\u001b[0m \u001b[38;5;28;01mfrom\u001b[39;00m \u001b[38;5;21;01m.\u001b[39;00m \u001b[38;5;28;01mimport\u001b[39;00m _hausdorff\n\u001b[0;32m    120\u001b[0m \u001b[38;5;28;01mfrom\u001b[39;00m \u001b[38;5;21;01m.\u001b[39;00m\u001b[38;5;21;01m.\u001b[39;00m\u001b[38;5;21;01mlinalg\u001b[39;00m \u001b[38;5;28;01mimport\u001b[39;00m norm\n\u001b[1;32m--> 121\u001b[0m \u001b[38;5;28;01mfrom\u001b[39;00m \u001b[38;5;21;01m.\u001b[39;00m\u001b[38;5;21;01m.\u001b[39;00m\u001b[38;5;21;01mspecial\u001b[39;00m \u001b[38;5;28;01mimport\u001b[39;00m rel_entr\n\u001b[0;32m    123\u001b[0m \u001b[38;5;28;01mfrom\u001b[39;00m \u001b[38;5;21;01m.\u001b[39;00m \u001b[38;5;28;01mimport\u001b[39;00m _distance_pybind\n\u001b[0;32m    126\u001b[0m \u001b[38;5;28;01mdef\u001b[39;00m \u001b[38;5;21m_copy_array_if_base_present\u001b[39m(a):\n",
      "File \u001b[1;32mD:\\Program Files\\anaconda 3\\Lib\\site-packages\\scipy\\special\\__init__.py:825\u001b[0m\n\u001b[0;32m    819\u001b[0m \u001b[38;5;66;03m# Replace some function definitions from _ufuncs to add Array API support\u001b[39;00m\n\u001b[0;32m    820\u001b[0m \u001b[38;5;28;01mfrom\u001b[39;00m \u001b[38;5;21;01m.\u001b[39;00m\u001b[38;5;21;01m_support_alternative_backends\u001b[39;00m \u001b[38;5;28;01mimport\u001b[39;00m (\n\u001b[0;32m    821\u001b[0m     log_ndtr, ndtr, ndtri, erf, erfc, i0, i0e, i1, i1e, gammaln,\n\u001b[0;32m    822\u001b[0m     gammainc, gammaincc, logit, expit, entr, rel_entr, xlogy,\n\u001b[0;32m    823\u001b[0m     chdtr, chdtrc, betainc, betaincc, stdtr)\n\u001b[1;32m--> 825\u001b[0m \u001b[38;5;28;01mfrom\u001b[39;00m \u001b[38;5;21;01m.\u001b[39;00m \u001b[38;5;28;01mimport\u001b[39;00m _basic\n\u001b[0;32m    826\u001b[0m \u001b[38;5;28;01mfrom\u001b[39;00m \u001b[38;5;21;01m.\u001b[39;00m\u001b[38;5;21;01m_basic\u001b[39;00m \u001b[38;5;28;01mimport\u001b[39;00m \u001b[38;5;241m*\u001b[39m\n\u001b[0;32m    828\u001b[0m \u001b[38;5;28;01mfrom\u001b[39;00m \u001b[38;5;21;01m.\u001b[39;00m\u001b[38;5;21;01m_logsumexp\u001b[39;00m \u001b[38;5;28;01mimport\u001b[39;00m logsumexp, softmax, log_softmax\n",
      "File \u001b[1;32mD:\\Program Files\\anaconda 3\\Lib\\site-packages\\scipy\\special\\_basic.py:22\u001b[0m\n\u001b[0;32m     20\u001b[0m \u001b[38;5;28;01mfrom\u001b[39;00m \u001b[38;5;21;01m.\u001b[39;00m \u001b[38;5;28;01mimport\u001b[39;00m _specfun\n\u001b[0;32m     21\u001b[0m \u001b[38;5;28;01mfrom\u001b[39;00m \u001b[38;5;21;01m.\u001b[39;00m\u001b[38;5;21;01m_comb\u001b[39;00m \u001b[38;5;28;01mimport\u001b[39;00m _comb_int\n\u001b[1;32m---> 22\u001b[0m \u001b[38;5;28;01mfrom\u001b[39;00m \u001b[38;5;21;01m.\u001b[39;00m\u001b[38;5;21;01m_multiufuncs\u001b[39;00m \u001b[38;5;28;01mimport\u001b[39;00m (assoc_legendre_p_all,\n\u001b[0;32m     23\u001b[0m                            legendre_p_all)\n\u001b[0;32m     24\u001b[0m \u001b[38;5;28;01mfrom\u001b[39;00m \u001b[38;5;21;01mscipy\u001b[39;00m\u001b[38;5;21;01m.\u001b[39;00m\u001b[38;5;21;01m_lib\u001b[39;00m\u001b[38;5;21;01m.\u001b[39;00m\u001b[38;5;21;01mdeprecation\u001b[39;00m \u001b[38;5;28;01mimport\u001b[39;00m _deprecated\n\u001b[0;32m     27\u001b[0m __all__ \u001b[38;5;241m=\u001b[39m [\n\u001b[0;32m     28\u001b[0m     \u001b[38;5;124m'\u001b[39m\u001b[38;5;124mai_zeros\u001b[39m\u001b[38;5;124m'\u001b[39m,\n\u001b[0;32m     29\u001b[0m     \u001b[38;5;124m'\u001b[39m\u001b[38;5;124massoc_laguerre\u001b[39m\u001b[38;5;124m'\u001b[39m,\n\u001b[1;32m   (...)\u001b[0m\n\u001b[0;32m     87\u001b[0m     \u001b[38;5;124m'\u001b[39m\u001b[38;5;124mzeta\u001b[39m\u001b[38;5;124m'\u001b[39m\n\u001b[0;32m     88\u001b[0m ]\n",
      "File \u001b[1;32mD:\\Program Files\\anaconda 3\\Lib\\site-packages\\scipy\\special\\_multiufuncs.py:142\u001b[0m\n\u001b[0;32m    137\u001b[0m             out \u001b[38;5;241m=\u001b[39m \u001b[38;5;28mself\u001b[39m\u001b[38;5;241m.\u001b[39m_finalize_out(out)\n\u001b[0;32m    139\u001b[0m         \u001b[38;5;28;01mreturn\u001b[39;00m out\n\u001b[1;32m--> 142\u001b[0m sph_legendre_p \u001b[38;5;241m=\u001b[39m MultiUFunc(\n\u001b[0;32m    143\u001b[0m     sph_legendre_p,\n\u001b[0;32m    144\u001b[0m \u001b[38;5;250m    \u001b[39m\u001b[38;5;124mr\u001b[39m\u001b[38;5;124;03m\"\"\"sph_legendre_p(n, m, theta, *, diff_n=0)\u001b[39;00m\n\u001b[0;32m    145\u001b[0m \n\u001b[0;32m    146\u001b[0m \u001b[38;5;124;03m    Spherical Legendre polynomial of the first kind.\u001b[39;00m\n\u001b[0;32m    147\u001b[0m \n\u001b[0;32m    148\u001b[0m \u001b[38;5;124;03m    Parameters\u001b[39;00m\n\u001b[0;32m    149\u001b[0m \u001b[38;5;124;03m    ----------\u001b[39;00m\n\u001b[0;32m    150\u001b[0m \u001b[38;5;124;03m    n : ArrayLike[int]\u001b[39;00m\n\u001b[0;32m    151\u001b[0m \u001b[38;5;124;03m        Degree of the spherical Legendre polynomial. Must have ``n >= 0``.\u001b[39;00m\n\u001b[0;32m    152\u001b[0m \u001b[38;5;124;03m    m : ArrayLike[int]\u001b[39;00m\n\u001b[0;32m    153\u001b[0m \u001b[38;5;124;03m        Order of the spherical Legendre polynomial.\u001b[39;00m\n\u001b[0;32m    154\u001b[0m \u001b[38;5;124;03m    theta : ArrayLike[float]\u001b[39;00m\n\u001b[0;32m    155\u001b[0m \u001b[38;5;124;03m        Input value.\u001b[39;00m\n\u001b[0;32m    156\u001b[0m \u001b[38;5;124;03m    diff_n : Optional[int]\u001b[39;00m\n\u001b[0;32m    157\u001b[0m \u001b[38;5;124;03m        A non-negative integer. Compute and return all derivatives up\u001b[39;00m\n\u001b[0;32m    158\u001b[0m \u001b[38;5;124;03m        to order ``diff_n``. Default is 0.\u001b[39;00m\n\u001b[0;32m    159\u001b[0m \n\u001b[0;32m    160\u001b[0m \u001b[38;5;124;03m    Returns\u001b[39;00m\n\u001b[0;32m    161\u001b[0m \u001b[38;5;124;03m    -------\u001b[39;00m\n\u001b[0;32m    162\u001b[0m \u001b[38;5;124;03m    p : ndarray or tuple[ndarray]\u001b[39;00m\n\u001b[0;32m    163\u001b[0m \u001b[38;5;124;03m        Spherical Legendre polynomial with ``diff_n`` derivatives.\u001b[39;00m\n\u001b[0;32m    164\u001b[0m \n\u001b[0;32m    165\u001b[0m \u001b[38;5;124;03m    Notes\u001b[39;00m\n\u001b[0;32m    166\u001b[0m \u001b[38;5;124;03m    -----\u001b[39;00m\n\u001b[0;32m    167\u001b[0m \u001b[38;5;124;03m    The spherical counterpart of an (unnormalized) associated Legendre polynomial has\u001b[39;00m\n\u001b[0;32m    168\u001b[0m \u001b[38;5;124;03m    the additional factor\u001b[39;00m\n\u001b[0;32m    169\u001b[0m \n\u001b[0;32m    170\u001b[0m \u001b[38;5;124;03m    .. math::\u001b[39;00m\n\u001b[0;32m    171\u001b[0m \n\u001b[0;32m    172\u001b[0m \u001b[38;5;124;03m        \\sqrt{\\frac{(2 n + 1) (n - m)!}{4 \\pi (n + m)!}}\u001b[39;00m\n\u001b[0;32m    173\u001b[0m \n\u001b[0;32m    174\u001b[0m \u001b[38;5;124;03m    It is the same as the spherical harmonic :math:`Y_{n}^{m}(\\theta, \\phi)`\u001b[39;00m\n\u001b[0;32m    175\u001b[0m \u001b[38;5;124;03m    with :math:`\\phi = 0`.\u001b[39;00m\n\u001b[0;32m    176\u001b[0m \u001b[38;5;124;03m    \"\"\"\u001b[39;00m, diff_n\u001b[38;5;241m=\u001b[39m\u001b[38;5;241m0\u001b[39m\n\u001b[0;32m    177\u001b[0m )\n\u001b[0;32m    180\u001b[0m \u001b[38;5;129m@sph_legendre_p\u001b[39m\u001b[38;5;241m.\u001b[39m_override_key\n\u001b[0;32m    181\u001b[0m \u001b[38;5;28;01mdef\u001b[39;00m \u001b[38;5;21m_\u001b[39m(diff_n):\n\u001b[0;32m    182\u001b[0m     diff_n \u001b[38;5;241m=\u001b[39m _nonneg_int_or_fail(diff_n, \u001b[38;5;124m\"\u001b[39m\u001b[38;5;124mdiff_n\u001b[39m\u001b[38;5;124m\"\u001b[39m, strict\u001b[38;5;241m=\u001b[39m\u001b[38;5;28;01mFalse\u001b[39;00m)\n",
      "File \u001b[1;32mD:\\Program Files\\anaconda 3\\Lib\\site-packages\\scipy\\special\\_multiufuncs.py:41\u001b[0m, in \u001b[0;36mMultiUFunc.__init__\u001b[1;34m(self, ufunc_or_ufuncs, doc, force_complex_output, **default_kwargs)\u001b[0m\n\u001b[0;32m     39\u001b[0m \u001b[38;5;28;01mfor\u001b[39;00m ufunc \u001b[38;5;129;01min\u001b[39;00m ufuncs_iter:\n\u001b[0;32m     40\u001b[0m     \u001b[38;5;28;01mif\u001b[39;00m \u001b[38;5;129;01mnot\u001b[39;00m \u001b[38;5;28misinstance\u001b[39m(ufunc, np\u001b[38;5;241m.\u001b[39mufunc):\n\u001b[1;32m---> 41\u001b[0m         \u001b[38;5;28;01mraise\u001b[39;00m \u001b[38;5;167;01mValueError\u001b[39;00m(\u001b[38;5;124m\"\u001b[39m\u001b[38;5;124mAll ufuncs must have type `numpy.ufunc`.\u001b[39m\u001b[38;5;124m\"\u001b[39m\n\u001b[0;32m     42\u001b[0m                          \u001b[38;5;124mf\u001b[39m\u001b[38;5;124m\"\u001b[39m\u001b[38;5;124m Received \u001b[39m\u001b[38;5;132;01m{\u001b[39;00mufunc_or_ufuncs\u001b[38;5;132;01m}\u001b[39;00m\u001b[38;5;124m\"\u001b[39m)\n\u001b[0;32m     43\u001b[0m     seen_input_types\u001b[38;5;241m.\u001b[39madd(\u001b[38;5;28mfrozenset\u001b[39m(x\u001b[38;5;241m.\u001b[39msplit(\u001b[38;5;124m\"\u001b[39m\u001b[38;5;124m->\u001b[39m\u001b[38;5;124m\"\u001b[39m)[\u001b[38;5;241m0\u001b[39m] \u001b[38;5;28;01mfor\u001b[39;00m x \u001b[38;5;129;01min\u001b[39;00m ufunc\u001b[38;5;241m.\u001b[39mtypes))\n\u001b[0;32m     44\u001b[0m \u001b[38;5;28;01mif\u001b[39;00m \u001b[38;5;28mlen\u001b[39m(seen_input_types) \u001b[38;5;241m>\u001b[39m \u001b[38;5;241m1\u001b[39m:\n",
      "\u001b[1;31mValueError\u001b[0m: All ufuncs must have type `numpy.ufunc`. Received (<ufunc 'sph_legendre_p'>, <ufunc 'sph_legendre_p'>, <ufunc 'sph_legendre_p'>)"
     ]
    }
   ],
   "source": [
    "# Standard library imports\n",
    "import numpy as np\n",
    "\n",
    "# Third-party library imports\n",
    "import matplotlib.pyplot as plt\n",
    "import seaborn as sns\n",
    "from scipy.stats import entropy\n",
    "\n",
    "from sklearn.model_selection import train_test_split\n",
    "from sklearn.preprocessing import scale, OneHotEncoder\n",
    "from sklearn.datasets import load_digits\n",
    "from sklearn.preprocessing import StandardScaler\n",
    "\n",
    "\n",
    "# PyMC and PyTensor imports\n",
    "import pymc as pm\n",
    "import pymc.math as pmath\n",
    "import pytensor\n",
    "\n",
    "# ArviZ imports\n",
    "import arviz as az\n"
   ]
  },
  {
   "cell_type": "code",
   "execution_count": null,
   "metadata": {
    "id": "AB5uZkSe_6xx"
   },
   "outputs": [],
   "source": [
    "SEED = 9927\n",
    "rng = np.random.default_rng(SEED)\n",
    "\n",
    "floatX = pytensor.config.floatX"
   ]
  },
  {
   "cell_type": "markdown",
   "metadata": {
    "id": "7UEjWOqUIKcv"
   },
   "source": [
    "The dataset used for this project is the Digits dataset, which is part of the sklearn library. It consists of 8x8 images of hand-written digits, represented as 64-dimensional feature vectors (flattened pixel values). The dataset includes 10 classes (digits 0 through 9), but for this task, only a subset of classes—0, 1, 2, 3, and 4—was selected for training, validation, and testing. The filtered dataset contains 901 samples, each with 64 features. Additionally, the digit 6 was excluded from training and validation but retained as a separate set of 181 samples to test the model’s behavior on out-of-distribution (OOD) data.\n",
    "\n",
    "The filtered dataset was split into three subsets: a training set containing 576 samples, a validation set with 144 samples, and a test set consisting of 181 samples. The excluded OOD dataset was not used during training or validation but will be leveraged during testing to evaluate the model's ability to handle unseen data.\n",
    "\n",
    "Before splitting, all features were standardized using StandardScaler. The scaler was fitted on the training data to compute the mean and standard deviation, which were then used to transform the validation, test, and excluded datasets. This standardization ensures that all features are on the same scale, preventing any feature from dominating due to larger numeric ranges.\n"
   ]
  },
  {
   "cell_type": "code",
   "execution_count": null,
   "metadata": {
    "colab": {
     "base_uri": "https://localhost:8080/"
    },
    "id": "ZyKRK3YB7XRU",
    "outputId": "07cc1fe0-74e7-4c0b-9767-ad3ac42c3be9"
   },
   "outputs": [
    {
     "name": "stdout",
     "output_type": "stream",
     "text": [
      "(1797, 64)\n",
      "(1797,)\n",
      "[0 1 2 ... 8 9 8]\n"
     ]
    }
   ],
   "source": [
    "data, labels = load_digits(return_X_y=True)\n",
    "print(data.shape)\n",
    "print(labels.shape)\n",
    "print(labels)"
   ]
  },
  {
   "cell_type": "code",
   "execution_count": null,
   "metadata": {
    "colab": {
     "base_uri": "https://localhost:8080/"
    },
    "id": "tHWlfhUY7XRU",
    "outputId": "c0a2b39c-c783-49c3-da5c-a509d2bb1c13"
   },
   "outputs": [
    {
     "name": "stdout",
     "output_type": "stream",
     "text": [
      "X_filtered shape: (901, 64)\n",
      "y_filtered shape: (901,)\n",
      "X_excluded shape: (181, 64)\n",
      "y_excluded shape: (181,)\n",
      "\n",
      "X_train_scaled shape: (576, 64)\n",
      "X_val_scaled shape: (144, 64)\n",
      "X_test_scaled shape: (181, 64)\n"
     ]
    }
   ],
   "source": [
    "selected_classes = [0, 1, 2, 3, 4]\n",
    "mask = [label in selected_classes for label in labels]\n",
    "X_filtered = data[mask]\n",
    "y_filtered = labels[mask]\n",
    "\n",
    "# Verifică forma noilor array-uri\n",
    "print(f\"X_filtered shape: {X_filtered.shape}\")\n",
    "print(f\"y_filtered shape: {y_filtered.shape}\")\n",
    "\n",
    "X_excluded = data[labels == 6]\n",
    "y_excluded = labels[labels == 6]\n",
    "print(f\"X_excluded shape: {X_excluded.shape}\")\n",
    "print(f\"y_excluded shape: {y_excluded.shape}\")\n",
    "print()\n",
    "\n",
    "X_train, X_test, y_train, y_test = train_test_split(X_filtered, y_filtered, test_size=0.2, random_state=SEED)\n",
    "X_train, X_val, y_train, y_val = train_test_split(X_train, y_train, test_size=0.2, random_state=SEED)\n",
    "\n",
    "scaler = StandardScaler()\n",
    "X_train  = scaler.fit_transform(X_train)  # Învățăm și aplicăm scalarea pe datele de antrenare\n",
    "X_val  = scaler.transform(X_val)  # Aplicăm scalarea pe datele de validare\n",
    "X_test  = scaler.transform(X_test)  # Aplicăm scalarea pe datele de test\n",
    "X_excluded = scaler.transform(X_excluded)\n",
    "\n",
    "X_train = X_train.astype(floatX)\n",
    "X_val = X_val.astype(floatX)\n",
    "X_test = X_test.astype(floatX)\n",
    "X_excluded = X_excluded.astype(floatX)\n",
    "\n",
    "\n",
    "# Afișează dimensiunile seturilor scalate\n",
    "print(f\"X_train_scaled shape: {X_train.shape}\")\n",
    "print(f\"X_val_scaled shape: {X_val.shape}\")\n",
    "print(f\"X_test_scaled shape: {X_test.shape}\")\n",
    "\n",
    "\n"
   ]
  },
  {
   "cell_type": "code",
   "execution_count": null,
   "metadata": {
    "colab": {
     "base_uri": "https://localhost:8080/",
     "height": 1000
    },
    "id": "0KulySOX7XRU",
    "outputId": "80752b72-2b5b-4272-e830-8d7776b84c31"
   },
   "outputs": [
    {
     "name": "stdout",
     "output_type": "stream",
     "text": [
      "Proporțiile claselor pentru Antrenare:\n",
      "  Clasa 0: 115 (19.97%)\n",
      "  Clasa 1: 108 (18.75%)\n",
      "  Clasa 2: 120 (20.83%)\n",
      "  Clasa 3: 122 (21.18%)\n",
      "  Clasa 4: 111 (19.27%)\n",
      "\n"
     ]
    },
    {
     "data": {
      "image/png": "[encoded data removed]",
      "text/plain": [
       "<Figure size 800x500 with 1 Axes>"
      ]
     },
     "metadata": {},
     "output_type": "display_data"
    },
    {
     "name": "stdout",
     "output_type": "stream",
     "text": [
      "Proporțiile claselor pentru Validare:\n",
      "  Clasa 0: 28 (19.44%)\n",
      "  Clasa 1: 33 (22.92%)\n",
      "  Clasa 2: 25 (17.36%)\n",
      "  Clasa 3: 26 (18.06%)\n",
      "  Clasa 4: 32 (22.22%)\n",
      "\n"
     ]
    },
    {
     "data": {
      "image/png": "[encoded data removed]",
      "text/plain": [
       "<Figure size 800x500 with 1 Axes>"
      ]
     },
     "metadata": {},
     "output_type": "display_data"
    },
    {
     "name": "stdout",
     "output_type": "stream",
     "text": [
      "Proporțiile claselor pentru Test:\n",
      "  Clasa 0: 35 (19.34%)\n",
      "  Clasa 1: 41 (22.65%)\n",
      "  Clasa 2: 32 (17.68%)\n",
      "  Clasa 3: 35 (19.34%)\n",
      "  Clasa 4: 38 (20.99%)\n",
      "\n"
     ]
    },
    {
     "data": {
      "image/png": "[encoded data removed]",
      "text/plain": [
       "<Figure size 800x500 with 1 Axes>"
      ]
     },
     "metadata": {},
     "output_type": "display_data"
    },
    {
     "name": "stdout",
     "output_type": "stream",
     "text": [
      "Proporțiile claselor pentru Excludere:\n",
      "  Clasa 6: 181 (100.00%)\n",
      "\n"
     ]
    },
    {
     "data": {
      "image/png": "[encoded data removed]",
      "text/plain": [
       "<Figure size 800x500 with 1 Axes>"
      ]
     },
     "metadata": {},
     "output_type": "display_data"
    }
   ],
   "source": [
    "import matplotlib.pyplot as plt\n",
    "from collections import Counter\n",
    "\n",
    "# Funcție pentru a calcula proporțiile claselor și a le afișa\n",
    "def display_class_proportions_and_plot(labels, set_name):\n",
    "    class_counts = Counter(labels)  # Numărăm aparițiile fiecărei clase\n",
    "    total = sum(class_counts.values())  # Calculăm totalul etichetelor\n",
    "\n",
    "    # Calculăm proporțiile claselor\n",
    "    classes = sorted(class_counts.keys())\n",
    "    proportions = [class_counts[cls] / total for cls in classes]\n",
    "\n",
    "    # Afișăm proporțiile claselor\n",
    "    print(f\"Proporțiile claselor pentru {set_name}:\")\n",
    "    for cls, count in sorted(class_counts.items()):\n",
    "        proportion = count / total\n",
    "        print(f\"  Clasa {cls}: {count} ({proportion:.2%})\")\n",
    "    print()\n",
    "\n",
    "    # Creăm un bar plot pentru proporțiile claselor\n",
    "    plt.figure(figsize=(8, 5))\n",
    "    plt.bar(classes, proportions, color='skyblue', alpha=0.8, edgecolor='black')\n",
    "    plt.title(f\"Distribuția claselor - {set_name}\")\n",
    "    plt.xlabel(\"Clase\")\n",
    "    plt.ylabel(\"Proporție\")\n",
    "    plt.xticks(classes)  # Setăm clasele pe axa X\n",
    "    plt.ylim(0, 1)  # Axa Y între 0 și 1 (proporție)\n",
    "    plt.grid(axis='y', linestyle='--', alpha=0.7)\n",
    "    plt.show()\n",
    "\n",
    "# Afișăm și vizualizăm proporțiile pentru fiecare set\n",
    "display_class_proportions_and_plot(y_train, \"Antrenare\")\n",
    "display_class_proportions_and_plot(y_val, \"Validare\")\n",
    "display_class_proportions_and_plot(y_test, \"Test\")\n",
    "display_class_proportions_and_plot(y_excluded, \"Excludere\")\n"
   ]
  },
  {
   "cell_type": "code",
   "execution_count": null,
   "metadata": {
    "id": "ZG72c6H9BPot"
   },
   "outputs": [],
   "source": [
    "# X, y = load_digits(return_X_y=True)\n",
    "\n",
    "# X_used = X[np.isin(y, [0, 1, 2, 3, 5])]\n",
    "# y_used = y[np.isin(y, [0, 1, 2, 3, 5])]\n",
    "\n",
    "# X_novel = X[y == 6]\n",
    "# y_novel = y[y == 6]\n",
    "\n",
    "# X_train, X_test, y_train, y_test = train_test_split(X_used, y_used, test_size=0.2, random_state=SEED)\n",
    "\n",
    "# X_train, X_val, y_train, y_val = train_test_split(X_train, y_train, test_size=0.2, random_state=SEED)\n",
    "\n",
    "# scaler = StandardScaler()\n",
    "# X_train = scaler.fit_transform(X_train).astype(floatX)\n",
    "# X_val = scaler.transform(X_val).astype(floatX)\n",
    "# X_test = scaler.transform(X_test).astype(floatX)\n",
    "# X_novel = scaler.transform(X_novel).astype(floatX)"
   ]
  },
  {
   "cell_type": "code",
   "execution_count": null,
   "metadata": {
    "id": "CAJ5kjITEHxN"
   },
   "outputs": [],
   "source": [
    "# class_to_label = {0:0, 1:1, 2:2, 3:3, 5:4}\n",
    "# y_train = np.array([class_to_label[label] for label in y_train])\n",
    "# y_val = np.array([class_to_label[label] for label in y_val])\n",
    "# y_test = np.array([class_to_label[label] for label in y_test])"
   ]
  },
  {
   "cell_type": "code",
   "execution_count": null,
   "metadata": {
    "id": "86cTJz7wEHp2"
   },
   "outputs": [],
   "source": [
    "y_train = y_train.astype(floatX)\n",
    "y_val = y_val.astype(floatX)\n",
    "y_test = y_test.astype(floatX)\n",
    "y_novel = y_excluded.astype(floatX)"
   ]
  },
  {
   "cell_type": "code",
   "execution_count": null,
   "metadata": {
    "colab": {
     "base_uri": "https://localhost:8080/"
    },
    "id": "0IX4urPMDFTE",
    "outputId": "c7933823-7931-46d6-e3c3-b11584bda8a9"
   },
   "outputs": [
    {
     "name": "stdout",
     "output_type": "stream",
     "text": [
      "(576, 64) (576,)\n",
      "(144, 64) (144,)\n",
      "(181, 64) (181,)\n",
      "(181, 64) (181,)\n"
     ]
    }
   ],
   "source": [
    "print(X_train.shape, y_train.shape)\n",
    "print(X_val.shape, y_val.shape)\n",
    "print(X_test.shape, y_test.shape)\n",
    "print(X_excluded.shape, y_novel.shape)"
   ]
  },
  {
   "cell_type": "code",
   "execution_count": null,
   "metadata": {
    "id": "s6N7pKYQFYKO"
   },
   "outputs": [],
   "source": [
    "def construct_bnn(network_input, bnn_output, hidden_layer_neurons, class_nr):\n",
    "  # Initialize random weights between each layer\n",
    "  init_1 = rng.standard_normal(size=(network_input.shape[1], hidden_layer_neurons)).astype(floatX)\n",
    "  init_2 = rng.standard_normal(size=(hidden_layer_neurons, hidden_layer_neurons)).astype(floatX)\n",
    "  init_out = rng.standard_normal(size=(hidden_layer_neurons, class_nr)).astype(floatX)\n",
    "\n",
    "  # Define coords parameter for training the model\n",
    "  coords = {\n",
    "      \"hidden_layer_1\": np.arange(hidden_layer_neurons),\n",
    "      \"hidden_layer_2\": np.arange(hidden_layer_neurons),\n",
    "      \"output_layer\": np.arange(class_nr),\n",
    "      \"train_cols\": np.arange(network_input.shape[1]),\n",
    "  }\n",
    "\n",
    "  with pm.Model(coords=coords) as bayesian_neural_network:\n",
    "    network_input = pm.Data(\"network_input\", X_train, dims=(\"obs_id\", \"train_cols\"))\n",
    "    bnn_output = pm.Data(\"bnn_output\", y_train, dims=\"obs_id\")\n",
    "\n",
    "    # Weights from input to first hidden layer\n",
    "    weights_in_1 = pm.Normal(\"w_in_1\", mu=0, sigma=1, initval=init_1, dims=(\"train_cols\", \"hidden_layer_1\"))\n",
    "\n",
    "    # Weights from first hidden layer to second hidden layer\n",
    "    weights_1_2 = pm.Normal(\"w_1_2\", mu=0, sigma=1, initval=init_2, dims=(\"hidden_layer_1\", \"hidden_layer_2\"))\n",
    "\n",
    "    # Weights from second hidden layer to output layer\n",
    "    weights_2_out = pm.Normal(\"w_2_out\", mu=0, sigma=1, initval=init_out, dims=(\"hidden_layer_2\", \"output_layer\"))\n",
    "\n",
    "    # Build bayesian neural network using tanh activation function\n",
    "    act_1 = pm.math.tanh(pm.math.dot(network_input, weights_in_1))\n",
    "    act_2 = pm.math.tanh(pm.math.dot(act_1, weights_1_2))\n",
    "    act_out = pm.math.softmax(pm.math.dot(act_2, weights_2_out), axis=-1)\n",
    "\n",
    "    # Multiclass clasification -> Categorical likelihood\n",
    "    out = pm.Categorical(\"out\", p=act_out, observed=bnn_output, total_size=y_train.shape[0], dims=\"obs_id\")\n",
    "    act_out = pm.Deterministic(\"act_out\", act_out)\n",
    "\n",
    "  return bayesian_neural_network"
   ]
  },
  {
   "cell_type": "code",
   "execution_count": null,
   "metadata": {
    "id": "mVfT65WBI4dN"
   },
   "outputs": [],
   "source": [
    "hidden_layer_neurons = 18\n",
    "class_nr = len(set(y_train))\n",
    "\n",
    "bnn_model = construct_bnn(X_train, y_train, hidden_layer_neurons, class_nr)"
   ]
  },
  {
   "cell_type": "code",
   "execution_count": null,
   "metadata": {
    "colab": {
     "base_uri": "https://localhost:8080/",
     "height": 34,
     "referenced_widgets": [
      "fd4cc8d523d94fc6a60089a96d2d42cd",
      "dd358ef856f143058ac55ed13f3da474"
     ]
    },
    "id": "EsKYWRfiJ5Tm",
    "outputId": "0d9f5b9c-216e-49f4-dd92-85b071cdccec"
   },
   "outputs": [
    {
     "data": {
      "application/vnd.jupyter.widget-view+json": {
       "model_id": "fd4cc8d523d94fc6a60089a96d2d42cd",
       "version_major": 2,
       "version_minor": 0
      },
      "text/plain": [
       "Output()"
      ]
     },
     "metadata": {},
     "output_type": "display_data"
    },
    {
     "data": {
      "text/html": [
       "<pre style=\"white-space:pre;overflow-x:auto;line-height:normal;font-family:Menlo,'DejaVu Sans Mono',consolas,'Courier New',monospace\"></pre>\n"
      ],
      "text/plain": []
     },
     "metadata": {},
     "output_type": "display_data"
    }
   ],
   "source": [
    "with bnn_model:\n",
    "  approx = pm.fit(n=20000)"
   ]
  },
  {
   "cell_type": "code",
   "execution_count": null,
   "metadata": {
    "colab": {
     "base_uri": "https://localhost:8080/",
     "height": 453
    },
    "id": "sdpoIg3_KMpv",
    "outputId": "8860c884-e159-41de-e15c-2f78a76daa5c"
   },
   "outputs": [
    {
     "data": {
      "image/png": "[encoded data removed]",
      "text/plain": [
       "<Figure size 640x480 with 1 Axes>"
      ]
     },
     "metadata": {},
     "output_type": "display_data"
    }
   ],
   "source": [
    "plt.plot(approx.hist, alpha=0.3)\n",
    "plt.ylabel(\"ELBO\")\n",
    "plt.xlabel(\"iteration\")\n",
    "plt.show()"
   ]
  },
  {
   "cell_type": "code",
   "execution_count": null,
   "metadata": {
    "colab": {
     "base_uri": "https://localhost:8080/",
     "height": 34,
     "referenced_widgets": [
      "24f8a50dd4644956ae3870f1ecf1b802",
      "1b7083c989b7484996abae839a27115e"
     ]
    },
    "id": "MnrGlAC_FDUn",
    "outputId": "195b6562-1982-4652-a016-8e5baa2e1507"
   },
   "outputs": [
    {
     "data": {
      "application/vnd.jupyter.widget-view+json": {
       "model_id": "24f8a50dd4644956ae3870f1ecf1b802",
       "version_major": 2,
       "version_minor": 0
      },
      "text/plain": [
       "Output()"
      ]
     },
     "metadata": {},
     "output_type": "display_data"
    },
    {
     "data": {
      "text/html": [
       "<pre style=\"white-space:pre;overflow-x:auto;line-height:normal;font-family:Menlo,'DejaVu Sans Mono',consolas,'Courier New',monospace\"></pre>\n"
      ],
      "text/plain": []
     },
     "metadata": {},
     "output_type": "display_data"
    }
   ],
   "source": [
    "trace = approx.sample(draws=5000)\n",
    "with bnn_model:\n",
    "  pm.set_data({\"network_input\": X_val, \"bnn_output\": y_val}, coords={\n",
    "    \"hidden_layer_1\": np.arange(hidden_layer_neurons),\n",
    "    \"hidden_layer_2\": np.arange(hidden_layer_neurons),\n",
    "    \"output_layer\": np.arange(class_nr),\n",
    "    \"train_cols\": np.arange(X_val.shape[1])\n",
    "  })\n",
    "  ppc = pm.sample_posterior_predictive(trace, var_names=[\"out\", \"act_out\"])\n",
    "  trace.extend(ppc)"
   ]
  },
  {
   "cell_type": "code",
   "execution_count": null,
   "metadata": {
    "colab": {
     "base_uri": "https://localhost:8080/",
     "height": 34,
     "referenced_widgets": [
      "92973ffcce6c4ba68c7aa01f61adc37c",
      "f847d690980b491aa59d9212ba08986b"
     ]
    },
    "id": "hc17K1dDigKH",
    "outputId": "24d4d27f-5fe1-41c8-8a23-7b2368ecff5c"
   },
   "outputs": [
    {
     "data": {
      "application/vnd.jupyter.widget-view+json": {
       "model_id": "92973ffcce6c4ba68c7aa01f61adc37c",
       "version_major": 2,
       "version_minor": 0
      },
      "text/plain": [
       "Output()"
      ]
     },
     "metadata": {},
     "output_type": "display_data"
    },
    {
     "data": {
      "text/html": [
       "<pre style=\"white-space:pre;overflow-x:auto;line-height:normal;font-family:Menlo,'DejaVu Sans Mono',consolas,'Courier New',monospace\"></pre>\n"
      ],
      "text/plain": []
     },
     "metadata": {},
     "output_type": "display_data"
    }
   ],
   "source": [
    "trace = approx.sample(draws=5000)\n",
    "with bnn_model:\n",
    "  pm.set_data({\"network_input\": X_test}, coords={\n",
    "    \"hidden_layer_1\": np.arange(hidden_layer_neurons),\n",
    "    \"hidden_layer_2\": np.arange(hidden_layer_neurons),\n",
    "    \"output_layer\": np.arange(class_nr),\n",
    "    \"train_cols\": np.arange(X_test.shape[1])\n",
    "\n",
    "  })\n",
    "  ppc = pm.sample_posterior_predictive(trace, var_names=[\"out\", \"act_out\"])\n",
    "  trace.extend(ppc)"
   ]
  },
  {
   "cell_type": "code",
   "execution_count": null,
   "metadata": {
    "colab": {
     "base_uri": "https://localhost:8080/"
    },
    "id": "nsb8h9NNmXiJ",
    "outputId": "e781d62b-c894-4a39-8c5d-48fa3b1a47bc"
   },
   "outputs": [
    {
     "name": "stdout",
     "output_type": "stream",
     "text": [
      "<xarray.DataArray 'out' (chain: 1, draw: 5000, obs_id: 181)> Size: 7MB\n",
      "array([[[2, 0, 4, ..., 3, 3, 2],\n",
      "        [2, 0, 4, ..., 3, 3, 3],\n",
      "        [2, 0, 4, ..., 3, 2, 3],\n",
      "        ...,\n",
      "        [2, 0, 4, ..., 3, 3, 3],\n",
      "        [2, 0, 4, ..., 3, 3, 3],\n",
      "        [2, 0, 4, ..., 3, 3, 3]]])\n",
      "Coordinates:\n",
      "  * chain    (chain) int64 8B 0\n",
      "  * draw     (draw) int64 40kB 0 1 2 3 4 5 6 ... 4994 4995 4996 4997 4998 4999\n",
      "  * obs_id   (obs_id) int64 1kB 0 1 2 3 4 5 6 7 ... 174 175 176 177 178 179 180\n",
      "(1, 5000, 181)\n"
     ]
    }
   ],
   "source": [
    "print(ppc.posterior_predictive['out'])\n",
    "print(ppc.posterior_predictive['out'].shape)"
   ]
  },
  {
   "cell_type": "code",
   "execution_count": null,
   "metadata": {
    "colab": {
     "base_uri": "https://localhost:8080/"
    },
    "id": "b-MiIihA7XRW",
    "outputId": "8527a290-a506-4f45-ce81-b2bc74ceb62e"
   },
   "outputs": [
    {
     "name": "stdout",
     "output_type": "stream",
     "text": [
      "Accuracy: 0.9834254143646409\n"
     ]
    }
   ],
   "source": [
    "\n",
    "def calculate_accuracy(ppc, y_test, floatX):\n",
    "    \"\"\"\n",
    "    Calculează predicțiile și acuratețea unui model pe baza mostrelor din posterior predictive.\n",
    "\n",
    "    Parametri:\n",
    "        ppc (dict): Posterior predictive din modelul Bayesian.\n",
    "        y_test (array): Etichetele reale pentru setul de test.\n",
    "        floatX (dtype): Tipul de date pentru predicții.\n",
    "\n",
    "    Returnează:\n",
    "        tuple: Un array cu predicțiile și acuratețea (accuracy).\n",
    "    \"\"\"\n",
    "    preds = []  # Lista pentru predicții\n",
    "\n",
    "    # Iterăm prin fiecare punct de test\n",
    "    for test_point in range(ppc['out'].shape[2]):\n",
    "        class_votes = []  # Lista pentru voturile fiecărei clase\n",
    "\n",
    "        for draw in ppc['out'][0]:  # Fiecare draw din posterior predictive\n",
    "            class_votes.append(draw[test_point])\n",
    "\n",
    "        # Determinăm clasa cu cele mai multe voturi\n",
    "        predicted_class = np.argmax(np.bincount(class_votes))\n",
    "        preds.append(predicted_class.astype(floatX))\n",
    "\n",
    "    # Convertim lista de predicții într-un array\n",
    "    preds = np.array(preds)\n",
    "\n",
    "    # Calculăm acuratețea\n",
    "    accuracy = (preds == y_test).mean()\n",
    "    print(f\"Accuracy: {accuracy}\")\n",
    "\n",
    "    return preds, accuracy\n",
    "\n",
    "preds, accuracy = calculate_accuracy(ppc.posterior_predictive, y_test, floatX)\n"
   ]
  },
  {
   "cell_type": "markdown",
   "metadata": {
    "id": "UiD-5-R97XRW"
   },
   "source": [
    "UNCERTANTY"
   ]
  },
  {
   "cell_type": "code",
   "execution_count": null,
   "metadata": {
    "colab": {
     "base_uri": "https://localhost:8080/",
     "height": 523
    },
    "id": "bzeCLFMo7XRW",
    "outputId": "84fdfd04-1706-4ea0-fc4e-42439e116613"
   },
   "outputs": [
    {
     "name": "stdout",
     "output_type": "stream",
     "text": [
      "(1, 5000, 181, 5)\n"
     ]
    },
    {
     "data": {
      "image/png": "[encoded data removed]",
      "text/plain": [
       "<Figure size 800x500 with 1 Axes>"
      ]
     },
     "metadata": {},
     "output_type": "display_data"
    },
    {
     "data": {
      "text/plain": [
       "181"
      ]
     },
     "execution_count": 19,
     "metadata": {},
     "output_type": "execute_result"
    }
   ],
   "source": [
    "def calculate_uncertainty(predictions, label='Test'):\n",
    "    \"\"\"\n",
    "    Calculează incertitudinea totală (suma deviațiilor standard) pentru fiecare punct de test.\n",
    "    \"\"\"\n",
    "    uncertainty_values = []  # Lista pentru incertitudini totale\n",
    "    print(predictions.shape)\n",
    "\n",
    "    for test_idx in range(predictions.shape[2]):\n",
    "        # Extragem predicțiile softmax pentru punctul curent\n",
    "        softmax_draws = predictions[0, :, test_idx, :]  # Dimensiune: (n_draws, n_classes)\n",
    "\n",
    "        # Calculăm deviația standard pentru fiecare clasă\n",
    "        per_class_std = np.std(softmax_draws, axis=0)  # Dimensiune: (n_classes,)\n",
    "\n",
    "        # Suma deviațiilor standard (incertitudinea totală)\n",
    "        total_uncertainty = per_class_std.sum()\n",
    "\n",
    "        # Salvăm incertitudinea totală\n",
    "        uncertainty_values.append(total_uncertainty)\n",
    "\n",
    "    # Convertim lista de incertitudini într-un array numpy\n",
    "    uncertainty_array = np.array(uncertainty_values)\n",
    "\n",
    "        # Vizualizăm distribuția incertitudinilor\n",
    "    plt.figure(figsize=(8, 5))\n",
    "    plt.hist(uncertainty_array, bins=20, color='green', alpha=0.75, edgecolor='black')\n",
    "    plt.title(f\"{label} Posterior Predictive STD on Softmax\")\n",
    "    plt.xlabel(\"Standard Deviation\")\n",
    "    plt.ylabel(\"Frequency\")\n",
    "    plt.show()\n",
    "\n",
    "    return uncertainty_array\n",
    "\n",
    "# Apelarea funcției cu aceleași date\n",
    "uncertainty_array = calculate_uncertainty(ppc.posterior_predictive['act_out'], label='Test')\n",
    "len(uncertainty_array)"
   ]
  },
  {
   "cell_type": "code",
   "execution_count": null,
   "metadata": {
    "colab": {
     "base_uri": "https://localhost:8080/",
     "height": 1000
    },
    "collapsed": true,
    "id": "xUKhRj-m7XRW",
    "outputId": "99480a76-dbd3-4eff-81ad-7ab616235898"
   },
   "outputs": [
    {
     "name": "stdout",
     "output_type": "stream",
     "text": [
      "Sumă probabilități pentru punctul 0: 1.000000000000002\n",
      "Sumă probabilități pentru punctul 1: 1.000000000000003\n",
      "Sumă probabilități pentru punctul 2: 0.9999999999999988\n",
      "Sumă probabilități pentru punctul 3: 1.0000000000000009\n",
      "Sumă probabilități pentru punctul 4: 0.9999999999999973\n",
      "Sumă probabilități pentru punctul 5: 1.0000000000000016\n",
      "Sumă probabilități pentru punctul 6: 0.9999999999999962\n",
      "Sumă probabilități pentru punctul 7: 0.9999999999999944\n",
      "Sumă probabilități pentru punctul 8: 0.9999999999999997\n",
      "Sumă probabilități pentru punctul 9: 1.0000000000000009\n",
      "Sumă probabilități pentru punctul 10: 1.000000000000001\n",
      "Sumă probabilități pentru punctul 11: 0.9999999999999987\n",
      "Sumă probabilități pentru punctul 12: 0.9999999999999971\n",
      "Sumă probabilități pentru punctul 13: 0.9999999999999981\n",
      "Sumă probabilități pentru punctul 14: 0.9999999999999991\n",
      "Sumă probabilități pentru punctul 15: 0.9999999999999998\n",
      "Sumă probabilități pentru punctul 16: 0.9999999999999972\n",
      "Sumă probabilități pentru punctul 17: 0.999999999999998\n",
      "Sumă probabilități pentru punctul 18: 1.0\n",
      "Sumă probabilități pentru punctul 19: 1.000000000000001\n",
      "Sumă probabilități pentru punctul 20: 0.9999999999999999\n",
      "Sumă probabilități pentru punctul 21: 1.0000000000000004\n",
      "Sumă probabilități pentru punctul 22: 0.9999999999999974\n",
      "Sumă probabilități pentru punctul 23: 1.0000000000000009\n",
      "Sumă probabilități pentru punctul 24: 1.0000000000000004\n",
      "Sumă probabilități pentru punctul 25: 0.9999999999999968\n",
      "Sumă probabilități pentru punctul 26: 1.0000000000000018\n",
      "Sumă probabilități pentru punctul 27: 0.9999999999999999\n",
      "Sumă probabilități pentru punctul 28: 0.9999999999999963\n",
      "Sumă probabilități pentru punctul 29: 0.9999999999999984\n",
      "Sumă probabilități pentru punctul 30: 1.0000000000000018\n",
      "Sumă probabilități pentru punctul 31: 1.0000000000000009\n",
      "Sumă probabilități pentru punctul 32: 0.9999999999999993\n",
      "Sumă probabilități pentru punctul 33: 1.0000000000000009\n",
      "Sumă probabilități pentru punctul 34: 1.0000000000000002\n",
      "Sumă probabilități pentru punctul 35: 1.000000000000001\n",
      "Sumă probabilități pentru punctul 36: 0.9999999999999999\n",
      "Sumă probabilități pentru punctul 37: 0.9999999999999983\n",
      "Sumă probabilități pentru punctul 38: 1.0000000000000024\n",
      "Sumă probabilități pentru punctul 39: 0.9999999999999992\n",
      "Sumă probabilități pentru punctul 40: 1.0000000000000013\n",
      "Sumă probabilități pentru punctul 41: 0.9999999999999971\n",
      "Sumă probabilități pentru punctul 42: 0.9999999999999983\n",
      "Sumă probabilități pentru punctul 43: 0.9999999999999989\n",
      "Sumă probabilități pentru punctul 44: 0.9999999999999974\n",
      "Sumă probabilități pentru punctul 45: 0.9999999999999973\n",
      "Sumă probabilități pentru punctul 46: 1.000000000000001\n",
      "Sumă probabilități pentru punctul 47: 0.9999999999999993\n",
      "Sumă probabilități pentru punctul 48: 0.9999999999999973\n",
      "Sumă probabilități pentru punctul 49: 1.0000000000000004\n",
      "Sumă probabilități pentru punctul 50: 0.9999999999999981\n",
      "Sumă probabilități pentru punctul 51: 1.0000000000000027\n",
      "Sumă probabilități pentru punctul 52: 0.9999999999999996\n",
      "Sumă probabilități pentru punctul 53: 0.9999999999999999\n",
      "Sumă probabilități pentru punctul 54: 1.0000000000000013\n",
      "Sumă probabilități pentru punctul 55: 1.0\n",
      "Sumă probabilități pentru punctul 56: 1.000000000000002\n",
      "Sumă probabilități pentru punctul 57: 1.0\n",
      "Sumă probabilități pentru punctul 58: 1.0000000000000004\n",
      "Sumă probabilități pentru punctul 59: 0.9999999999999973\n",
      "Sumă probabilități pentru punctul 60: 0.999999999999999\n",
      "Sumă probabilități pentru punctul 61: 0.9999999999999994\n",
      "Sumă probabilități pentru punctul 62: 0.9999999999999984\n",
      "Sumă probabilități pentru punctul 63: 1.0000000000000002\n",
      "Sumă probabilități pentru punctul 64: 0.9999999999999992\n",
      "Sumă probabilități pentru punctul 65: 0.9999999999999989\n",
      "Sumă probabilități pentru punctul 66: 1.0\n",
      "Sumă probabilități pentru punctul 67: 0.9999999999999976\n",
      "Sumă probabilități pentru punctul 68: 1.0000000000000033\n",
      "Sumă probabilități pentru punctul 69: 0.9999999999999968\n",
      "Sumă probabilități pentru punctul 70: 0.9999999999999998\n",
      "Sumă probabilități pentru punctul 71: 1.000000000000002\n",
      "Sumă probabilități pentru punctul 72: 1.0000000000000013\n",
      "Sumă probabilități pentru punctul 73: 1.0000000000000022\n",
      "Sumă probabilități pentru punctul 74: 0.9999999999999986\n",
      "Sumă probabilități pentru punctul 75: 0.9999999999999999\n",
      "Sumă probabilități pentru punctul 76: 1.0000000000000004\n",
      "Sumă probabilități pentru punctul 77: 0.9999999999999972\n",
      "Sumă probabilități pentru punctul 78: 1.0000000000000009\n",
      "Sumă probabilități pentru punctul 79: 0.9999999999999996\n",
      "Sumă probabilități pentru punctul 80: 1.000000000000001\n",
      "Sumă probabilități pentru punctul 81: 0.9999999999999998\n",
      "Sumă probabilități pentru punctul 82: 1.000000000000001\n",
      "Sumă probabilități pentru punctul 83: 1.0000000000000018\n",
      "Sumă probabilități pentru punctul 84: 0.999999999999999\n",
      "Sumă probabilități pentru punctul 85: 1.0000000000000002\n",
      "Sumă probabilități pentru punctul 86: 0.9999999999999961\n",
      "Sumă probabilități pentru punctul 87: 0.9999999999999988\n",
      "Sumă probabilități pentru punctul 88: 0.999999999999998\n",
      "Sumă probabilități pentru punctul 89: 0.9999999999999991\n",
      "Sumă probabilități pentru punctul 90: 1.0000000000000016\n",
      "Sumă probabilități pentru punctul 91: 0.9999999999999986\n",
      "Sumă probabilități pentru punctul 92: 0.999999999999999\n",
      "Sumă probabilități pentru punctul 93: 0.9999999999999982\n",
      "Sumă probabilități pentru punctul 94: 0.9999999999999976\n",
      "Sumă probabilități pentru punctul 95: 1.0000000000000029\n",
      "Sumă probabilități pentru punctul 96: 1.0\n",
      "Sumă probabilități pentru punctul 97: 0.9999999999999973\n",
      "Sumă probabilități pentru punctul 98: 0.9999999999999996\n",
      "Sumă probabilități pentru punctul 99: 1.0000000000000002\n",
      "Sumă probabilități pentru punctul 100: 1.0000000000000002\n",
      "Sumă probabilități pentru punctul 101: 1.0000000000000002\n",
      "Sumă probabilități pentru punctul 102: 1.0000000000000036\n",
      "Sumă probabilități pentru punctul 103: 0.9999999999999996\n",
      "Sumă probabilități pentru punctul 104: 1.0000000000000013\n",
      "Sumă probabilități pentru punctul 105: 0.9999999999999986\n",
      "Sumă probabilități pentru punctul 106: 1.0000000000000042\n",
      "Sumă probabilități pentru punctul 107: 0.9999999999999992\n",
      "Sumă probabilități pentru punctul 108: 0.9999999999999994\n",
      "Sumă probabilități pentru punctul 109: 1.0000000000000007\n",
      "Sumă probabilități pentru punctul 110: 0.9999999999999987\n",
      "Sumă probabilități pentru punctul 111: 1.0000000000000002\n",
      "Sumă probabilități pentru punctul 112: 0.999999999999999\n",
      "Sumă probabilități pentru punctul 113: 1.0\n",
      "Sumă probabilități pentru punctul 114: 1.0000000000000004\n",
      "Sumă probabilități pentru punctul 115: 1.0000000000000007\n",
      "Sumă probabilități pentru punctul 116: 1.0000000000000004\n",
      "Sumă probabilități pentru punctul 117: 0.9999999999999991\n",
      "Sumă probabilități pentru punctul 118: 1.000000000000001\n",
      "Sumă probabilități pentru punctul 119: 0.9999999999999992\n",
      "Sumă probabilități pentru punctul 120: 0.999999999999997\n",
      "Sumă probabilități pentru punctul 121: 0.999999999999999\n",
      "Sumă probabilități pentru punctul 122: 0.999999999999998\n",
      "Sumă probabilități pentru punctul 123: 0.9999999999999969\n",
      "Sumă probabilități pentru punctul 124: 0.9999999999999996\n",
      "Sumă probabilități pentru punctul 125: 1.0000000000000018\n",
      "Sumă probabilități pentru punctul 126: 1.0000000000000024\n",
      "Sumă probabilități pentru punctul 127: 0.9999999999999997\n",
      "Sumă probabilități pentru punctul 128: 0.9999999999999992\n",
      "Sumă probabilități pentru punctul 129: 0.9999999999999996\n",
      "Sumă probabilități pentru punctul 130: 1.0000000000000007\n",
      "Sumă probabilități pentru punctul 131: 0.9999999999999988\n",
      "Sumă probabilități pentru punctul 132: 1.0\n",
      "Sumă probabilități pentru punctul 133: 1.0\n",
      "Sumă probabilități pentru punctul 134: 0.9999999999999993\n",
      "Sumă probabilități pentru punctul 135: 0.9999999999999979\n",
      "Sumă probabilități pentru punctul 136: 1.0000000000000007\n",
      "Sumă probabilități pentru punctul 137: 1.0000000000000018\n",
      "Sumă probabilități pentru punctul 138: 1.0000000000000002\n",
      "Sumă probabilități pentru punctul 139: 0.9999999999999971\n",
      "Sumă probabilități pentru punctul 140: 1.0000000000000022\n",
      "Sumă probabilități pentru punctul 141: 1.0\n",
      "Sumă probabilități pentru punctul 142: 0.999999999999999\n",
      "Sumă probabilități pentru punctul 143: 1.0000000000000007\n",
      "Sumă probabilități pentru punctul 144: 1.0000000000000002\n",
      "Sumă probabilități pentru punctul 145: 0.9999999999999997\n",
      "Sumă probabilități pentru punctul 146: 1.0000000000000009\n",
      "Sumă probabilități pentru punctul 147: 1.0000000000000013\n",
      "Sumă probabilități pentru punctul 148: 0.9999999999999988\n",
      "Sumă probabilități pentru punctul 149: 0.9999999999999996\n",
      "Sumă probabilități pentru punctul 150: 1.0000000000000002\n",
      "Sumă probabilități pentru punctul 151: 0.9999999999999973\n",
      "Sumă probabilități pentru punctul 152: 1.0000000000000022\n",
      "Sumă probabilități pentru punctul 153: 1.0000000000000002\n",
      "Sumă probabilități pentru punctul 154: 0.9999999999999978\n",
      "Sumă probabilități pentru punctul 155: 0.9999999999999981\n",
      "Sumă probabilități pentru punctul 156: 0.9999999999999992\n",
      "Sumă probabilități pentru punctul 157: 1.0000000000000022\n",
      "Sumă probabilități pentru punctul 158: 0.9999999999999997\n",
      "Sumă probabilități pentru punctul 159: 1.0000000000000018\n",
      "Sumă probabilități pentru punctul 160: 0.9999999999999977\n",
      "Sumă probabilități pentru punctul 161: 1.0000000000000018\n",
      "Sumă probabilități pentru punctul 162: 0.9999999999999978\n",
      "Sumă probabilități pentru punctul 163: 0.9999999999999992\n",
      "Sumă probabilități pentru punctul 164: 0.999999999999999\n",
      "Sumă probabilități pentru punctul 165: 0.9999999999999982\n",
      "Sumă probabilități pentru punctul 166: 1.0000000000000007\n",
      "Sumă probabilități pentru punctul 167: 1.000000000000001\n",
      "Sumă probabilități pentru punctul 168: 1.0000000000000002\n",
      "Sumă probabilități pentru punctul 169: 0.9999999999999996\n",
      "Sumă probabilități pentru punctul 170: 1.0000000000000022\n",
      "Sumă probabilități pentru punctul 171: 1.0000000000000004\n",
      "Sumă probabilități pentru punctul 172: 0.9999999999999993\n",
      "Sumă probabilități pentru punctul 173: 0.9999999999999984\n",
      "Sumă probabilități pentru punctul 174: 1.0000000000000002\n",
      "Sumă probabilități pentru punctul 175: 1.0000000000000004\n",
      "Sumă probabilități pentru punctul 176: 1.0000000000000007\n",
      "Sumă probabilități pentru punctul 177: 1.0000000000000004\n",
      "Sumă probabilități pentru punctul 178: 1.0000000000000013\n",
      "Sumă probabilități pentru punctul 179: 1.0000000000000009\n",
      "Sumă probabilități pentru punctul 180: 1.0000000000000036\n"
     ]
    },
    {
     "data": {
      "image/png": "[encoded data removed]",
      "text/plain": [
       "<Figure size 800x500 with 1 Axes>"
      ]
     },
     "metadata": {},
     "output_type": "display_data"
    },
    {
     "data": {
      "text/plain": [
       "array([0.18035837, 0.36601713, 0.32179046, 0.39834286, 0.4426343 ,\n",
       "       0.33035518, 0.28700517, 0.287783  , 0.63755443, 0.79816524,\n",
       "       0.92897578, 0.22510751, 0.38797695, 0.35723676, 0.2872408 ,\n",
       "       0.78187938, 0.68396473, 0.24820795, 0.48824662, 0.91335603,\n",
       "       1.06841682, 0.58204514, 0.59049496, 0.50761778, 0.443772  ,\n",
       "       0.56473327, 0.22657768, 0.5442427 , 0.19519716, 0.45078816,\n",
       "       1.37059569, 0.61304868, 0.43013367, 0.24110187, 0.92166781,\n",
       "       0.30356303, 1.08330903, 0.49737487, 0.28594143, 0.25843203,\n",
       "       0.50935619, 0.50849222, 0.62218678, 0.72617157, 0.5343497 ,\n",
       "       0.34957777, 0.29870658, 0.96703069, 0.73883999, 0.34596721,\n",
       "       0.33698531, 0.25705057, 0.77383972, 0.45453556, 0.22901548,\n",
       "       0.57949425, 0.4535658 , 0.74845926, 0.41646919, 0.70825812,\n",
       "       0.23540439, 0.31736043, 0.27952375, 0.41434706, 0.65977675,\n",
       "       0.24654494, 0.48133005, 0.23319756, 0.94208232, 0.23819701,\n",
       "       0.5255173 , 1.45721189, 0.20201119, 0.41406104, 0.34600159,\n",
       "       0.51644953, 0.38781682, 0.77712524, 1.14577218, 0.54339793,\n",
       "       0.16930233, 0.28652967, 0.41898701, 0.21243056, 0.65489622,\n",
       "       0.19817115, 0.27788436, 0.49485048, 0.20520454, 0.73560661,\n",
       "       0.22780586, 0.29754421, 0.39135938, 0.35372839, 0.34147701,\n",
       "       0.30095288, 0.34794581, 0.91145865, 0.77200995, 0.70716748,\n",
       "       0.83172533, 0.23422238, 0.76338845, 0.45705022, 0.71074363,\n",
       "       0.59108489, 0.43168382, 0.39056836, 1.11818716, 0.48402186,\n",
       "       0.26702907, 0.81860978, 0.2231351 , 0.71835576, 0.20293839,\n",
       "       0.21531984, 0.20216054, 0.64444912, 0.31160162, 0.23391546,\n",
       "       0.28331209, 0.53850277, 1.41295202, 0.34189779, 0.84209402,\n",
       "       0.23294233, 0.22773232, 0.65058431, 0.2130359 , 0.78942919,\n",
       "       0.85061042, 0.80960517, 0.38304173, 0.41186739, 0.19164601,\n",
       "       0.24439438, 0.21062886, 0.50213437, 0.89327065, 0.50309618,\n",
       "       0.2005895 , 0.25629405, 0.25557837, 1.04188403, 0.43890403,\n",
       "       1.01516838, 1.00286145, 0.3830691 , 0.23392116, 0.74024852,\n",
       "       0.5524587 , 0.73694555, 0.35255598, 0.33015264, 0.20775328,\n",
       "       0.42865802, 0.26717043, 0.28869087, 0.20336208, 0.17822255,\n",
       "       0.85861425, 0.99158568, 0.5211484 , 0.43255629, 0.35835322,\n",
       "       0.59906616, 0.84077677, 0.30900313, 0.94409799, 0.63337341,\n",
       "       0.39640172, 0.90679592, 0.34589406, 0.22796111, 0.3434852 ,\n",
       "       0.81868302, 0.25001989, 0.27586294, 0.22038065, 0.78302763,\n",
       "       0.2448625 ])"
      ]
     },
     "execution_count": 56,
     "metadata": {},
     "output_type": "execute_result"
    }
   ],
   "source": [
    "def compute_entropy(probabilities, epsilon=1e-10):\n",
    "    \"\"\"\n",
    "    Calculează entropia pentru un set de probabilități.\n",
    "    \"\"\"\n",
    "    total_entropy = 0\n",
    "\n",
    "    for prob in probabilities:\n",
    "        total_entropy += prob * np.log(prob + epsilon)\n",
    "    return -total_entropy\n",
    "\n",
    "\n",
    "# Metoda alternativă pentru calculul incertitudinii bazată pe entropia mediei\n",
    "def calculate_mean_entropy(predictions, label='Test', epsilon=1e-10):\n",
    "    \"\"\"\n",
    "    Calculează incertitudinea pe baza entropiei mediei softmax pentru fiecare punct de test.\n",
    "    \"\"\"\n",
    "    uncertainty_values = []\n",
    "\n",
    "    # Iterăm prin fiecare punct de test\n",
    "    for test_idx in range(predictions.shape[2]):\n",
    "        # Extragem predicțiile softmax pentru punctul curent\n",
    "        softmax_draws = predictions[0, :, test_idx, :]  # Dimensiune: (n_draws, n_classes)\n",
    "\n",
    "        softmax_draws = softmax_draws.values\n",
    "        # Calculăm media probabilităților pentru fiecare clasă\n",
    "        averaged_probs = np.mean(softmax_draws, axis=0)  # Dimensiune: (n_classes,)\n",
    "\n",
    "        print(f\"Sumă probabilități pentru punctul {test_idx}: {np.sum(averaged_probs)}\")\n",
    "\n",
    "\n",
    "        # Calculăm entropia mediei probabilităților\n",
    "        #point_entropy = compute_entropy(averaged_probs, epsilon)\n",
    "        point_entropy = entropy(averaged_probs)\n",
    "\n",
    "        # Salvăm entropia pentru punctul curent\n",
    "        uncertainty_values.append(point_entropy)\n",
    "\n",
    "    # Convertim lista de incertitudini într-un array numpy\n",
    "    uncertainty_array = np.array(uncertainty_values)\n",
    "\n",
    "\n",
    "        # Vizualizăm distribuția incertitudinii (histogramă)\n",
    "    plt.figure(figsize=(8, 5))\n",
    "    plt.hist(uncertainty_array, bins=20, color='green', alpha=0.7, edgecolor='black')\n",
    "    plt.title(f\"{label} Entropy on Mean Softmax\")\n",
    "    plt.xlabel(\"Entropy\")\n",
    "    plt.ylabel(\"Frequency\")\n",
    "    plt.show()\n",
    "\n",
    "    return uncertainty_array\n",
    "\n",
    "\n",
    "# Apelarea funcției\n",
    "calculate_mean_entropy(ppc.posterior_predictive['act_out'], label='Test')\n"
   ]
  },
  {
   "cell_type": "markdown",
   "metadata": {
    "id": "cXnUeVXZIxNW"
   },
   "source": [
    "TEST ON THE EXCLUDED CLASS\n",
    "I analyzed the standard deviation chart and concluded that the chosen threshold to determine whether a sample belongs to the novel class is 1.0."
   ]
  },
  {
   "cell_type": "code",
   "execution_count": null,
   "metadata": {
    "colab": {
     "base_uri": "https://localhost:8080/",
     "height": 34,
     "referenced_widgets": [
      "0228dbe71eec4ba482665b71f548bb2e",
      "dabce417ec2f4fee8d4e242df6b7f95d"
     ]
    },
    "id": "AccmGmpZIh51",
    "outputId": "b7ce345a-f19f-4f13-ac95-20f202c471cb"
   },
   "outputs": [
    {
     "data": {
      "application/vnd.jupyter.widget-view+json": {
       "model_id": "0228dbe71eec4ba482665b71f548bb2e",
       "version_major": 2,
       "version_minor": 0
      },
      "text/plain": [
       "Output()"
      ]
     },
     "metadata": {},
     "output_type": "display_data"
    },
    {
     "data": {
      "text/html": [
       "<pre style=\"white-space:pre;overflow-x:auto;line-height:normal;font-family:Menlo,'DejaVu Sans Mono',consolas,'Courier New',monospace\"></pre>\n"
      ],
      "text/plain": []
     },
     "metadata": {},
     "output_type": "display_data"
    }
   ],
   "source": [
    "trace = approx.sample(draws=5000)\n",
    "with bnn_model:\n",
    "  pm.set_data({\"network_input\": X_excluded, \"bnn_output\": y_excluded}, coords={\n",
    "    \"hidden_layer_1\": np.arange(hidden_layer_neurons),\n",
    "    \"hidden_layer_2\": np.arange(hidden_layer_neurons),\n",
    "    \"output_layer\": np.arange(class_nr),\n",
    "    \"train_cols\": np.arange(X_val.shape[1])\n",
    "  })\n",
    "  ppc = pm.sample_posterior_predictive(trace, var_names=[\"out\", \"act_out\"])\n",
    "  trace.extend(ppc)"
   ]
  },
  {
   "cell_type": "code",
   "execution_count": null,
   "metadata": {
    "colab": {
     "base_uri": "https://localhost:8080/"
    },
    "collapsed": true,
    "id": "q_Kqn-gDayHq",
    "outputId": "d7760d54-08ea-492a-da0c-6823fdd48488"
   },
   "outputs": [
    {
     "name": "stdout",
     "output_type": "stream",
     "text": [
      "Accuracy: 0.0\n"
     ]
    },
    {
     "data": {
      "text/plain": [
       "array([1., 1., 4., 1., 4., 4., 4., 0., 1., 1., 1., 4., 1., 4., 1., 1., 4.,\n",
       "       0., 4., 4., 4., 0., 1., 4., 0., 0., 4., 0., 4., 0., 0., 0., 4., 4.,\n",
       "       0., 4., 0., 0., 4., 4., 4., 4., 0., 4., 4., 4., 4., 1., 1., 4., 4.,\n",
       "       1., 0., 0., 0., 0., 0., 4., 0., 4., 4., 1., 0., 4., 4., 4., 4., 4.,\n",
       "       0., 4., 4., 4., 4., 4., 4., 4., 4., 0., 4., 1., 4., 1., 4., 4., 4.,\n",
       "       4., 4., 4., 1., 4., 0., 4., 0., 0., 0., 4., 0., 0., 0., 4., 4., 4.,\n",
       "       4., 0., 4., 4., 1., 2., 4., 4., 4., 1., 4., 4., 2., 4., 0., 0., 4.,\n",
       "       4., 0., 4., 1., 1., 4., 4., 4., 1., 2., 2., 1., 2., 2., 1., 1., 4.,\n",
       "       1., 4., 2., 1., 4., 0., 4., 4., 0., 4., 0., 4., 0., 4., 4., 4., 4.,\n",
       "       4., 4., 1., 4., 1., 1., 4., 4., 1., 4., 4., 1., 4., 1., 1., 4., 4.,\n",
       "       4., 4., 4., 4., 4., 0., 4., 4., 0., 1., 4.])"
      ]
     },
     "execution_count": 60,
     "metadata": {},
     "output_type": "execute_result"
    }
   ],
   "source": [
    "preds_excluded, accuracy_excluded = calculate_accuracy(ppc.posterior_predictive, y_excluded, floatX)\n",
    "preds_excluded"
   ]
  },
  {
   "cell_type": "code",
   "execution_count": null,
   "metadata": {
    "colab": {
     "base_uri": "https://localhost:8080/",
     "height": 1000
    },
    "id": "8iiUw3-2NkyJ",
    "outputId": "8a23d4db-38cf-4eb5-fb0f-7e60c2a80b3f"
   },
   "outputs": [
    {
     "name": "stdout",
     "output_type": "stream",
     "text": [
      "Accuracy: 0.20994475138121546\n",
      "(1, 5000, 181, 5)\n"
     ]
    },
    {
     "data": {
      "image/png": "[encoded data removed]",
      "text/plain": [
       "<Figure size 800x500 with 1 Axes>"
      ]
     },
     "metadata": {},
     "output_type": "display_data"
    },
    {
     "data": {
      "image/png": "[encoded data removed]",
      "text/plain": [
       "<Figure size 800x500 with 1 Axes>"
      ]
     },
     "metadata": {},
     "output_type": "display_data"
    },
    {
     "data": {
      "text/plain": [
       "array([1.16524234, 0.98579111, 1.41784318, 0.95770522, 1.10575245,\n",
       "       1.19673478, 1.56643496, 1.10413686, 1.26568683, 1.03105474,\n",
       "       0.80637747, 0.87788442, 0.84044168, 1.19487744, 1.2465126 ,\n",
       "       1.27442158, 0.95552557, 1.29852285, 1.04485271, 1.17299243,\n",
       "       0.96600363, 1.10893221, 0.97890057, 0.97857348, 1.0406721 ,\n",
       "       0.99605855, 0.98052808, 1.01059994, 1.44297272, 1.28155704,\n",
       "       1.03576315, 1.1969977 , 1.54723065, 1.20779734, 1.10158534,\n",
       "       1.46635756, 1.00173731, 1.04481653, 0.79709573, 1.02966482,\n",
       "       1.26032256, 1.24388022, 1.50210686, 1.08677983, 0.96177005,\n",
       "       1.2859174 , 1.32467759, 1.11665619, 1.31828825, 0.96344267,\n",
       "       1.06552805, 1.52660181, 1.29410466, 1.1666428 , 1.50218726,\n",
       "       1.3577217 , 1.15762414, 1.31905389, 0.99380779, 1.17285886,\n",
       "       1.2187104 , 1.43133553, 1.51572303, 1.31073211, 1.15870925,\n",
       "       0.89313708, 0.99084793, 0.91044295, 1.04033428, 0.96148979,\n",
       "       0.90798664, 0.90119956, 0.83858995, 1.55855784, 1.04606207,\n",
       "       1.19563715, 1.39644367, 0.93152243, 0.85119696, 1.13298579,\n",
       "       0.96478525, 1.2067897 , 1.20566503, 0.85993184, 0.84874587,\n",
       "       0.90465416, 1.31802413, 1.25661346, 0.85577448, 0.8854544 ,\n",
       "       0.9580691 , 0.90043137, 1.00269629, 1.06894306, 1.00260485,\n",
       "       1.09005159, 1.04926099, 1.07067307, 1.08370727, 1.41374978,\n",
       "       1.21277724, 1.05455362, 0.86077528, 1.16680683, 0.97479928,\n",
       "       1.09794591, 1.18535765, 1.39055577, 1.42103934, 1.28977702,\n",
       "       1.59437632, 1.55087892, 1.55743607, 1.587137  , 1.34945407,\n",
       "       1.11286246, 0.94323186, 1.18184847, 1.33540563, 1.59893404,\n",
       "       1.6049928 , 1.2630378 , 1.55521726, 1.5007303 , 1.32662582,\n",
       "       1.24825172, 1.57790145, 1.52434771, 1.60428783, 1.60601712,\n",
       "       1.57924657, 1.60352845, 1.60448387, 1.34720464, 1.34374719,\n",
       "       1.32932854, 1.28376695, 1.10709587, 1.60299873, 1.07754293,\n",
       "       0.97535478, 1.59727904, 1.0171495 , 1.00134806, 0.93812237,\n",
       "       1.06176581, 0.86768251, 0.97255958, 0.86142476, 1.12567718,\n",
       "       0.87100266, 1.01206186, 1.2555439 , 1.04533429, 1.26774834,\n",
       "       0.95874516, 0.95306331, 0.77986245, 1.0098229 , 0.8959697 ,\n",
       "       0.84647097, 0.85945132, 1.05262444, 1.02732601, 0.94169771,\n",
       "       1.54108253, 0.72959927, 0.88805683, 1.06326067, 0.90896072,\n",
       "       0.76418147, 1.19627449, 0.90911012, 1.10552071, 1.03784089,\n",
       "       0.97116537, 1.13138682, 1.25558187, 1.29860378, 0.86556328,\n",
       "       1.06943398])"
      ]
     },
     "execution_count": 37,
     "metadata": {},
     "output_type": "execute_result"
    }
   ],
   "source": [
    "preds_excluded, accuracy_excluded = calculate_accuracy(ppc.posterior_predictive, y_test, floatX)\n",
    "uncertainty_array = calculate_uncertainty(ppc.posterior_predictive['act_out'], label='Test - excluded class 6')\n",
    "len(uncertainty_array)\n",
    "calculate_mean_entropy(ppc.posterior_predictive['act_out'], label='Test - excluded class 6')\n"
   ]
  },
  {
   "cell_type": "markdown",
   "metadata": {
    "id": "DXc0YT_32-O1"
   },
   "source": [
    "Apply the threshold, see the accuracy"
   ]
  },
  {
   "cell_type": "markdown",
   "metadata": {
    "id": "VxXJ4qAZQ_U8"
   },
   "source": [
    "CREATE NEURAL NETWORK AND COMPARE THE RESULTS\n"
   ]
  },
  {
   "cell_type": "code",
   "execution_count": null,
   "metadata": {
    "id": "wzuXsYL63B1N"
   },
   "outputs": [],
   "source": [
    "def classify_samples_based_on_threshold(uncertainty_array, threshold):\n",
    "    classifications = (uncertainty_array > threshold).astype(int)\n",
    "    novel_indices = np.where(classifications == 1)[0]\n",
    "    return classifications, novel_indices\n"
   ]
  },
  {
   "cell_type": "code",
   "execution_count": null,
   "metadata": {
    "colab": {
     "base_uri": "https://localhost:8080/"
    },
    "id": "k9cseshY3GOD",
    "outputId": "65a6da0c-af94-4a2b-e337-a3aec438563c"
   },
   "outputs": [
    {
     "name": "stdout",
     "output_type": "stream",
     "text": [
      "Total samples: 181\n",
      "Samples classified as novel: 141\n",
      "Indices of novel samples: [  1   2   3   4   5   6   7   8   9  10  12  13  14  15  16  18  19  20\n",
      "  21  22  23  24  25  27  29  30  31  32  34  35  36  37  38  40  41  42\n",
      "  43  44  45  46  47  48  49  50  51  52  53  55  56  57  58  59  61  62\n",
      "  63  64  66  68  70  71  73  74  75  76  77  78  79  81  82  84  87  89\n",
      "  91  92  93  94  95  96  97  98  99 100 102 103 104 105 106 107 108 109\n",
      " 111 113 117 118 120 121 122 123 124 125 127 129 130 131 132 133 137 138\n",
      " 139 141 142 143 144 145 146 147 149 150 151 152 153 155 156 157 160 161\n",
      " 162 163 164 165 166 167 168 169 170 171 172 174 175 177 179]\n"
     ]
    }
   ],
   "source": [
    "# Setăm threshold-ul\n",
    "threshold = 0.4\n",
    "\n",
    "# Aplicăm funcția de clasificare\n",
    "classifications, novel_indices = classify_samples_based_on_threshold(uncertainty_array, threshold)\n",
    "\n",
    "# Afișăm rezultatele\n",
    "print(f\"Total samples: {len(uncertainty_array)}\")\n",
    "print(f\"Samples classified as novel: {len(novel_indices)}\")\n",
    "print(f\"Indices of novel samples: {novel_indices}\")\n"
   ]
  },
  {
   "cell_type": "code",
   "execution_count": null,
   "metadata": {
    "colab": {
     "base_uri": "https://localhost:8080/",
     "height": 882
    },
    "id": "qSqZjzGG631J",
    "outputId": "05f7dcea-9754-4013-f321-2042dc760031"
   },
   "outputs": [
    {
     "name": "stdout",
     "output_type": "stream",
     "text": [
      "[2. 0. 4. 1. 1. 2. 4. 2. 2. 1. 1. 0. 1. 1. 4. 3. 2. 0. 3. 1. 3. 2. 2. 4.\n",
      " 1. 4. 4. 4. 0. 1. 4. 4. 2. 0. 3. 4. 1. 2. 0. 0. 2. 4. 0. 3. 1. 4. 4. 1.\n",
      " 1. 3. 4. 0. 4. 1. 0. 0. 3. 2. 3. 1. 3. 0. 4. 4. 2. 0. 1. 0. 1. 2. 4. 2.\n",
      " 0. 2. 4. 0. 4. 1. 0. 2. 3. 2. 4. 0. 2. 3. 4. 2. 0. 2. 0. 2. 3. 4. 3. 0.\n",
      " 4. 1. 4. 1. 1. 0. 3. 3. 3. 2. 2. 1. 3. 0. 4. 1. 2. 1. 0. 3. 2. 4. 2. 4.\n",
      " 3. 3. 3. 4. 3. 3. 0. 1. 0. 1. 1. 3. 1. 1. 3. 4. 0. 1. 1. 1. 0. 0. 3. 3.\n",
      " 1. 3. 1. 1. 0. 2. 1. 4. 4. 4. 2. 4. 0. 0. 2. 0. 1. 4. 1. 1. 3. 4. 1. 3.\n",
      " 4. 2. 3. 2. 1. 2. 4. 3. 0. 0. 3. 3. 3. 6. 6. 6. 6. 6. 6. 6. 6. 6. 6. 6.\n",
      " 6. 6. 6. 6. 6. 6. 6. 6. 6.]\n",
      "20\n",
      "(1, 5000, 181, 5)\n"
     ]
    },
    {
     "data": {
      "image/png": "[encoded data removed]",
      "text/plain": [
       "<Figure size 800x500 with 1 Axes>"
      ]
     },
     "metadata": {},
     "output_type": "display_data"
    },
    {
     "name": "stdout",
     "output_type": "stream",
     "text": [
      "Total samples: 181\n",
      "Samples classified as novel: 141\n",
      "Indices of novel samples: [  1   2   3   4   5   6   7   8   9  10  12  13  14  15  16  18  19  20\n",
      "  21  22  23  24  25  27  29  30  31  32  34  35  36  37  38  40  41  42\n",
      "  43  44  45  46  47  48  49  50  51  52  53  55  56  57  58  59  61  62\n",
      "  63  64  66  68  70  71  73  74  75  76  77  78  79  81  82  84  87  89\n",
      "  91  92  93  94  95  96  97  98  99 100 102 103 104 105 106 107 108 109\n",
      " 111 113 117 118 120 121 122 123 124 125 127 129 130 131 132 133 137 138\n",
      " 139 141 142 143 144 145 146 147 149 150 151 152 153 155 156 157 160 161\n",
      " 162 163 164 165 166 167 168 169 170 171 172 174 175 177 179]\n"
     ]
    }
   ],
   "source": [
    "X_test_augmented = np.vstack([X_test, X_excluded[:20]])  # Adăugăm noile exemple\n",
    "y_test_augmented = np.concatenate([y_test, y_excluded[:20]])  # Adăugăm etichetele noi\n"
   ]
  },
  {
   "cell_type": "code",
   "execution_count": null,
   "metadata": {
    "colab": {
     "base_uri": "https://localhost:8080/",
     "height": 34,
     "referenced_widgets": [
      "1ace5367c0224b9b975fcdf2064e0b06",
      "3a3da552cd6f4600bd25240f234ea0de"
     ]
    },
    "id": "glqdV0hHMHCT",
    "outputId": "2cc1370b-55e3-4e8a-bae9-d7d6f3c83ffc"
   },
   "outputs": [
    {
     "data": {
      "application/vnd.jupyter.widget-view+json": {
       "model_id": "1ace5367c0224b9b975fcdf2064e0b06",
       "version_major": 2,
       "version_minor": 0
      },
      "text/plain": [
       "Output()"
      ]
     },
     "metadata": {},
     "output_type": "display_data"
    },
    {
     "data": {
      "text/html": [
       "<pre style=\"white-space:pre;overflow-x:auto;line-height:normal;font-family:Menlo,'DejaVu Sans Mono',consolas,'Courier New',monospace\"></pre>\n"
      ],
      "text/plain": []
     },
     "metadata": {},
     "output_type": "display_data"
    }
   ],
   "source": [
    "trace = approx.sample(draws=5000)\n",
    "with bnn_model:\n",
    "  pm.set_data({\"network_input\": X_test_augmented, \"bnn_output\": y_test_augmented}, coords={\n",
    "    \"hidden_layer_1\": np.arange(hidden_layer_neurons),\n",
    "    \"hidden_layer_2\": np.arange(hidden_layer_neurons),\n",
    "    \"output_layer\": np.arange(class_nr),\n",
    "    \"train_cols\": np.arange(X_val.shape[1])\n",
    "  })\n",
    "  ppc = pm.sample_posterior_predictive(trace, var_names=[\"out\", \"act_out\"])\n",
    "  trace.extend(ppc)"
   ]
  },
  {
   "cell_type": "code",
   "execution_count": null,
   "metadata": {
    "colab": {
     "base_uri": "https://localhost:8080/",
     "height": 793
    },
    "id": "YFAd8xQmMRyX",
    "outputId": "22ec01e5-e4cb-406c-d394-1f22b84e9eab"
   },
   "outputs": [
    {
     "name": "stdout",
     "output_type": "stream",
     "text": [
      "[2. 0. 4. 1. 1. 2. 4. 2. 2. 1. 1. 0. 1. 1. 4. 3. 2. 0. 3. 1. 3. 2. 2. 4.\n",
      " 1. 4. 4. 4. 0. 1. 4. 4. 2. 0. 3. 4. 1. 2. 0. 0. 2. 4. 0. 3. 1. 4. 4. 1.\n",
      " 1. 3. 4. 0. 4. 1. 0. 0. 3. 2. 3. 1. 3. 0. 4. 4. 2. 0. 1. 0. 1. 2. 4. 2.\n",
      " 0. 2. 4. 0. 4. 1. 0. 2. 3. 2. 4. 0. 2. 3. 4. 2. 0. 2. 0. 2. 3. 4. 3. 0.\n",
      " 4. 1. 4. 1. 1. 0. 3. 3. 3. 2. 2. 1. 3. 0. 4. 1. 2. 1. 0. 3. 2. 4. 2. 4.\n",
      " 3. 3. 3. 4. 3. 3. 0. 1. 0. 1. 1. 3. 1. 1. 3. 4. 0. 1. 1. 1. 0. 0. 3. 3.\n",
      " 1. 3. 1. 1. 0. 2. 1. 4. 4. 4. 2. 4. 0. 0. 2. 0. 1. 4. 1. 1. 3. 4. 1. 3.\n",
      " 4. 2. 3. 2. 1. 2. 4. 3. 0. 0. 3. 3. 3. 6. 6. 6. 6. 6. 6. 6. 6. 6. 6. 6.\n",
      " 6. 6. 6. 6. 6. 6. 6. 6. 6.]\n",
      "20\n",
      "(1, 5000, 201, 5)\n"
     ]
    },
    {
     "data": {
      "image/png": "[encoded data removed]",
      "text/plain": [
       "<Figure size 800x500 with 1 Axes>"
      ]
     },
     "metadata": {},
     "output_type": "display_data"
    },
    {
     "name": "stdout",
     "output_type": "stream",
     "text": [
      "Total samples: 201\n",
      "Samples classified as novel: 39\n",
      "Indices of novel samples: [ 10  19  20  30  34  36  47  68  71  78  97 108 122 130 138 143 145 146\n",
      " 160 161 168 171 181 182 183 184 185 186 187 188 189 190 194 195 196 197\n",
      " 198 199 200]\n"
     ]
    }
   ],
   "source": [
    "print(y_test_augmented)\n",
    "print(np.sum(y_test_augmented == 6) )\n",
    "uncertainty_array = calculate_uncertainty(ppc.posterior_predictive['act_out'], label='Test - both')\n",
    "classifications, novel_indices = classify_samples_based_on_threshold(uncertainty_array, threshold= 1.0)\n",
    "\n",
    "# Afișăm rezultatele\n",
    "print(f\"Total samples: {len(uncertainty_array)}\")\n",
    "print(f\"Samples classified as novel: {len(novel_indices)}\")\n",
    "print(f\"Indices of novel samples: {novel_indices}\")\n"
   ]
  },
  {
   "cell_type": "code",
   "execution_count": null,
   "metadata": {
    "id": "0KLpAn0XPd3t"
   },
   "outputs": [],
   "source": [
    "import torch\n",
    "import torch.nn as nn\n",
    "import torch.optim as optim\n",
    "from sklearn.metrics import accuracy_score\n"
   ]
  },
  {
   "cell_type": "code",
   "execution_count": null,
   "metadata": {
    "colab": {
     "base_uri": "https://localhost:8080/"
    },
    "id": "fMnbmgC8RLxe",
    "outputId": "828d94ed-cb5d-42a9-c56f-e7382e87cfc4"
   },
   "outputs": [
    {
     "data": {
      "text/plain": [
       "array([0., 1., 2., 3., 4.])"
      ]
     },
     "execution_count": 39,
     "metadata": {},
     "output_type": "execute_result"
    }
   ],
   "source": [
    "class NormalNeuralNetwork(nn.Module):\n",
    "    def __init__(self, input_dim, num_classes):\n",
    "        super(NormalNeuralNetwork, self).__init__()\n",
    "        self.fc1 = nn.Linear(input_dim, 128)  # Primul strat ascuns\n",
    "        self.fc2 = nn.Linear(128, 64)        # Al doilea strat ascuns\n",
    "        self.fc3 = nn.Linear(64, num_classes)  # Strat de ieșire\n",
    "        self.relu = nn.ReLU()\n",
    "        self.softmax = nn.Softmax(dim=1)\n",
    "\n",
    "    def forward(self, x):\n",
    "        x = self.relu(self.fc1(x))\n",
    "        x = self.relu(self.fc2(x))\n",
    "        x = self.softmax(self.fc3(x))\n",
    "        return x\n",
    "\n",
    "# Configurare inițială\n",
    "input_dim = X_train.shape[1]\n",
    "num_classes = len(np.unique(y_train))\n",
    "np.unique(y_train)"
   ]
  },
  {
   "cell_type": "code",
   "execution_count": null,
   "metadata": {
    "id": "4O8cXEyKRQRu"
   },
   "outputs": [],
   "source": [
    "# Conversie date în tensori PyTorch\n",
    "X_train_tensor = torch.tensor(X_train, dtype=torch.float32)\n",
    "y_train_tensor = torch.tensor(y_train, dtype=torch.long)\n",
    "\n",
    "X_val_tensor = torch.tensor(X_val, dtype=torch.float32)\n",
    "y_val_tensor = torch.tensor(y_val, dtype=torch.long)\n",
    "\n",
    "X_test_tensor = torch.tensor(X_test, dtype=torch.float32)\n",
    "y_test_tensor = torch.tensor(y_test, dtype=torch.long)\n"
   ]
  },
  {
   "cell_type": "code",
   "execution_count": null,
   "metadata": {
    "id": "VVh3O_BlRbnE"
   },
   "outputs": [],
   "source": [
    "# Inițializare model, funcție de pierdere și optimizator\n",
    "model = NormalNeuralNetwork(input_dim, num_classes)\n",
    "criterion = nn.CrossEntropyLoss()\n",
    "optimizer = optim.Adam(model.parameters(), lr=0.001)"
   ]
  },
  {
   "cell_type": "code",
   "execution_count": null,
   "metadata": {
    "id": "sQZAFkZtReVh"
   },
   "outputs": [],
   "source": [
    "# Funcție pentru antrenare\n",
    "def train_model(model, X_train, y_train, X_val, y_val, epochs=20, batch_size=32):\n",
    "    for epoch in range(epochs):\n",
    "        model.train()\n",
    "        epoch_loss = 0\n",
    "        correct = 0\n",
    "\n",
    "        # Antrenare pe batch-uri\n",
    "        for i in range(0, X_train.shape[0], batch_size):\n",
    "            X_batch = X_train[i:i+batch_size]\n",
    "            y_batch = y_train[i:i+batch_size]\n",
    "\n",
    "            optimizer.zero_grad()  # Resetăm gradientele\n",
    "            outputs = model(X_batch)\n",
    "            loss = criterion(outputs, y_batch)\n",
    "            loss.backward()  # Calculăm gradientele\n",
    "            optimizer.step()  # Actualizăm parametrii\n",
    "\n",
    "            epoch_loss += loss.item()\n",
    "            preds = outputs.argmax(dim=1)\n",
    "            correct += (preds == y_batch).sum().item()\n",
    "\n",
    "        # Evaluare pe setul de validare\n",
    "        model.eval()\n",
    "        with torch.no_grad():\n",
    "            val_outputs = model(X_val)\n",
    "            val_preds = val_outputs.argmax(dim=1)\n",
    "            val_accuracy = (val_preds == y_val).float().mean().item()\n",
    "\n",
    "        print(f\"Epoch {epoch+1}/{epochs}, Loss: {epoch_loss:.4f}, Train Accuracy: {correct/X_train.shape[0]:.4f}, Val Accuracy: {val_accuracy:.4f}\")\n"
   ]
  },
  {
   "cell_type": "code",
   "execution_count": null,
   "metadata": {
    "colab": {
     "base_uri": "https://localhost:8080/"
    },
    "id": "6fitl_gtRjJs",
    "outputId": "184de578-67d9-4d45-ecba-3cd66d911b3b"
   },
   "outputs": [
    {
     "name": "stdout",
     "output_type": "stream",
     "text": [
      "Epoch 1/10, Loss: 27.7881, Train Accuracy: 0.5590, Val Accuracy: 0.8472\n",
      "Epoch 2/10, Loss: 23.1243, Train Accuracy: 0.8750, Val Accuracy: 0.9236\n",
      "Epoch 3/10, Loss: 18.6402, Train Accuracy: 0.9462, Val Accuracy: 0.9653\n",
      "Epoch 4/10, Loss: 17.2139, Train Accuracy: 0.9757, Val Accuracy: 0.9792\n",
      "Epoch 5/10, Loss: 16.7968, Train Accuracy: 0.9896, Val Accuracy: 0.9931\n",
      "Epoch 6/10, Loss: 16.6162, Train Accuracy: 0.9913, Val Accuracy: 1.0000\n",
      "Epoch 7/10, Loss: 16.5076, Train Accuracy: 0.9948, Val Accuracy: 1.0000\n",
      "Epoch 8/10, Loss: 16.4447, Train Accuracy: 0.9965, Val Accuracy: 1.0000\n",
      "Epoch 9/10, Loss: 16.3971, Train Accuracy: 0.9983, Val Accuracy: 1.0000\n",
      "Epoch 10/10, Loss: 16.3643, Train Accuracy: 1.0000, Val Accuracy: 1.0000\n"
     ]
    }
   ],
   "source": [
    "train_model(model, X_train_tensor, y_train_tensor, X_val_tensor, y_val_tensor, epochs=10)\n"
   ]
  },
  {
   "cell_type": "code",
   "execution_count": null,
   "metadata": {
    "colab": {
     "base_uri": "https://localhost:8080/"
    },
    "id": "pO2WRDaHRmv3",
    "outputId": "5a80c8f6-747b-46d6-cbfd-ae1c7d9cc412"
   },
   "outputs": [
    {
     "name": "stdout",
     "output_type": "stream",
     "text": [
      "Test Accuracy: 1.0000\n"
     ]
    }
   ],
   "source": [
    "# Evaluarea pe setul de test\n",
    "model.eval()\n",
    "with torch.no_grad():\n",
    "    test_outputs = model(X_test_tensor)\n",
    "    test_preds = test_outputs.argmax(dim=1)\n",
    "    test_accuracy = accuracy_score(y_test, test_preds.numpy())\n",
    "    print(f\"Test Accuracy: {test_accuracy:.4f}\")"
   ]
  },
  {
   "cell_type": "markdown",
   "metadata": {
    "id": "AF4Ua5J1AMEl"
   },
   "source": [
    "REGRESSION TASK\n"
   ]
  },
  {
   "cell_type": "code",
   "execution_count": null,
   "metadata": {
    "colab": {
     "base_uri": "https://localhost:8080/"
    },
    "id": "jmkJt83ypO3-",
    "outputId": "23c87880-6294-43e2-f080-a961de2259a2"
   },
   "outputs": [
    {
     "name": "stdout",
     "output_type": "stream",
     "text": [
      "Collecting ucimlrepo\n",
      "  Downloading ucimlrepo-0.0.7-py3-none-any.whl.metadata (5.5 kB)\n",
      "Requirement already satisfied: pandas>=1.0.0 in /usr/local/lib/python3.11/dist-packages (from ucimlrepo) (2.2.2)\n",
      "Requirement already satisfied: certifi>=2020.12.5 in /usr/local/lib/python3.11/dist-packages (from ucimlrepo) (2024.12.14)\n",
      "Requirement already satisfied: numpy>=1.23.2 in /usr/local/lib/python3.11/dist-packages (from pandas>=1.0.0->ucimlrepo) (1.26.4)\n",
      "Requirement already satisfied: python-dateutil>=2.8.2 in /usr/local/lib/python3.11/dist-packages (from pandas>=1.0.0->ucimlrepo) (2.8.2)\n",
      "Requirement already satisfied: pytz>=2020.1 in /usr/local/lib/python3.11/dist-packages (from pandas>=1.0.0->ucimlrepo) (2024.2)\n",
      "Requirement already satisfied: tzdata>=2022.7 in /usr/local/lib/python3.11/dist-packages (from pandas>=1.0.0->ucimlrepo) (2024.2)\n",
      "Requirement already satisfied: six>=1.5 in /usr/local/lib/python3.11/dist-packages (from python-dateutil>=2.8.2->pandas>=1.0.0->ucimlrepo) (1.17.0)\n",
      "Downloading ucimlrepo-0.0.7-py3-none-any.whl (8.0 kB)\n",
      "Installing collected packages: ucimlrepo\n",
      "Successfully installed ucimlrepo-0.0.7\n"
     ]
    }
   ],
   "source": [
    "# !pip install ucimlrepo\n"
   ]
  },
  {
   "cell_type": "code",
   "execution_count": null,
   "metadata": {
    "colab": {
     "base_uri": "https://localhost:8080/"
    },
    "id": "0gbIKJj1tgn5",
    "outputId": "dd3d585f-39fc-43d5-ce74-8d1bf0a4df4f"
   },
   "outputs": [
    {
     "name": "stdout",
     "output_type": "stream",
     "text": [
      "mpg             0\n",
      "cylinders       0\n",
      "displacement    0\n",
      "horsepower      6\n",
      "weight          0\n",
      "acceleration    0\n",
      "model_year      0\n",
      "origin          0\n",
      "name            0\n",
      "dtype: int64\n",
      "<class 'pandas.core.frame.DataFrame'>\n",
      "RangeIndex: 398 entries, 0 to 397\n",
      "Data columns (total 9 columns):\n",
      " #   Column        Non-Null Count  Dtype  \n",
      "---  ------        --------------  -----  \n",
      " 0   mpg           398 non-null    float64\n",
      " 1   cylinders     398 non-null    int64  \n",
      " 2   displacement  398 non-null    float64\n",
      " 3   horsepower    392 non-null    float64\n",
      " 4   weight        398 non-null    int64  \n",
      " 5   acceleration  398 non-null    float64\n",
      " 6   model_year    398 non-null    int64  \n",
      " 7   origin        398 non-null    object \n",
      " 8   name          398 non-null    object \n",
      "dtypes: float64(4), int64(3), object(2)\n",
      "memory usage: 28.1+ KB\n",
      "None\n",
      "Caracteristici (features):\n",
      "   cylinders  displacement  horsepower  weight  acceleration  model_year  \\\n",
      "0          8         307.0       130.0    3504          12.0          70   \n",
      "1          8         350.0       165.0    3693          11.5          70   \n",
      "2          8         318.0       150.0    3436          11.0          70   \n",
      "3          8         304.0       150.0    3433          12.0          70   \n",
      "4          8         302.0       140.0    3449          10.5          70   \n",
      "\n",
      "  origin  \n",
      "0    usa  \n",
      "1    usa  \n",
      "2    usa  \n",
      "3    usa  \n",
      "4    usa  \n",
      "\n",
      "Țintă (target):\n",
      "0    18.0\n",
      "1    15.0\n",
      "2    18.0\n",
      "3    16.0\n",
      "4    17.0\n",
      "Name: mpg, dtype: float64\n"
     ]
    }
   ],
   "source": [
    "import seaborn as sns\n",
    "\n",
    "# Încărcăm dataset-ul Auto MPG\n",
    "mpg = sns.load_dataset('mpg')\n",
    "\n",
    "# Verificăm dacă există valori lipsă\n",
    "print(mpg.isnull().sum())\n",
    "\n",
    "# Verificăm informațiile despre dataset\n",
    "print(mpg.info())\n",
    "\n",
    "# Eliminăm rândurile cu valori lipsă\n",
    "mpg = mpg.dropna()\n",
    "\n",
    "# Selecția caracteristicilor și țintei\n",
    "X = mpg[['cylinders', 'displacement', 'horsepower', 'weight', 'acceleration', 'model_year', 'origin']]\n",
    "y = mpg['mpg']\n",
    "\n",
    "print(\"Caracteristici (features):\")\n",
    "print(X.head())\n",
    "\n",
    "print(\"\\nȚintă (target):\")\n",
    "print(y.head())\n"
   ]
  },
  {
   "cell_type": "code",
   "execution_count": null,
   "metadata": {
    "colab": {
     "base_uri": "https://localhost:8080/"
    },
    "id": "Ixs-RBUruX9R",
    "outputId": "eb5818fb-e503-4d36-f39b-1f12129182db"
   },
   "outputs": [
    {
     "name": "stdout",
     "output_type": "stream",
     "text": [
      "   cylinders  displacement  horsepower  weight  acceleration  model_year  \\\n",
      "0          8         307.0       130.0    3504          12.0          70   \n",
      "1          8         350.0       165.0    3693          11.5          70   \n",
      "2          8         318.0       150.0    3436          11.0          70   \n",
      "3          8         304.0       150.0    3433          12.0          70   \n",
      "4          8         302.0       140.0    3449          10.5          70   \n",
      "\n",
      "   origin_japan  origin_usa  \n",
      "0         False        True  \n",
      "1         False        True  \n",
      "2         False        True  \n",
      "3         False        True  \n",
      "4         False        True  \n",
      "0    18.0\n",
      "1    15.0\n",
      "2    18.0\n",
      "3    16.0\n",
      "4    17.0\n",
      "Name: mpg, dtype: float64\n"
     ]
    }
   ],
   "source": [
    "# 1. Eliminăm coloana `name` (nu este utilă)\n",
    "mpg = mpg.drop(columns=['name'])\n",
    "\n",
    "# 2. Completăm valorile lipsă din `horsepower` cu media coloanei\n",
    "mpg['horsepower'] = mpg['horsepower'].fillna(mpg['horsepower'].mean())\n",
    "\n",
    "# 3. Convertim `origin` la variabilă numerică (one-hot encoding)\n",
    "mpg = pd.get_dummies(mpg, columns=['origin'], drop_first=True)\n",
    "\n",
    "# 4. Selecția caracteristicilor și a țintei\n",
    "X = mpg.drop(columns=['mpg'])  # Caracteristicile\n",
    "y = mpg['mpg']  # Ținta (mpg)\n",
    "\n",
    "# Afișăm dataset-ul pregătit\n",
    "print(X.head())\n",
    "print(y.head())\n"
   ]
  },
  {
   "cell_type": "code",
   "execution_count": null,
   "metadata": {
    "colab": {
     "base_uri": "https://localhost:8080/"
    },
    "id": "7mpb_c3lNGND",
    "outputId": "7d3e7082-402f-4a6a-f0be-e4a1d877a46c"
   },
   "outputs": [
    {
     "name": "stdout",
     "output_type": "stream",
     "text": [
      "Dimensiuni X_train: (1070, 8)\n",
      "Dimensiuni X_test: (268, 8)\n",
      "Primele 5 exemple din X_train:\n",
      "[[ 0.69727145  0.97878831  1.58092576 -1.0105187  -0.5074631  -0.56641788\n",
      "   1.63579466 -0.56641788]\n",
      " [ 0.19886312 -0.73547651 -0.07876719 -1.0105187  -0.5074631  -0.56641788\n",
      "   1.63579466 -0.56641788]\n",
      " [-0.65555117 -0.44839867 -0.90861367 -1.0105187  -0.5074631  -0.56641788\n",
      "  -0.61132367 -0.56641788]\n",
      " [-0.58434998  1.44795552 -0.07876719  0.98959079 -0.5074631  -0.56641788\n",
      "   1.63579466 -0.56641788]\n",
      " [ 0.69727145 -1.3211153  -0.07876719 -1.0105187  -0.5074631   1.76548098\n",
      "  -0.61132367 -0.56641788]]\n",
      "Primele 5 valori din y_train:\n",
      "[10381.4787  7046.7222  4137.5227  3875.7341  9566.9909]\n"
     ]
    }
   ],
   "source": []
  },
  {
   "cell_type": "code",
   "execution_count": null,
   "metadata": {
    "colab": {
     "base_uri": "https://localhost:8080/"
    },
    "id": "i69d55b8cHaD",
    "outputId": "7edbd4e7-f8f4-495f-c928-13070173a020"
   },
   "outputs": [
    {
     "name": "stdout",
     "output_type": "stream",
     "text": [
      "Corelația Spearman pe setul de test: 0.92\n"
     ]
    }
   ],
   "source": []
  },
  {
   "cell_type": "code",
   "execution_count": null,
   "metadata": {
    "id": "sJdqkHPMb0FK"
   },
   "outputs": [],
   "source": [
    "# Interval pentru setul de antrenament\n",
    "values = (mpg['cylinders'] >= 3) & (mpg['cylinders'] <= 6)\n",
    "\n",
    "\n",
    "# Separăm toate datele pentru `cylinders = 8`\n",
    "data_cyl_8 = mpg[mpg['cylinders'] == 8]"
   ]
  },
  {
   "cell_type": "code",
   "execution_count": null,
   "metadata": {
    "colab": {
     "base_uri": "https://localhost:8080/",
     "height": 144
    },
    "id": "cm6jgVueh3en",
    "outputId": "044ae1dd-3822-45b9-c5b1-5594b5c8ebb6"
   },
   "outputs": [
    {
     "ename": "NameError",
     "evalue": "name 'mpg' is not defined",
     "output_type": "error",
     "traceback": [
      "\u001b[0;31m---------------------------------------------------------------------------\u001b[0m",
      "\u001b[0;31mNameError\u001b[0m                                 Traceback (most recent call last)",
      "\u001b[0;32m<ipython-input-4-ed4fc811d1ed>\u001b[0m in \u001b[0;36m<cell line: 0>\u001b[0;34m()\u001b[0m\n\u001b[0;32m----> 1\u001b[0;31m \u001b[0mmpg\u001b[0m\u001b[0;34m.\u001b[0m\u001b[0mto_csv\u001b[0m\u001b[0;34m(\u001b[0m\u001b[0;34m\"auto_mpg_preprocessed.csv\"\u001b[0m\u001b[0;34m,\u001b[0m \u001b[0mindex\u001b[0m\u001b[0;34m=\u001b[0m\u001b[0;32mFalse\u001b[0m\u001b[0;34m)\u001b[0m\u001b[0;34m\u001b[0m\u001b[0;34m\u001b[0m\u001b[0m\n\u001b[0m",
      "\u001b[0;31mNameError\u001b[0m: name 'mpg' is not defined"
     ]
    }
   ],
   "source": [
    "mpg.to_csv(\"auto_mpg_preprocessed.csv\", index=False)\n"
   ]
  },
  {
   "cell_type": "code",
   "execution_count": null,
   "metadata": {
    "colab": {
     "base_uri": "https://localhost:8080/"
    },
    "id": "QPlDszimwBm4",
    "outputId": "0397323c-528e-495f-b6e5-15b93894751b"
   },
   "outputs": [
    {
     "name": "stdout",
     "output_type": "stream",
     "text": [
      "Shape of training data: (1070, 6)\n",
      "Shape of test data: (268, 6)\n"
     ]
    }
   ],
   "source": [
    "from sklearn.model_selection import train_test_split\n",
    "\n",
    "# Împărțim datele în seturi de train și test\n",
    "X_train, X_test, y_train, y_test = train_test_split(X, y, test_size=0.2, random_state=42)\n",
    "\n",
    "print(\"Shape of training data:\", X_train.shape)\n",
    "print(\"Shape of test data:\", X_test.shape)\n"
   ]
  },
  {
   "cell_type": "code",
   "execution_count": null,
   "metadata": {
    "id": "ePwpWEgawFHp"
   },
   "outputs": [],
   "source": [
    "# Încărcăm dataset-ul Auto MPG\n",
    "import seaborn as sns\n",
    "\n",
    "mpg = sns.load_dataset(\"mpg\").dropna()\n",
    "\n",
    "# Selectăm caracteristicile și ținta\n",
    "X = mpg[[\"cylinders\", \"displacement\", \"horsepower\", \"weight\", \"acceleration\", \"model_year\", \"origin\"]]\n",
    "y = mpg[\"mpg\"]\n",
    "\n",
    "# Transformăm caracteristicile categoriale folosind one-hot encoding\n",
    "X = pd.get_dummies(X, columns=[\"origin\"], drop_first=True)\n",
    "\n",
    "# Standardizăm caracteristicile numerice\n",
    "scaler = StandardScaler()\n",
    "X_scaled = scaler.fit_transform(X)\n",
    "\n",
    "# Împărțim datele în seturi de train și test\n",
    "RANDOM_SEED = 9927\n",
    "X_train, X_test, y_train, y_test = train_test_split(X_scaled, y, test_size=0.2, random_state=RANDOM_SEED)\n",
    "\n",
    "# Convertim în format numpy\n",
    "X_train = X_train.astype(np.float64)\n",
    "X_test = X_test.astype(np.float64)\n",
    "y_train = y_train.to_numpy().astype(np.float64)\n",
    "y_test = y_test.to_numpy().astype(np.float64)\n"
   ]
  },
  {
   "cell_type": "code",
   "execution_count": null,
   "metadata": {
    "id": "B1R_92DayF0A"
   },
   "outputs": [],
   "source": [
    "def create_bayesian_network(input_data, output_data):\n",
    "    \"\"\"\n",
    "    Definim o rețea neurală bayesiană pentru regresie.\n",
    "    \"\"\"\n",
    "    coords = {\n",
    "        \"input_features\": np.arange(input_data.shape[1]),\n",
    "        \"samples\": np.arange(input_data.shape[0]),\n",
    "    }\n",
    "\n",
    "    with pm.Model(coords=coords) as bayesian_nn:\n",
    "        # Definim datele de intrare și ieșire\n",
    "        model_input = pm.Data(\"model_input\", input_data, dims=(\"samples\", \"input_features\"))\n",
    "        model_output = pm.Data(\"model_output\", output_data, dims=\"samples\")\n",
    "\n",
    "        # Priori pentru primul strat ascuns\n",
    "        weights_layer1 = pm.Normal(\"weights_layer1\", mu=0, sigma=2, shape=(input_data.shape[1], 20))\n",
    "        biases_layer1 = pm.Normal(\"biases_layer1\", mu=0, sigma=1, shape=(20,))\n",
    "\n",
    "        # Priori pentru al doilea strat ascuns\n",
    "        weights_layer2 = pm.Normal(\"weights_layer2\", mu=0, sigma=2, shape=(20, 15))\n",
    "        biases_layer2 = pm.Normal(\"biases_layer2\", mu=0, sigma=1, shape=(15,))\n",
    "\n",
    "        # Priori pentru stratul de ieșire\n",
    "        weights_output = pm.Normal(\"weights_output\", mu=0, sigma=1, shape=(15, 1))\n",
    "        bias_output = pm.Normal(\"bias_output\", mu=0, sigma=1)\n",
    "\n",
    "        # Calculăm activările pentru fiecare strat\n",
    "        hidden_layer1 = pm.Deterministic(\"hidden_layer1\", pm.math.tanh(pmath.dot(model_input, weights_layer1) + biases_layer1))\n",
    "        hidden_layer2 = pm.Deterministic(\"hidden_layer2\", pm.math.tanh(pmath.dot(hidden_layer1, weights_layer2) + biases_layer2))\n",
    "        network_output = pm.Deterministic(\"network_output\", pm.math.flatten(pmath.dot(hidden_layer2, weights_output) + bias_output))\n",
    "\n",
    "        predictions_det = pm.Deterministic(\"predictions\", network_output)\n",
    "\n",
    "        # Definim distribuția pentru ieșirea modelului\n",
    "        sigma = pm.HalfNormal(\"sigma\", sigma=0.5)\n",
    "        output = pm.Normal(\"output\", mu=network_output, sigma=sigma, observed=model_output)\n",
    "\n",
    "    return bayesian_nn\n"
   ]
  },
  {
   "cell_type": "code",
   "execution_count": null,
   "metadata": {
    "id": "vVXHo93OfoE3"
   },
   "outputs": [],
   "source": []
  },
  {
   "cell_type": "code",
   "execution_count": null,
   "metadata": {
    "colab": {
     "base_uri": "https://localhost:8080/",
     "height": 34,
     "referenced_widgets": [
      "ae31142dcade4a9793bcfd14213302e0",
      "5a2b106acbc6442eb3103bb966437c40"
     ]
    },
    "id": "CkRXgUByy80d",
    "outputId": "2e1ac818-8c7f-4d79-cd99-fe192133e9e7"
   },
   "outputs": [
    {
     "data": {
      "application/vnd.jupyter.widget-view+json": {
       "model_id": "ae31142dcade4a9793bcfd14213302e0",
       "version_major": 2,
       "version_minor": 0
      },
      "text/plain": [
       "Output()"
      ]
     },
     "metadata": {},
     "output_type": "display_data"
    },
    {
     "data": {
      "text/html": [
       "<pre style=\"white-space:pre;overflow-x:auto;line-height:normal;font-family:Menlo,'DejaVu Sans Mono',consolas,'Courier New',monospace\"></pre>\n"
      ],
      "text/plain": []
     },
     "metadata": {},
     "output_type": "display_data"
    }
   ],
   "source": [
    "# Construim modelul\n",
    "bnn = create_bayesian_network(X_train, y_train)\n",
    "\n",
    "with bnn:\n",
    "    # Ajustăm modelul folosind ADVI\n",
    "    approx = pm.fit(50000, method=\"advi\", random_seed=RANDOM_SEED)\n",
    "    trace = approx.sample(draws=1000, return_inferencedata=True)\n"
   ]
  },
  {
   "cell_type": "code",
   "execution_count": null,
   "metadata": {
    "colab": {
     "base_uri": "https://localhost:8080/",
     "height": 1000,
     "referenced_widgets": [
      "5923de17e5834b3b9e370e5a1a20e58f",
      "25bbfe8629504cd4a497195f1ea2ec3c"
     ]
    },
    "id": "VZKixIPHzGV-",
    "outputId": "10e02272-9cb3-4634-a8e6-9cd8de0bae6e"
   },
   "outputs": [
    {
     "data": {
      "application/vnd.jupyter.widget-view+json": {
       "model_id": "5923de17e5834b3b9e370e5a1a20e58f",
       "version_major": 2,
       "version_minor": 0
      },
      "text/plain": [
       "Output()"
      ]
     },
     "metadata": {},
     "output_type": "display_data"
    },
    {
     "data": {
      "text/html": [
       "<pre style=\"white-space:pre;overflow-x:auto;line-height:normal;font-family:Menlo,'DejaVu Sans Mono',consolas,'Courier New',monospace\"></pre>\n"
      ],
      "text/plain": []
     },
     "metadata": {},
     "output_type": "display_data"
    },
    {
     "name": "stdout",
     "output_type": "stream",
     "text": [
      "(1000, 268)\n",
      "<xarray.DataArray 'output' (output_dim_2: 268)> Size: 2kB\n",
      "array([30722.61280873,  9127.2298558 , 10919.69607381,  2960.22962343,\n",
      "       28094.01613932, 11243.03825252, 14194.05436017, 12861.0061692 ,\n",
      "       34050.53594444,  5063.69888817, 18806.96677116, 11894.89745879,\n",
      "        3499.47569409,  5824.77653995, 12891.66910948,  4675.60161685,\n",
      "        5506.69331866,  3195.30014196,  2594.42440498,  8896.64454547,\n",
      "       11076.75847463, 37567.91784482,  3331.8629833 ,  7101.71888912,\n",
      "        8676.20851983,  2901.6571516 , 35998.17355952, 17413.8347602 ,\n",
      "        6167.96847875,  3882.36968933, 30793.65770978, 12232.16494659,\n",
      "       31321.44250038,  2282.84598445,  6474.5264285 , 10856.06043617,\n",
      "        2616.45000287,  8864.93813448,  7692.70979655, 15587.10327793,\n",
      "        8231.35783529,  3585.77266263,  6458.04624224, 32628.43550155,\n",
      "        4530.29360048, 10487.51286786,  5110.13822163, 12105.37298048,\n",
      "       11717.80571119,  8473.19182563,  7680.38267874,  4476.34189276,\n",
      "       10346.07262667,  4922.33631342, 20902.84642786, 10161.52530466,\n",
      "       25986.24187082,  2525.40863165, 27078.10558699,  3744.67105036,\n",
      "        3123.93765622, 10801.64376334, 12196.33473386, 33437.67349983,\n",
      "        7019.1774716 ,  2657.66786595, 30071.24026683, 42808.79105999,\n",
      "        2507.83427735, 44251.0096761 , 11792.78890789, 11555.74986094,\n",
      "        3352.88250093, 40303.67676553,  2643.34520876,  3745.29872637,\n",
      "        7228.49964254,  4493.34016939, 11782.6532948 ,  4990.4693148 ,\n",
      "...\n",
      "       14678.88407481,  9396.5134483 , 38653.33722364,  8068.3577463 ,\n",
      "       13299.97196364, 28814.01781929, 22190.70798363, 30463.52960279,\n",
      "       14522.45004784, 11989.59273478,  6615.81589675,  3051.98151806,\n",
      "       37288.57470163, 39545.70452213,  4825.81139349,  7212.21722365,\n",
      "        8764.1232424 ,  5297.78657148,  6312.52070872,  4580.84735852,\n",
      "        2614.6382947 , 12113.61720875,  7001.68661089,  3057.28765517,\n",
      "       27581.85876575, 11650.55182657,  5838.84031194, 11595.7159244 ,\n",
      "        4688.8570546 ,  7428.21837152, 10545.5000893 , 28442.55121506,\n",
      "       38700.59714012,  2990.98574529,  8789.97724679,  3728.93886564,\n",
      "        3495.44141177, 10042.90730973, 36464.95236052,  5762.78800325,\n",
      "       31288.37517574,  2129.81788972,  9330.95773866, 40412.23332057,\n",
      "       31982.04437378, 29217.10350276,  2659.4543852 ,  4344.98610159,\n",
      "       15834.28514819,  8421.71175789,  6572.74060875,  5188.50560653,\n",
      "       15548.6697462 , 13506.09489684, 12442.91730827, 44517.81840238,\n",
      "        5187.85799947, 13498.93049046, 12956.43253818, 34246.10895712,\n",
      "        2650.29749546, 20940.07739284,  5530.01656673, 27493.51770578,\n",
      "        3072.71053788, 15182.07672415,  7776.16908451, 15142.44003552,\n",
      "        8754.4688461 , 17402.12535836, 24583.75807777, 14152.16243423,\n",
      "       34430.68944461,  8510.29033774,  7419.89518241, 11569.79554418,\n",
      "        9619.77881788,  8114.80637815, 10476.47227064,  9868.39252237])\n",
      "Coordinates:\n",
      "    chain         int64 8B 0\n",
      "  * output_dim_2  (output_dim_2) int64 2kB 0 1 2 3 4 5 ... 263 264 265 266 267\n",
      "Spearman correlation: 0.8866470835479934\n",
      "(268,)\n",
      "Out of with\n",
      "<xarray.DataArray 'output' (output_dim_2: 268)> Size: 2kB\n",
      "array([30722.61280873,  9127.2298558 , 10919.69607381,  2960.22962343,\n",
      "       28094.01613932, 11243.03825252, 14194.05436017, 12861.0061692 ,\n",
      "       34050.53594444,  5063.69888817, 18806.96677116, 11894.89745879,\n",
      "        3499.47569409,  5824.77653995, 12891.66910948,  4675.60161685,\n",
      "        5506.69331866,  3195.30014196,  2594.42440498,  8896.64454547,\n",
      "       11076.75847463, 37567.91784482,  3331.8629833 ,  7101.71888912,\n",
      "        8676.20851983,  2901.6571516 , 35998.17355952, 17413.8347602 ,\n",
      "        6167.96847875,  3882.36968933, 30793.65770978, 12232.16494659,\n",
      "       31321.44250038,  2282.84598445,  6474.5264285 , 10856.06043617,\n",
      "        2616.45000287,  8864.93813448,  7692.70979655, 15587.10327793,\n",
      "        8231.35783529,  3585.77266263,  6458.04624224, 32628.43550155,\n",
      "        4530.29360048, 10487.51286786,  5110.13822163, 12105.37298048,\n",
      "       11717.80571119,  8473.19182563,  7680.38267874,  4476.34189276,\n",
      "       10346.07262667,  4922.33631342, 20902.84642786, 10161.52530466,\n",
      "       25986.24187082,  2525.40863165, 27078.10558699,  3744.67105036,\n",
      "        3123.93765622, 10801.64376334, 12196.33473386, 33437.67349983,\n",
      "        7019.1774716 ,  2657.66786595, 30071.24026683, 42808.79105999,\n",
      "        2507.83427735, 44251.0096761 , 11792.78890789, 11555.74986094,\n",
      "        3352.88250093, 40303.67676553,  2643.34520876,  3745.29872637,\n",
      "        7228.49964254,  4493.34016939, 11782.6532948 ,  4990.4693148 ,\n",
      "...\n",
      "       14678.88407481,  9396.5134483 , 38653.33722364,  8068.3577463 ,\n",
      "       13299.97196364, 28814.01781929, 22190.70798363, 30463.52960279,\n",
      "       14522.45004784, 11989.59273478,  6615.81589675,  3051.98151806,\n",
      "       37288.57470163, 39545.70452213,  4825.81139349,  7212.21722365,\n",
      "        8764.1232424 ,  5297.78657148,  6312.52070872,  4580.84735852,\n",
      "        2614.6382947 , 12113.61720875,  7001.68661089,  3057.28765517,\n",
      "       27581.85876575, 11650.55182657,  5838.84031194, 11595.7159244 ,\n",
      "        4688.8570546 ,  7428.21837152, 10545.5000893 , 28442.55121506,\n",
      "       38700.59714012,  2990.98574529,  8789.97724679,  3728.93886564,\n",
      "        3495.44141177, 10042.90730973, 36464.95236052,  5762.78800325,\n",
      "       31288.37517574,  2129.81788972,  9330.95773866, 40412.23332057,\n",
      "       31982.04437378, 29217.10350276,  2659.4543852 ,  4344.98610159,\n",
      "       15834.28514819,  8421.71175789,  6572.74060875,  5188.50560653,\n",
      "       15548.6697462 , 13506.09489684, 12442.91730827, 44517.81840238,\n",
      "        5187.85799947, 13498.93049046, 12956.43253818, 34246.10895712,\n",
      "        2650.29749546, 20940.07739284,  5530.01656673, 27493.51770578,\n",
      "        3072.71053788, 15182.07672415,  7776.16908451, 15142.44003552,\n",
      "        8754.4688461 , 17402.12535836, 24583.75807777, 14152.16243423,\n",
      "       34430.68944461,  8510.29033774,  7419.89518241, 11569.79554418,\n",
      "        9619.77881788,  8114.80637815, 10476.47227064,  9868.39252237])\n",
      "Coordinates:\n",
      "    chain         int64 8B 0\n",
      "  * output_dim_2  (output_dim_2) int64 2kB 0 1 2 3 4 5 ... 263 264 265 266 267\n"
     ]
    }
   ],
   "source": [
    "predictions = None\n",
    "\n",
    "with bnn:\n",
    "    # Actualizăm coordonatele și datele pentru setul de test\n",
    "    pm.set_data({\n",
    "        \"model_input\": X_test,\n",
    "        \"model_output\": np.zeros(y_test.shape)  # Folosim valorile reale\n",
    "    }, coords={\"samples\": np.arange(X_test.shape[0])})\n",
    "\n",
    "    # Generăm predicții din posterior\n",
    "    ppc = pm.sample_posterior_predictive(trace, var_names=[\"output\"])\n",
    "    #ppc = pm.sample_posterior_predictive(trace, var_names=[\"predictions\"])\n",
    "\n",
    "    predictions_draws = np.squeeze(ppc.posterior_predictive[\"output\"])\n",
    "    print(predictions_draws.shape)\n",
    "    predictions = np.mean(predictions_draws, axis=0)\n",
    "    print(predictions)\n",
    "    #Calculate spearman correlation between predicted and actual values\n",
    "    spearman_corr = np.corrcoef(y_test, predictions, rowvar=False)[0, 1]\n",
    "    print(f\"Spearman correlation: {spearman_corr}\")\n",
    "    print(predictions.shape)\n",
    "print(\"Out of with\")\n",
    "print(predictions)\n"
   ]
  },
  {
   "cell_type": "markdown",
   "metadata": {
    "id": "0X7JZPj_j_61"
   },
   "source": [
    "Verific intervalul in care se afla valoarea pe care urmeaza sa o elimin pt punctele de extrapolare"
   ]
  },
  {
   "cell_type": "code",
   "execution_count": null,
   "metadata": {
    "colab": {
     "base_uri": "https://localhost:8080/"
    },
    "id": "YFMmp82BJz0q",
    "outputId": "eced681d-faa6-446b-b564-48c9bca68de0"
   },
   "outputs": [
    {
     "name": "stdout",
     "output_type": "stream",
     "text": [
      "Intervalul pentru 'cylinders': [3, 8]\n",
      "Valorile unice pentru 'cylinders': [3, 4, 5, 6, 8]\n",
      "\n",
      "Distribuția frecvențelor pentru 'cylinders':\n",
      "cylinders\n",
      "4    199\n",
      "8    103\n",
      "6     83\n",
      "3      4\n",
      "5      3\n",
      "Name: count, dtype: int64\n"
     ]
    }
   ],
   "source": [
    "import pandas as pd\n",
    "\n",
    "# Încarci datase\n",
    "# Verifici range-ul pentru coloana 'cylinders'\n",
    "min_value = mpg['cylinders'].min()\n",
    "max_value = mpg['cylinders'].max()\n",
    "\n",
    "print(f\"Intervalul pentru 'cylinders': [{min_value}, {max_value}]\")\n",
    "\n",
    "# Afișezi valorile unice pentru a înțelege distribuția\n",
    "unique_values = mpg['cylinders'].unique()\n",
    "print(f\"Valorile unice pentru 'cylinders': {sorted(unique_values)}\")\n",
    "\n",
    "# Verifici distribuția frecvențelor pentru fiecare valoare\n",
    "value_counts = mpg['cylinders'].value_counts()\n",
    "print(\"\\nDistribuția frecvențelor pentru 'cylinders':\")\n",
    "print(value_counts)\n"
   ]
  },
  {
   "cell_type": "code",
   "execution_count": null,
   "metadata": {
    "colab": {
     "base_uri": "https://localhost:8080/"
    },
    "id": "6RaupGJvlHze",
    "outputId": "5cda122f-3312-4bc4-9d85-2b16cde5b111"
   },
   "outputs": [
    {
     "name": "stdout",
     "output_type": "stream",
     "text": [
      "Număr de exemple în setul de antrenament: 320\n",
      "Număr de exemple în setul de test: 72\n"
     ]
    }
   ],
   "source": [
    "# Interval pentru setul de antrenament\n",
    "train_interval = (mpg['cylinders'] >= 3) & (mpg['cylinders'] <= 6)\n",
    "\n",
    "\n",
    "# Separăm toate datele pentru `cylinders = 8`\n",
    "data_cyl_8 = mpg[mpg['cylinders'] == 8]\n",
    "\n",
    "# Selectăm doar o fracțiune pentru test (e.g., 30% din `cylinders = 8`)\n",
    "test_data, extra_train_data = train_test_split(data_cyl_8, test_size=0.3, random_state=42)\n",
    "\n",
    "# Adăugăm restul datelor (70%) la setul de antrenament\n",
    "train_data = pd.concat([mpg[mpg['cylinders'] <= 6], extra_train_data])\n",
    "\n",
    "# Separăm caracteristicile și ținta\n",
    "X_train = train_data.drop(columns=['mpg'])\n",
    "y_train = train_data['mpg']\n",
    "X_test = test_data.drop(columns=['mpg'])\n",
    "y_test = test_data['mpg']\n",
    "\n",
    "# Verificăm dimensiunile\n",
    "print(f\"Număr de exemple în setul de antrenament: {len(X_train)}\")\n",
    "print(f\"Număr de exemple în setul de test: {len(X_test)}\")\n",
    "\n"
   ]
  },
  {
   "cell_type": "code",
   "execution_count": null,
   "metadata": {
    "id": "XFOPYfIum2Pj"
   },
   "outputs": [],
   "source": [
    "def calculate_uncertainty_regression(predictions, label='Test'):\n",
    "    \"\"\"\n",
    "    Calculează incertitudinea totală (deviația standard) pentru fiecare punct de test.\n",
    "\n",
    "    Parameters:\n",
    "    - predictions: array (n_draws, n_samples)\n",
    "      Array-ul de mostre din posterior (e.g., ppc[\"output\"]).\n",
    "    - label: str\n",
    "      Etichetă pentru grafic.\n",
    "\n",
    "    Returns:\n",
    "    - uncertainty_array: array (n_samples,)\n",
    "      Array-ul incertitudinii (deviația standard) pentru fiecare punct de test.\n",
    "    \"\"\"\n",
    "    # Calculăm deviația standard pentru fiecare punct\n",
    "    uncertainty_array = np.std(predictions, axis=0)  # Dimensiune: (n_samples,)\n",
    "\n",
    "    # Vizualizăm distribuția incertitudinilor\n",
    "    plt.figure(figsize=(8, 5))\n",
    "    plt.hist(uncertainty_array, bins=20, color='green', alpha=0.75, edgecolor='black')\n",
    "    plt.title(f\"{label} Posterior Predictive Uncertainty\")\n",
    "    plt.xlabel(\"Standard Deviation\")\n",
    "    plt.ylabel(\"Frequency\")\n",
    "    plt.show()\n",
    "\n",
    "    return uncertainty_array"
   ]
  },
  {
   "cell_type": "code",
   "execution_count": null,
   "metadata": {
    "id": "2_ObrFtl772z"
   },
   "outputs": [],
   "source": [
    "def detect_extrapolation_points(uncertainty_array, threshold=None):\n",
    "    \"\"\"\n",
    "    Detectează punctele cu incertitudine mare, care sunt considerate în extrapolare.\n",
    "\n",
    "    Parameters:\n",
    "    - uncertainty_array: array (n_samples,)\n",
    "      Array-ul incertitudinii pentru fiecare punct de test.\n",
    "    - threshold: float, optional\n",
    "      Prag pentru a identifica punctele în extrapolare (dacă nu este specificat, se va folosi percentilul 95).\n",
    "\n",
    "    Returns:\n",
    "    - extrapolation_points: list\n",
    "      Indicii punctelor care depășesc pragul specificat.\n",
    "    - threshold: float\n",
    "      Pragul folosit pentru a detecta punctele în extrapolare.\n",
    "    \"\"\"\n",
    "    # Setăm pragul dacă nu este specificat\n",
    "    if threshold is None:\n",
    "        threshold = np.percentile(uncertainty_array, 95)  # Prag automat: al 95-lea percentil\n",
    "\n",
    "    # Detectăm punctele cu incertitudine peste prag\n",
    "    extrapolation_points = np.where(uncertainty_array > threshold)[0]\n",
    "\n",
    "    print(f\"Pragul folosit pentru extrapolare: {threshold:.2f}\")\n",
    "    print(f\"Număr de puncte în extrapolare: {len(extrapolation_points)}\")\n",
    "\n",
    "    return extrapolation_points, threshold\n"
   ]
  },
  {
   "cell_type": "code",
   "execution_count": null,
   "metadata": {
    "colab": {
     "base_uri": "https://localhost:8080/",
     "height": 987
    },
    "id": "okRrs7WT8NFq",
    "outputId": "cd45db3e-7605-4272-bf84-06877ea55ffa"
   },
   "outputs": [
    {
     "name": "stdout",
     "output_type": "stream",
     "text": [
      "[15.60906178 15.61001865 15.73019209 15.73162858 15.73007446 15.66430455\n",
      " 15.52199252 15.75155018 15.79911248 15.77545243 15.54266861 15.87612358\n",
      " 15.93783253 15.89296092 15.78213179 15.79525127 16.0518943  15.84061921\n",
      " 15.76403237 15.58138555 15.84428662 15.70554006 15.74155661 15.86943311\n",
      " 15.78738861 15.7406121  15.70016631 15.7364897  15.65801117 15.71353914\n",
      " 15.91695736 15.46366121 15.47898069 15.78123101 15.7791625  15.90585066\n",
      " 15.69340535 15.63465608 15.76325992 15.68749901 15.61605117 15.95146587\n",
      " 15.53922882 15.80688883 15.62029152 15.47447562 15.81495178 15.53909762\n",
      " 15.86766895 15.87557546 15.75248555 16.05079213 15.46346134 15.94938047\n",
      " 15.77139559 15.64195613 15.51275399 15.73496908 15.82689266 15.74499022\n",
      " 15.70403398 15.60264114 15.60682444 15.67357658 15.52797909 15.59892491\n",
      " 15.72703333 15.59883727 15.5183224  15.86356418 15.66930624 15.67692128\n",
      " 15.6776875  15.56241026 15.67870928 15.61672323 15.72789752 15.84601351\n",
      " 15.60881489]\n",
      "[15.60906178 15.61001865 15.73019209 15.73162858 15.73007446 15.66430455\n",
      " 15.52199252 15.75155018 15.79911248 15.77545243 15.54266861 15.87612358\n",
      " 15.93783253 15.89296092 15.78213179 15.79525127 16.0518943  15.84061921\n",
      " 15.76403237 15.58138555 15.84428662 15.70554006 15.74155661 15.86943311\n",
      " 15.78738861 15.7406121  15.70016631 15.7364897  15.65801117 15.71353914\n",
      " 15.91695736 15.46366121 15.47898069 15.78123101 15.7791625  15.90585066\n",
      " 15.69340535 15.63465608 15.76325992 15.68749901 15.61605117 15.95146587\n",
      " 15.53922882 15.80688883 15.62029152 15.47447562 15.81495178 15.53909762\n",
      " 15.86766895 15.87557546 15.75248555 16.05079213 15.46346134 15.94938047\n",
      " 15.77139559 15.64195613 15.51275399 15.73496908 15.82689266 15.74499022\n",
      " 15.70403398 15.60264114 15.60682444 15.67357658 15.52797909 15.59892491\n",
      " 15.72703333 15.59883727 15.5183224  15.86356418 15.66930624 15.67692128\n",
      " 15.6776875  15.56241026 15.67870928 15.61672323 15.72789752 15.84601351\n",
      " 15.60881489]\n"
     ]
    },
    {
     "data": {
      "image/png": "[encoded data removed]",
      "text/plain": [
       "<Figure size 800x500 with 1 Axes>"
      ]
     },
     "metadata": {},
     "output_type": "display_data"
    }
   ],
   "source": [
    "# print(predictions)\n",
    "predictions = np.array(predictions)\n",
    "# print(predictions)\n",
    "uncertainty_array = calculate_uncertainty_regression(predictions, label=\"Test - full dataset\")\n"
   ]
  },
  {
   "cell_type": "code",
   "execution_count": null,
   "metadata": {
    "colab": {
     "base_uri": "https://localhost:8080/"
    },
    "id": "N0YMZvBfBZ-g",
    "outputId": "38081c04-e3d3-447a-d8f8-51a479f5ab32"
   },
   "outputs": [
    {
     "name": "stdout",
     "output_type": "stream",
     "text": [
      "Pragul ales (percentilul 95): 0.13\n",
      "Pragul ales (percentilul 90): 0.13\n"
     ]
    }
   ],
   "source": [
    "# Calculăm pragul pe baza percentilului 95\n",
    "threshold = np.percentile(uncertainty_array, 95)\n",
    "\n",
    "print(f\"Pragul ales (percentilul 95): {threshold:.2f}\")\n",
    "\n",
    "threshold = np.percentile(uncertainty_array, 90)\n",
    "\n",
    "print(f\"Pragul ales (percentilul 90): {threshold:.2f}\")"
   ]
  },
  {
   "cell_type": "markdown",
   "metadata": {
    "id": "FIr8A3WoA_tA"
   },
   "source": [
    "extrapolated data"
   ]
  },
  {
   "cell_type": "code",
   "execution_count": null,
   "metadata": {
    "colab": {
     "base_uri": "https://localhost:8080/"
    },
    "id": "Z4b08hsb8RaQ",
    "outputId": "6f5a39aa-0d35-470c-fdab-0186e6e1418e"
   },
   "outputs": [
    {
     "name": "stdout",
     "output_type": "stream",
     "text": [
      "    mpg  cylinders  displacement  horsepower  weight  acceleration  \\\n",
      "0  18.0          8         307.0       130.0    3504          12.0   \n",
      "1  15.0          8         350.0       165.0    3693          11.5   \n",
      "2  18.0          8         318.0       150.0    3436          11.0   \n",
      "3  16.0          8         304.0       150.0    3433          12.0   \n",
      "4  17.0          8         302.0       140.0    3449          10.5   \n",
      "\n",
      "   model_year  origin_japan  origin_usa  \n",
      "0          70         False        True  \n",
      "1          70         False        True  \n",
      "2          70         False        True  \n",
      "3          70         False        True  \n",
      "4          70         False        True  \n"
     ]
    }
   ],
   "source": [
    "# Citim setul de date\n",
    "mpg = pd.read_csv(\"auto_mpg_preprocessed.csv\")\n",
    "\n",
    "# Eliminăm coloanele care nu sunt relevante pentru analiză\n",
    "mpg = mpg.drop(columns=['name'])\n",
    "\n",
    "# Completăm valorile lipsă\n",
    "mpg['horsepower'] = mpg['horsepower'].fillna(mpg['horsepower'].mean())\n",
    "\n",
    "# Transformăm coloana categorică 'origin' folosind one-hot encoding\n",
    "mpg = pd.get_dummies(mpg, columns=['origin'], drop_first=True)\n",
    "\n",
    "# Verificăm setul de date\n",
    "print(mpg.head())\n"
   ]
  },
  {
   "cell_type": "code",
   "execution_count": null,
   "metadata": {
    "colab": {
     "base_uri": "https://localhost:8080/"
    },
    "id": "l-eqt1hACzDC",
    "outputId": "b2ab0b49-d629-485f-8def-dc0f72dc7ff3"
   },
   "outputs": [
    {
     "name": "stdout",
     "output_type": "stream",
     "text": [
      "Număr de exemple în setul de antrenament: 320\n",
      "Număr de exemple în setul de test: 72\n"
     ]
    }
   ],
   "source": [
    "from sklearn.model_selection import train_test_split\n",
    "\n",
    "# 1. Separăm datele pe baza intervalului de antrenament\n",
    "train_interval = (mpg['cylinders'] >= 3) & (mpg['cylinders'] <= 6)\n",
    "train_data_normal = mpg[train_interval]\n",
    "\n",
    "# 2. Selectăm toate datele pentru `cylinders = 8` (extrapolare)\n",
    "data_cyl_8 = mpg[mpg['cylinders'] == 8]\n",
    "\n",
    "# 3. Împărțim datele pentru `cylinders = 8` în test și \"extra train\" (30% pentru test)\n",
    "test_data_extrapolated, extra_train_data = train_test_split(data_cyl_8, test_size=0.3, random_state=42)\n",
    "\n",
    "# 4. Creăm setul complet de antrenament (adăugăm 70% din `cylinders = 8` la datele normale)\n",
    "train_data = pd.concat([train_data_normal, extra_train_data])\n",
    "\n",
    "# 5. Creăm seturile de caracteristici și țintă\n",
    "X_train_extrapolated = train_data.drop(columns=['mpg'])\n",
    "y_train_extrapolated = train_data['mpg']\n",
    "\n",
    "X_test_extrapolated = test_data_extrapolated.drop(columns=['mpg'])\n",
    "y_test_extrapolated = test_data_extrapolated['mpg']\n",
    "\n",
    "# Verificăm dimensiunile\n",
    "print(f\"Număr de exemple în setul de antrenament: {len(X_train_extrapolated)}\")\n",
    "print(f\"Număr de exemple în setul de test: {len(X_test_extrapolated)}\")\n"
   ]
  },
  {
   "cell_type": "code",
   "execution_count": null,
   "metadata": {
    "colab": {
     "base_uri": "https://localhost:8080/"
    },
    "id": "5PnH2mcKC4gw",
    "outputId": "611223d5-da66-4ba0-d19c-56c465e34a8e"
   },
   "outputs": [
    {
     "name": "stdout",
     "output_type": "stream",
     "text": [
      "Număr de puncte în overlap între setul de test și cel de antrenament: 0\n"
     ]
    }
   ],
   "source": [
    "# Verificăm suprapunerea între seturile de antrenament și test\n",
    "overlap = X_test_extrapolated.merge(X_train_extrapolated, how='inner')\n",
    "print(f\"Număr de puncte în overlap între setul de test și cel de antrenament: {len(overlap)}\")\n"
   ]
  },
  {
   "cell_type": "code",
   "execution_count": null,
   "metadata": {
    "colab": {
     "base_uri": "https://localhost:8080/",
     "height": 34,
     "referenced_widgets": [
      "9ea1905cb4ae4f77972ebb1a8c6dda91",
      "e28c7040fc044995905565ca9ecf3de2"
     ]
    },
    "id": "_IAgH-qsDDhY",
    "outputId": "7bf13396-8bdc-485a-a7fe-e918c7bdb76f"
   },
   "outputs": [
    {
     "data": {
      "application/vnd.jupyter.widget-view+json": {
       "model_id": "9ea1905cb4ae4f77972ebb1a8c6dda91",
       "version_major": 2,
       "version_minor": 0
      },
      "text/plain": [
       "Output()"
      ]
     },
     "metadata": {},
     "output_type": "display_data"
    },
    {
     "data": {
      "text/html": [
       "<pre style=\"white-space:pre;overflow-x:auto;line-height:normal;font-family:Menlo,'DejaVu Sans Mono',consolas,'Courier New',monospace\"></pre>\n"
      ],
      "text/plain": []
     },
     "metadata": {},
     "output_type": "display_data"
    }
   ],
   "source": [
    "# Construim modelul pentru datele extrapolate\n",
    "bnn_extrapolated = create_bayesian_network(X_train_extrapolated, y_train_extrapolated)\n",
    "\n",
    "with bnn_extrapolated:\n",
    "    # Ajustăm modelul folosind ADVI\n",
    "    approx_extrapolated = pm.fit(100000, method=\"advi\", random_seed=42)\n",
    "    trace_extrapolated = approx_extrapolated.sample(draws=1000, return_inferencedata=True)\n"
   ]
  },
  {
   "cell_type": "code",
   "execution_count": null,
   "metadata": {
    "colab": {
     "base_uri": "https://localhost:8080/",
     "height": 712,
     "referenced_widgets": [
      "f421cf7c31914f42b9bdd8a14ffc7aa4",
      "3bbee009e26e4ff8a7c98640424fbaa3"
     ]
    },
    "id": "6uXtykrJDuul",
    "outputId": "d08e214a-cdc1-4520-a603-4c6e7f7c1b47"
   },
   "outputs": [
    {
     "data": {
      "application/vnd.jupyter.widget-view+json": {
       "model_id": "f421cf7c31914f42b9bdd8a14ffc7aa4",
       "version_major": 2,
       "version_minor": 0
      },
      "text/plain": [
       "Output()"
      ]
     },
     "metadata": {},
     "output_type": "display_data"
    },
    {
     "data": {
      "text/html": [
       "<pre style=\"white-space:pre;overflow-x:auto;line-height:normal;font-family:Menlo,'DejaVu Sans Mono',consolas,'Courier New',monospace\"></pre>\n"
      ],
      "text/plain": []
     },
     "metadata": {},
     "output_type": "display_data"
    },
    {
     "name": "stdout",
     "output_type": "stream",
     "text": [
      "<xarray.DataArray 'output' (output_dim_2: 72)> Size: 576B\n",
      "array([22.18126828, 22.20814172, 22.08059651, 22.63313555, 22.13240096,\n",
      "       22.19855009, 22.3061336 , 22.30895573, 22.20306076, 22.14110445,\n",
      "       22.2018412 , 22.36297109, 22.12102934, 22.12477007, 22.13350917,\n",
      "       22.46808537, 22.49315862, 22.24201257, 22.47045878, 22.24033358,\n",
      "       22.50688479, 22.64269517, 22.74717264, 22.06104932, 22.47587641,\n",
      "       22.35565246, 21.90816958, 22.49780428, 22.16112637, 22.57379067,\n",
      "       22.2823854 , 22.36562953, 22.20027244, 22.16477636, 22.47291239,\n",
      "       22.19019445, 22.74550198, 21.79241594, 22.34226248, 22.38338467,\n",
      "       22.42988736, 22.47100786, 22.30183516, 22.14957384, 22.21301554,\n",
      "       22.07340067, 22.11899297, 22.57204244, 22.55462068, 22.44581629,\n",
      "       22.11531589, 22.00804071, 22.18511527, 22.55146372, 22.66214313,\n",
      "       22.57919632, 22.16049191, 22.31167064, 22.57380626, 22.62368679,\n",
      "       22.25637655, 22.0032127 , 22.39756576, 22.20810555, 21.91246123,\n",
      "       22.22847833, 21.74137072, 22.42443098, 22.0811654 , 22.27928874,\n",
      "       22.27036657, 22.34044692])\n",
      "Coordinates:\n",
      "    chain         int64 8B 0\n",
      "  * output_dim_2  (output_dim_2) int64 576B 0 1 2 3 4 5 6 ... 66 67 68 69 70 71\n",
      "<xarray.DataArray 'output' (output_dim_2: 72)> Size: 576B\n",
      "array([22.18126828, 22.20814172, 22.08059651, 22.63313555, 22.13240096,\n",
      "       22.19855009, 22.3061336 , 22.30895573, 22.20306076, 22.14110445,\n",
      "       22.2018412 , 22.36297109, 22.12102934, 22.12477007, 22.13350917,\n",
      "       22.46808537, 22.49315862, 22.24201257, 22.47045878, 22.24033358,\n",
      "       22.50688479, 22.64269517, 22.74717264, 22.06104932, 22.47587641,\n",
      "       22.35565246, 21.90816958, 22.49780428, 22.16112637, 22.57379067,\n",
      "       22.2823854 , 22.36562953, 22.20027244, 22.16477636, 22.47291239,\n",
      "       22.19019445, 22.74550198, 21.79241594, 22.34226248, 22.38338467,\n",
      "       22.42988736, 22.47100786, 22.30183516, 22.14957384, 22.21301554,\n",
      "       22.07340067, 22.11899297, 22.57204244, 22.55462068, 22.44581629,\n",
      "       22.11531589, 22.00804071, 22.18511527, 22.55146372, 22.66214313,\n",
      "       22.57919632, 22.16049191, 22.31167064, 22.57380626, 22.62368679,\n",
      "       22.25637655, 22.0032127 , 22.39756576, 22.20810555, 21.91246123,\n",
      "       22.22847833, 21.74137072, 22.42443098, 22.0811654 , 22.27928874,\n",
      "       22.27036657, 22.34044692])\n",
      "Coordinates:\n",
      "    chain         int64 8B 0\n",
      "  * output_dim_2  (output_dim_2) int64 576B 0 1 2 3 4 5 6 ... 66 67 68 69 70 71\n"
     ]
    }
   ],
   "source": [
    "predictions_extrapolated = None\n",
    "\n",
    "with bnn_extrapolated:\n",
    "    # Setăm datele de test\n",
    "    pm.set_data({\n",
    "        \"model_input\": X_test_extrapolated,\n",
    "        \"model_output\": np.zeros(y_test_extrapolated.shape)  # Placeholder\n",
    "    }, coords={\"samples\": np.arange(X_test_extrapolated.shape[0])})\n",
    "\n",
    "    # Generăm predicții din posterior\n",
    "    ppc_extrapolated = pm.sample_posterior_predictive(trace_extrapolated, var_names=[\"output\"])\n",
    "    predictions_draws_extrapolated = np.squeeze(ppc_extrapolated.posterior_predictive[\"output\"])\n",
    "\n",
    "    # Media predicțiilor pentru fiecare punct de test\n",
    "    predictions_extrapolated = np.mean(predictions_draws_extrapolated, axis=0)\n",
    "    print(predictions_extrapolated)\n",
    "\n",
    "print(predictions_extrapolated)"
   ]
  },
  {
   "cell_type": "code",
   "execution_count": null,
   "metadata": {
    "colab": {
     "base_uri": "https://localhost:8080/",
     "height": 594
    },
    "id": "oyfdHtiID_X0",
    "outputId": "3c502706-51a8-432a-9140-c515c5cf1af4"
   },
   "outputs": [
    {
     "data": {
      "image/png": "[encoded data removed]",
      "text/plain": [
       "<Figure size 800x500 with 1 Axes>"
      ]
     },
     "metadata": {},
     "output_type": "display_data"
    },
    {
     "name": "stdout",
     "output_type": "stream",
     "text": [
      "Primele 10 valori ale incertitudinii: <xarray.DataArray 'output' (output_dim_2: 10)> Size: 80B\n",
      "array([6.57229306, 6.76671666, 6.5710849 , 6.75790984, 6.88190302,\n",
      "       6.72638754, 6.47737728, 6.93496255, 6.78641843, 6.82883204])\n",
      "Coordinates:\n",
      "    chain         int64 8B 0\n",
      "  * output_dim_2  (output_dim_2) int64 80B 0 1 2 3 4 5 6 7 8 9\n"
     ]
    }
   ],
   "source": [
    "# Calculăm incertitudinea pentru punctele extrapolate\n",
    "uncertainty_array_extrapolated = calculate_uncertainty_regression(\n",
    "    predictions_draws_extrapolated, label=\"Extrapolated Test Data\"\n",
    ")\n",
    "\n",
    "print(f\"Primele 10 valori ale incertitudinii: {uncertainty_array_extrapolated[:10]}\")\n"
   ]
  },
  {
   "cell_type": "code",
   "execution_count": null,
   "metadata": {
    "colab": {
     "base_uri": "https://localhost:8080/"
    },
    "id": "U3j17sYXEhzx",
    "outputId": "7daff0a0-a419-4de3-b01b-4f616e93fd26"
   },
   "outputs": [
    {
     "name": "stdout",
     "output_type": "stream",
     "text": [
      "Pragul calculat: 6.99\n",
      "Număr de puncte extrapolate detectate: 4\n"
     ]
    }
   ],
   "source": [
    "# Calculăm pragul (e.g., al 95-lea percentil)\n",
    "threshold_extrapolated = np.percentile(uncertainty_array_extrapolated, 95)\n",
    "extrapolated_points = np.where(uncertainty_array_extrapolated > threshold_extrapolated)[0]\n",
    "\n",
    "print(f\"Pragul calculat: {threshold_extrapolated:.2f}\")\n",
    "print(f\"Număr de puncte extrapolate detectate: {len(extrapolated_points)}\")\n"
   ]
  },
  {
   "cell_type": "code",
   "execution_count": null,
   "metadata": {
    "colab": {
     "base_uri": "https://localhost:8080/",
     "height": 541
    },
    "id": "X1qrBOe8E8SB",
    "outputId": "2be59db8-7f31-41bf-f9f6-3f99c2718913"
   },
   "outputs": [
    {
     "data": {
      "image/png": "[encoded data removed]",
      "text/plain": [
       "<Figure size 1000x600 with 1 Axes>"
      ]
     },
     "metadata": {},
     "output_type": "display_data"
    }
   ],
   "source": [
    "plt.figure(figsize=(10, 6))\n",
    "plt.plot(range(len(uncertainty_array_extrapolated)), uncertainty_array_extrapolated, label=\"Uncertainty\")\n",
    "plt.scatter(extrapolated_points, uncertainty_array_extrapolated[extrapolated_points], color=\"red\", label=\"Extrapolated Points\")\n",
    "plt.axhline(y=threshold_extrapolated, color='blue', linestyle='--', label=f'Threshold: {threshold_extrapolated:.2f}')\n",
    "plt.xlabel(\"Test Sample Index\")\n",
    "plt.ylabel(\"Uncertainty (Standard Deviation)\")\n",
    "plt.title(\"Uncertainty for Extrapolated Test Points\")\n",
    "plt.legend()\n",
    "plt.show()\n",
    "\n"
   ]
  },
  {
   "cell_type": "code",
   "execution_count": null,
   "metadata": {
    "colab": {
     "base_uri": "https://localhost:8080/"
    },
    "id": "aMrZeus0FSSx",
    "outputId": "3cb7b70b-dc65-424e-c148-0c62552e43a1"
   },
   "outputs": [
    {
     "name": "stdout",
     "output_type": "stream",
     "text": [
      "Indice: 21, Predicție: <xarray.DataArray 'output' ()> Size: 8B\n",
      "array(22.64269517)\n",
      "Coordinates:\n",
      "    chain         int64 8B 0\n",
      "    output_dim_2  int64 8B 21, Valoare reală: 14.0\n",
      "Indice: 33, Predicție: <xarray.DataArray 'output' ()> Size: 8B\n",
      "array(22.16477636)\n",
      "Coordinates:\n",
      "    chain         int64 8B 0\n",
      "    output_dim_2  int64 8B 33, Valoare reală: 18.2\n",
      "Indice: 38, Predicție: <xarray.DataArray 'output' ()> Size: 8B\n",
      "array(22.34226248)\n",
      "Coordinates:\n",
      "    chain         int64 8B 0\n",
      "    output_dim_2  int64 8B 38, Valoare reală: 16.0\n",
      "Indice: 64, Predicție: <xarray.DataArray 'output' ()> Size: 8B\n",
      "array(21.91246123)\n",
      "Coordinates:\n",
      "    chain         int64 8B 0\n",
      "    output_dim_2  int64 8B 64, Valoare reală: 16.0\n"
     ]
    }
   ],
   "source": [
    "# Analizăm punctele cu incertitudine mare\n",
    "for idx in extrapolated_points:\n",
    "    print(f\"Indice: {idx}, Predicție: {predictions_extrapolated[idx]}, Valoare reală: {y_test_extrapolated.iloc[idx]}\")\n",
    "\n"
   ]
  },
  {
   "cell_type": "code",
   "execution_count": null,
   "metadata": {
    "colab": {
     "base_uri": "https://localhost:8080/",
     "height": 545
    },
    "id": "FbLhkitYFmZ3",
    "outputId": "32105035-6dca-47ca-9bd3-33e6c746890e"
   },
   "outputs": [
    {
     "data": {
      "image/png": "[encoded data removed]",
      "text/plain": [
       "<Figure size 1000x600 with 1 Axes>"
      ]
     },
     "metadata": {},
     "output_type": "display_data"
    }
   ],
   "source": [
    "plt.figure(figsize=(10, 6))\n",
    "plt.hist(uncertainty_array, bins=20, alpha=0.6, label=\"Test Normal\")\n",
    "plt.hist(uncertainty_array_extrapolated, bins=20, alpha=0.6, label=\"Test Extrapolat\")\n",
    "plt.axvline(threshold_extrapolated, color='blue', linestyle='--', label=f'Threshold: {threshold_extrapolated:.2f}')\n",
    "plt.xlabel(\"Standard Deviation\")\n",
    "plt.ylabel(\"Frequency\")\n",
    "plt.title(\"Compararea incertitudinii între seturi\")\n",
    "plt.legend()\n",
    "plt.show()"
   ]
  },
  {
   "cell_type": "markdown",
   "metadata": {
    "id": "ZvNiwdAFhB7_"
   },
   "source": [
    "I will also try with another dataset"
   ]
  },
  {
   "cell_type": "code",
   "execution_count": null,
   "metadata": {
    "colab": {
     "base_uri": "https://localhost:8080/"
    },
    "id": "3YBqNCxvFs9q",
    "outputId": "5d3c2365-a823-48cd-86ad-ee80543fb6a7"
   },
   "outputs": [
    {
     "name": "stdout",
     "output_type": "stream",
     "text": [
      "Index(['age', 'sex', 'bmi', 'children', 'smoker', 'region', 'charges'], dtype='object')\n",
      "Dimensiuni X_train: (1070, 8)\n",
      "Dimensiuni X_test: (268, 8)\n",
      "Primele 5 exemple din X_train:\n",
      "[[ 0.69727145  0.97878831  1.58092576 -1.0105187  -0.5074631  -0.56641788\n",
      "   1.63579466 -0.56641788]\n",
      " [ 0.19886312 -0.73547651 -0.07876719 -1.0105187  -0.5074631  -0.56641788\n",
      "   1.63579466 -0.56641788]\n",
      " [-0.65555117 -0.44839867 -0.90861367 -1.0105187  -0.5074631  -0.56641788\n",
      "  -0.61132367 -0.56641788]\n",
      " [-0.58434998  1.44795552 -0.07876719  0.98959079 -0.5074631  -0.56641788\n",
      "   1.63579466 -0.56641788]\n",
      " [ 0.69727145 -1.3211153  -0.07876719 -1.0105187  -0.5074631   1.76548098\n",
      "  -0.61132367 -0.56641788]]\n",
      "Primele 5 valori din y_train:\n",
      "[10381.4787  7046.7222  4137.5227  3875.7341  9566.9909]\n",
      "Shape of training data: (1070, 8)\n",
      "Shape of test data: (268, 8)\n"
     ]
    }
   ],
   "source": [
    "import pandas as pd\n",
    "from sklearn.model_selection import train_test_split\n",
    "from sklearn.preprocessing import StandardScaler\n",
    "\n",
    "# Descărcăm dataset-ul\n",
    "url = \"https://github.com/stedy/Machine-Learning-with-R-datasets/raw/master/insurance.csv\"\n",
    "data = pd.read_csv(url)\n",
    "\n",
    "print(data.columns)\n",
    "# Separăm caracteristicile (features) și ținta (target)\n",
    "X = data.drop(columns=[\"charges\"])  # Caracteristicile\n",
    "y = data[\"charges\"]  # Ținta\n",
    "\n",
    "# Transformăm caracteristicile categoriale folosind one-hot encoding\n",
    "X = pd.get_dummies(X, columns=[\"sex\", \"smoker\", \"region\"], drop_first=True)\n",
    "\n",
    "# Standardizăm caracteristicile numerice\n",
    "scaler = StandardScaler()\n",
    "X_scaled = scaler.fit_transform(X)\n",
    "\n",
    "# Împărțim datele în seturi de train și test\n",
    "RANDOM_SEED = 9927\n",
    "X_train, X_test, y_train, y_test = train_test_split(X_scaled, y, test_size=0.2, random_state=RANDOM_SEED)\n",
    "\n",
    "# Convertim în format numpy\n",
    "X_train = X_train.astype(np.float64)\n",
    "X_test = X_test.astype(np.float64)\n",
    "y_train = y_train.to_numpy().astype(np.float64)\n",
    "y_test = y_test.to_numpy().astype(np.float64)\n",
    "\n",
    "# Verificăm dimensiunile\n",
    "print(f\"Dimensiuni X_train: {X_train.shape}\")\n",
    "print(f\"Dimensiuni X_test: {X_test.shape}\")\n",
    "print(f\"Primele 5 exemple din X_train:\\n{X_train[:5]}\")\n",
    "print(f\"Primele 5 valori din y_train:\\n{y_train[:5]}\")\n",
    "\n",
    "print(\"Shape of training data:\", X_train.shape)\n",
    "print(\"Shape of test data:\", X_test.shape)\n"
   ]
  },
  {
   "cell_type": "code",
   "execution_count": null,
   "metadata": {
    "colab": {
     "base_uri": "https://localhost:8080/",
     "height": 635
    },
    "id": "ZWJBImmEqh5D",
    "outputId": "0afe675c-10d3-4ba7-a033-cdde67d22712"
   },
   "outputs": [
    {
     "name": "stdout",
     "output_type": "stream",
     "text": [
      "Minimul valorilor target: 1121.8739\n",
      "Maximul valorilor target: 63770.42801\n",
      "Media valorilor target: 13270.422265141257\n",
      "Deviația standard a valorilor target: 12110.011236693994\n"
     ]
    },
    {
     "data": {
      "image/png": "[encoded data removed]",
      "text/plain": [
       "<Figure size 800x600 with 1 Axes>"
      ]
     },
     "metadata": {},
     "output_type": "display_data"
    }
   ],
   "source": [
    "# Calculăm statistici descriptive pentru variabila target\n",
    "target_min = y.min()\n",
    "target_max = y.max()\n",
    "target_mean = y.mean()\n",
    "target_std = y.std()\n",
    "\n",
    "print(f\"Minimul valorilor target: {target_min}\")\n",
    "print(f\"Maximul valorilor target: {target_max}\")\n",
    "print(f\"Media valorilor target: {target_mean}\")\n",
    "print(f\"Deviația standard a valorilor target: {target_std}\")\n",
    "\n",
    "# Creăm un grafic pentru distribuția variabilei target\n",
    "plt.figure(figsize=(8, 6))\n",
    "plt.hist(y, bins=30, color='blue', alpha=0.7, edgecolor='black')\n",
    "plt.title(\"Distribuția variabilei de țintă (charges)\")\n",
    "plt.xlabel(\"Valoarea targetului (charges)\")\n",
    "plt.ylabel(\"Frecvența\")\n",
    "plt.grid(axis='y', alpha=0.75)\n",
    "plt.show()"
   ]
  },
  {
   "cell_type": "code",
   "execution_count": null,
   "metadata": {
    "colab": {
     "base_uri": "https://localhost:8080/"
    },
    "id": "r_eB6EU7mHmG",
    "outputId": "4ef98c74-7d1f-40ca-8eb4-b6b200a8368d"
   },
   "outputs": [
    {
     "name": "stdout",
     "output_type": "stream",
     "text": [
      "Corelația Spearman pe setul de test: 0.92\n"
     ]
    }
   ],
   "source": [
    "from scipy.stats import spearmanr\n",
    "from sklearn.linear_model import LinearRegression\n",
    "\n",
    "# Model liniar simplu pentru predicție\n",
    "model = LinearRegression()\n",
    "model.fit(X_train, y_train)\n",
    "\n",
    "# Predicții pentru setul de test\n",
    "predict = model.predict(X_test)\n",
    "\n",
    "# Calculăm corelația Spearman între predicții și valorile reale\n",
    "correlation, _ = spearmanr(y_test, predict)\n",
    "print(f\"Corelația Spearman pe setul de test: {correlation:.2f}\")\n"
   ]
  },
  {
   "cell_type": "code",
   "execution_count": null,
   "metadata": {
    "id": "4XNrc2Yamv8I"
   },
   "outputs": [],
   "source": [
    "def create_bayesian_network_relu(input_data, output_data):\n",
    "    \"\"\"\n",
    "    Definim o rețea neurală bayesiană pentru regresie.\n",
    "    \"\"\"\n",
    "    coords = {\n",
    "        \"input_features\": np.arange(input_data.shape[1]),\n",
    "        \"samples\": np.arange(input_data.shape[0]),\n",
    "    }\n",
    "\n",
    "    with pm.Model(coords=coords) as bayesian_nn:\n",
    "        # Definim datele de intrare și ieșire\n",
    "        model_input = pm.Data(\"model_input\", input_data, dims=(\"samples\", \"input_features\"))\n",
    "        model_output = pm.Data(\"model_output\", output_data, dims=\"samples\")\n",
    "\n",
    "        # Priori pentru primul strat ascuns\n",
    "        weights_layer1 = pm.Normal(\"weights_layer1\", mu=0, sigma=2, shape=(input_data.shape[1], 20))\n",
    "        biases_layer1 = pm.Normal(\"biases_layer1\", mu=0, sigma=1, shape=(20,))\n",
    "\n",
    "        # Priori pentru al doilea strat ascuns\n",
    "        weights_layer2 = pm.Normal(\"weights_layer2\", mu=0, sigma=2, shape=(20, 15))\n",
    "        biases_layer2 = pm.Normal(\"biases_layer2\", mu=0, sigma=1, shape=(15,))\n",
    "\n",
    "        # Priori pentru stratul de ieșire\n",
    "        weights_output = pm.Normal(\"weights_output\", mu=0, sigma=1, shape=(15, 1))\n",
    "        bias_output = pm.Normal(\"bias_output\", mu=0, sigma=1)\n",
    "\n",
    "        # Calculăm activările pentru fiecare strat\n",
    "        # hidden_layer1 = pm.Deterministic(\"hidden_layer1\", pm.math.tanh(pmath.dot(model_input, weights_layer1) + biases_layer1))\n",
    "        hidden_layer1 = pm.Deterministic(\"hidden_layer1\", pm.math.maximum(0, pmath.dot(model_input, weights_layer1) + biases_layer1))\n",
    "\n",
    "        # hidden_layer2 = pm.Deterministic(\"hidden_layer2\", pm.math.tanh(pmath.dot(hidden_layer1, weights_layer2) + biases_layer2))\n",
    "        hidden_layer2 = pm.Deterministic(\"hidden_layer2\", pm.math.maximum(0, pmath.dot(hidden_layer1, weights_layer2) + biases_layer2))\n",
    "\n",
    "        network_output = pm.Deterministic(\"network_output\", pm.math.flatten(pmath.dot(hidden_layer2, weights_output) + bias_output))\n",
    "\n",
    "        predictions_det = pm.Deterministic(\"predictions\", network_output)\n",
    "\n",
    "        # Definim distribuția pentru ieșirea modelului\n",
    "        #sigma = pm.HalfNormal(\"sigma\", sigma=0.5)\n",
    "        #sigma = pm.Exponential(\"sigma\", lam=1)\n",
    "\n",
    "        output = pm.Normal(\"output\", mu=network_output, sigma=sigma, observed=model_output)\n",
    "\n",
    "    return bayesian_nn\n"
   ]
  },
  {
   "cell_type": "code",
   "execution_count": null,
   "metadata": {
    "colab": {
     "base_uri": "https://localhost:8080/",
     "height": 34
    },
    "id": "CraCHSCKm48I",
    "outputId": "2bac2170-5fa5-4b06-f191-70d8373943c6"
   },
   "outputs": [
    {
     "data": {
      "text/html": [
       "<pre style=\"white-space:pre;overflow-x:auto;line-height:normal;font-family:Menlo,'DejaVu Sans Mono',consolas,'Courier New',monospace\">Fitting: <span style=\"color: #1764f4; text-decoration-color: #1764f4\">━━━━━━━━━━━━━━━━━━━━━━━━━━━━━━━━━━━━━━━╸</span> <span style=\"color: #800080; text-decoration-color: #800080\">100%</span> <span style=\"color: #008080; text-decoration-color: #008080\">0:00:01</span> Average Loss = 15,012\n",
       "</pre>\n"
      ],
      "text/plain": [
       "Fitting: \u001b[38;2;23;100;244m━━━━━━━━━━━━━━━━━━━━━━━━━━━━━━━━━━━━━━━\u001b[0m\u001b[38;2;23;100;244m╸\u001b[0m \u001b[35m100%\u001b[0m \u001b[36m0:00:01\u001b[0m Average Loss = 15,012\n"
      ]
     },
     "metadata": {},
     "output_type": "display_data"
    },
    {
     "data": {
      "text/html": [
       "<pre style=\"white-space:pre;overflow-x:auto;line-height:normal;font-family:Menlo,'DejaVu Sans Mono',consolas,'Courier New',monospace\"></pre>\n"
      ],
      "text/plain": []
     },
     "metadata": {},
     "output_type": "display_data"
    }
   ],
   "source": [
    "#Construim modelul\n",
    "bnn_relu = create_bayesian_network_relu(X_train, y_train)\n",
    "\n",
    "with bnn_relu:\n",
    "    # Ajustăm modelul folosind ADVI\n",
    "    approx = pm.fit(90000, method=\"advi\", random_seed=RANDOM_SEED)\n",
    "    trace = approx.sample(draws=1000, return_inferencedata=True)\n"
   ]
  },
  {
   "cell_type": "code",
   "execution_count": null,
   "metadata": {
    "colab": {
     "base_uri": "https://localhost:8080/",
     "height": 87
    },
    "id": "vrsqh6Z7nEBR",
    "outputId": "43a991fe-eb8d-411d-e47e-c8d2ff4b5be3"
   },
   "outputs": [
    {
     "data": {
      "text/html": [
       "<pre style=\"white-space:pre;overflow-x:auto;line-height:normal;font-family:Menlo,'DejaVu Sans Mono',consolas,'Courier New',monospace\">Sampling ... <span style=\"color: #008000; text-decoration-color: #008000\">━━━━━━━━━━━━━━━━━━━━━━━━━━━━━━━━━━━━━━━━</span> <span style=\"color: #800080; text-decoration-color: #800080\">100%</span> <span style=\"color: #008080; text-decoration-color: #008080\">0:00:00</span> / <span style=\"color: #808000; text-decoration-color: #808000\">0:00:00</span>\n",
       "</pre>\n"
      ],
      "text/plain": [
       "Sampling ... \u001b[32m━━━━━━━━━━━━━━━━━━━━━━━━━━━━━━━━━━━━━━━━\u001b[0m \u001b[35m100%\u001b[0m \u001b[36m0:00:00\u001b[0m / \u001b[33m0:00:00\u001b[0m\n"
      ]
     },
     "metadata": {},
     "output_type": "display_data"
    },
    {
     "data": {
      "text/html": [
       "<pre style=\"white-space:pre;overflow-x:auto;line-height:normal;font-family:Menlo,'DejaVu Sans Mono',consolas,'Courier New',monospace\"></pre>\n"
      ],
      "text/plain": []
     },
     "metadata": {},
     "output_type": "display_data"
    },
    {
     "name": "stdout",
     "output_type": "stream",
     "text": [
      "(1000, 268)\n",
      "Spearman correlation: 0.8866470835479934\n",
      "(268,)\n"
     ]
    }
   ],
   "source": [
    "predictions_relu = None\n",
    "\n",
    "with bnn_relu:\n",
    "    # Actualizăm coordonatele și datele pentru setul de test\n",
    "    pm.set_data({\n",
    "        \"model_input\": X_test,\n",
    "        \"model_output\": np.zeros(y_test.shape)  # Folosim valorile reale\n",
    "    }, coords={\"samples\": np.arange(X_test.shape[0])})\n",
    "\n",
    "    # Generăm predicții din posterior\n",
    "    ppc = pm.sample_posterior_predictive(trace, var_names=[\"output\"])\n",
    "    #ppc = pm.sample_posterior_predictive(trace, var_names=[\"predictions\"])\n",
    "\n",
    "    predictions_draws = np.squeeze(ppc.posterior_predictive[\"output\"])\n",
    "    print(predictions_draws.shape)\n",
    "    predictions_relu = np.mean(predictions_draws, axis=0)\n",
    "    # print(predictions_relu)\n",
    "    #Calculate spearman correlation between predicted and actual values\n",
    "    spearman_corr = np.corrcoef(y_test, predictions, rowvar=False)[0, 1]\n",
    "    print(f\"Spearman correlation: {spearman_corr}\")\n",
    "    print(predictions_relu.shape)\n",
    "# print(\"Out of with\")\n",
    "# print(predictions_relu)\n"
   ]
  },
  {
   "cell_type": "code",
   "execution_count": null,
   "metadata": {
    "colab": {
     "base_uri": "https://localhost:8080/",
     "height": 505
    },
    "id": "ttPe7fFMu7zv",
    "outputId": "ee4ebf44-14f6-420b-c7e9-a8fcb58a9751"
   },
   "outputs": [
    {
     "name": "stdout",
     "output_type": "stream",
     "text": [
      "Dimensiunile lui predictions_relu: (268,)\n"
     ]
    },
    {
     "data": {
      "image/png": "[encoded data removed]",
      "text/plain": [
       "<Figure size 800x500 with 1 Axes>"
      ]
     },
     "metadata": {},
     "output_type": "display_data"
    }
   ],
   "source": [
    "# Calculăm incertitudinea pentru punctele extrapolate\n",
    "# print(predictions_relu)\n",
    "predictions_relu = np.array(predictions_relu)\n",
    "print(f\"Dimensiunile lui predictions_relu: {predictions_relu.shape}\")\n",
    "\n",
    "uncertainty_array_medical_dataset = calculate_uncertainty_regression(\n",
    "    predictions_relu, label=\"Full test data - medical dataset\"\n",
    ")\n"
   ]
  },
  {
   "cell_type": "code",
   "execution_count": null,
   "metadata": {
    "colab": {
     "base_uri": "https://localhost:8080/"
    },
    "id": "JFIq86OKGjSd",
    "outputId": "cc54c1a2-b709-4a3c-cee5-b9c8428af1af"
   },
   "outputs": [
    {
     "name": "stdout",
     "output_type": "stream",
     "text": [
      "11005.151913852733\n"
     ]
    }
   ],
   "source": [
    "print(uncertainty_array_medical_dataset)"
   ]
  },
  {
   "cell_type": "markdown",
   "metadata": {
    "id": "5X3Dcjb-sOd-"
   },
   "source": [
    "choose extrapolation on Age"
   ]
  },
  {
   "cell_type": "code",
   "execution_count": null,
   "metadata": {
    "colab": {
     "base_uri": "https://localhost:8080/",
     "height": 636
    },
    "id": "vP4Tq5zsnKYU",
    "outputId": "b05ea26b-472d-4d5e-f78f-f48d68f97dd0"
   },
   "outputs": [
    {
     "name": "stdout",
     "output_type": "stream",
     "text": [
      "Minim (vârsta): 18\n",
      "Maxim (vârsta): 64\n",
      "Media: 39.21\n",
      "Deviația Standard: 14.05\n"
     ]
    },
    {
     "data": {
      "image/png": "[encoded data removed]",
      "text/plain": [
       "<Figure size 800x600 with 1 Axes>"
      ]
     },
     "metadata": {},
     "output_type": "display_data"
    }
   ],
   "source": [
    "# Calculăm statistici descriptive pentru `age`\n",
    "age_min = data[\"age\"].min()\n",
    "age_max = data[\"age\"].max()\n",
    "age_mean = data[\"age\"].mean()\n",
    "age_std = data[\"age\"].std()\n",
    "\n",
    "# Afișăm valorile\n",
    "print(f\"Minim (vârsta): {age_min}\")\n",
    "print(f\"Maxim (vârsta): {age_max}\")\n",
    "print(f\"Media: {age_mean:.2f}\")\n",
    "print(f\"Deviația Standard: {age_std:.2f}\")\n",
    "\n",
    "# Creăm un grafic pentru distribuția variabilei `age`\n",
    "import matplotlib.pyplot as plt\n",
    "\n",
    "plt.figure(figsize=(8, 6))\n",
    "plt.hist(data[\"age\"], bins=20, color='blue', alpha=0.7, edgecolor='black')\n",
    "plt.title(\"Distribuția vârstei (age)\")\n",
    "plt.xlabel(\"Vârsta\")\n",
    "plt.ylabel(\"Frecvența\")\n",
    "plt.grid(axis='y', alpha=0.75)\n",
    "plt.show()\n"
   ]
  },
  {
   "cell_type": "code",
   "execution_count": null,
   "metadata": {
    "colab": {
     "base_uri": "https://localhost:8080/"
    },
    "id": "cliqFKpWsSoe",
    "outputId": "af137d35-d594-4fc8-f514-cf7e9442129f"
   },
   "outputs": [
    {
     "name": "stdout",
     "output_type": "stream",
     "text": [
      "Număr de exemple în setul de antrenament (extrapolare): 845\n",
      "Număr de exemple în setul de test (extrapolare): 493\n"
     ]
    }
   ],
   "source": [
    "# Interval pentru setul de antrenament\n",
    "train_interval_age = (data[\"age\"] >= 20) & (data[\"age\"] <= 50)\n",
    "\n",
    "# Setul de test (extrapolare): valori sub 20 sau peste 50\n",
    "extrapolation_test_data = data[~train_interval_age]  # Complementele intervalului de train\n",
    "extrapolation_train_data = data[train_interval_age]  # Datele pentru antrenament\n",
    "\n",
    "# Separăm caracteristicile și ținta\n",
    "X_train_extrapolation = extrapolation_train_data.drop(columns=[\"charges\"])\n",
    "y_train_extrapolation = extrapolation_train_data[\"charges\"]\n",
    "X_test_extrapolation = extrapolation_test_data.drop(columns=[\"charges\"])\n",
    "y_test_extrapolation = extrapolation_test_data[\"charges\"]\n",
    "\n",
    "# Transformăm variabilele categoriale și standardizăm caracteristicile\n",
    "X_train_extrapolation = pd.get_dummies(X_train_extrapolation, columns=[\"sex\", \"smoker\", \"region\"], drop_first=True)\n",
    "X_test_extrapolation = pd.get_dummies(X_test_extrapolation, columns=[\"sex\", \"smoker\", \"region\"], drop_first=True)\n",
    "\n",
    "# Standardizare\n",
    "scaler = StandardScaler()\n",
    "X_train_extrapolation_scaled = scaler.fit_transform(X_train_extrapolation)\n",
    "X_test_extrapolation_scaled = scaler.transform(X_test_extrapolation)\n",
    "\n",
    "# Verificăm dimensiunile\n",
    "print(f\"Număr de exemple în setul de antrenament (extrapolare): {X_train_extrapolation_scaled.shape[0]}\")\n",
    "print(f\"Număr de exemple în setul de test (extrapolare): {X_test_extrapolation_scaled.shape[0]}\")\n"
   ]
  },
  {
   "cell_type": "code",
   "execution_count": null,
   "metadata": {
    "id": "7wlpeg-8yIUF"
   },
   "outputs": [],
   "source": []
  }
 ],
 "metadata": {
  "colab": {
   "provenance": []
  },
  "kaggle": {
   "accelerator": "none",
   "dataSources": [],
   "dockerImageVersionId": 30839,
   "isGpuEnabled": false,
   "isInternetEnabled": true,
   "language": "python",
   "sourceType": "notebook"
  },
  "kernelspec": {
   "display_name": "Python 3 (ipykernel)",
   "language": "python",
   "name": "python3"
  },
  "language_info": {
   "codemirror_mode": {
    "name": "ipython",
    "version": 3
   },
   "file_extension": ".py",
   "mimetype": "text/x-python",
   "name": "python",
   "nbconvert_exporter": "python",
   "pygments_lexer": "ipython3",
   "version": "3.11.3"
  },
  "widgets": {
   "application/vnd.jupyter.widget-state+json": {
    "0228dbe71eec4ba482665b71f548bb2e": {
     "model_module": "@jupyter-widgets/output",
     "model_module_version": "1.0.0",
     "model_name": "OutputModel",
     "state": {
      "_dom_classes": [],
      "_model_module": "@jupyter-widgets/output",
      "_model_module_version": "1.0.0",
      "_model_name": "OutputModel",
      "_view_count": null,
      "_view_module": "@jupyter-widgets/output",
      "_view_module_version": "1.0.0",
      "_view_name": "OutputView",
      "layout": "IPY_MODEL_dabce417ec2f4fee8d4e242df6b7f95d",
      "msg_id": "",
      "outputs": [
       {
        "data": {
         "text/html": "<pre style=\"white-space:pre;overflow-x:auto;line-height:normal;font-family:Menlo,'DejaVu Sans Mono',consolas,'Courier New',monospace\">Sampling ... <span style=\"color: #008000; text-decoration-color: #008000\">━━━━━━━━━━━━━━━━━━━━━━━━━━━━━━━━━━━━━━━━</span> <span style=\"color: #800080; text-decoration-color: #800080\">100%</span> <span style=\"color: #008080; text-decoration-color: #008080\">0:00:00</span> / <span style=\"color: #808000; text-decoration-color: #808000\">0:00:18</span>\n</pre>\n",
         "text/plain": "Sampling ... \u001b[32m━━━━━━━━━━━━━━━━━━━━━━━━━━━━━━━━━━━━━━━━\u001b[0m \u001b[35m100%\u001b[0m \u001b[36m0:00:00\u001b[0m / \u001b[33m0:00:18\u001b[0m\n"
        },
        "metadata": {},
        "output_type": "display_data"
       }
      ]
     }
    },
    "1ace5367c0224b9b975fcdf2064e0b06": {
     "model_module": "@jupyter-widgets/output",
     "model_module_version": "1.0.0",
     "model_name": "OutputModel",
     "state": {
      "_dom_classes": [],
      "_model_module": "@jupyter-widgets/output",
      "_model_module_version": "1.0.0",
      "_model_name": "OutputModel",
      "_view_count": null,
      "_view_module": "@jupyter-widgets/output",
      "_view_module_version": "1.0.0",
      "_view_name": "OutputView",
      "layout": "IPY_MODEL_3a3da552cd6f4600bd25240f234ea0de",
      "msg_id": "",
      "outputs": [
       {
        "data": {
         "text/html": "<pre style=\"white-space:pre;overflow-x:auto;line-height:normal;font-family:Menlo,'DejaVu Sans Mono',consolas,'Courier New',monospace\">Sampling ... <span style=\"color: #008000; text-decoration-color: #008000\">━━━━━━━━━━━━━━━━━━━━━━━━━━━━━━━━━━━━━━━━</span> <span style=\"color: #800080; text-decoration-color: #800080\">100%</span> <span style=\"color: #008080; text-decoration-color: #008080\">0:00:00</span> / <span style=\"color: #808000; text-decoration-color: #808000\">0:00:17</span>\n</pre>\n",
         "text/plain": "Sampling ... \u001b[32m━━━━━━━━━━━━━━━━━━━━━━━━━━━━━━━━━━━━━━━━\u001b[0m \u001b[35m100%\u001b[0m \u001b[36m0:00:00\u001b[0m / \u001b[33m0:00:17\u001b[0m\n"
        },
        "metadata": {},
        "output_type": "display_data"
       }
      ]
     }
    },
    "1b7083c989b7484996abae839a27115e": {
     "model_module": "@jupyter-widgets/base",
     "model_module_version": "1.2.0",
     "model_name": "LayoutModel",
     "state": {
      "_model_module": "@jupyter-widgets/base",
      "_model_module_version": "1.2.0",
      "_model_name": "LayoutModel",
      "_view_count": null,
      "_view_module": "@jupyter-widgets/base",
      "_view_module_version": "1.2.0",
      "_view_name": "LayoutView",
      "align_content": null,
      "align_items": null,
      "align_self": null,
      "border": null,
      "bottom": null,
      "display": null,
      "flex": null,
      "flex_flow": null,
      "grid_area": null,
      "grid_auto_columns": null,
      "grid_auto_flow": null,
      "grid_auto_rows": null,
      "grid_column": null,
      "grid_gap": null,
      "grid_row": null,
      "grid_template_areas": null,
      "grid_template_columns": null,
      "grid_template_rows": null,
      "height": null,
      "justify_content": null,
      "justify_items": null,
      "left": null,
      "margin": null,
      "max_height": null,
      "max_width": null,
      "min_height": null,
      "min_width": null,
      "object_fit": null,
      "object_position": null,
      "order": null,
      "overflow": null,
      "overflow_x": null,
      "overflow_y": null,
      "padding": null,
      "right": null,
      "top": null,
      "visibility": null,
      "width": null
     }
    },
    "24f8a50dd4644956ae3870f1ecf1b802": {
     "model_module": "@jupyter-widgets/output",
     "model_module_version": "1.0.0",
     "model_name": "OutputModel",
     "state": {
      "_dom_classes": [],
      "_model_module": "@jupyter-widgets/output",
      "_model_module_version": "1.0.0",
      "_model_name": "OutputModel",
      "_view_count": null,
      "_view_module": "@jupyter-widgets/output",
      "_view_module_version": "1.0.0",
      "_view_name": "OutputView",
      "layout": "IPY_MODEL_1b7083c989b7484996abae839a27115e",
      "msg_id": "",
      "outputs": [
       {
        "data": {
         "text/html": "<pre style=\"white-space:pre;overflow-x:auto;line-height:normal;font-family:Menlo,'DejaVu Sans Mono',consolas,'Courier New',monospace\">Sampling ... <span style=\"color: #008000; text-decoration-color: #008000\">━━━━━━━━━━━━━━━━━━━━━━━━━━━━━━━━━━━━━━━━</span> <span style=\"color: #800080; text-decoration-color: #800080\">100%</span> <span style=\"color: #008080; text-decoration-color: #008080\">0:00:00</span> / <span style=\"color: #808000; text-decoration-color: #808000\">0:00:06</span>\n</pre>\n",
         "text/plain": "Sampling ... \u001b[32m━━━━━━━━━━━━━━━━━━━━━━━━━━━━━━━━━━━━━━━━\u001b[0m \u001b[35m100%\u001b[0m \u001b[36m0:00:00\u001b[0m / \u001b[33m0:00:06\u001b[0m\n"
        },
        "metadata": {},
        "output_type": "display_data"
       }
      ]
     }
    },
    "25bbfe8629504cd4a497195f1ea2ec3c": {
     "model_module": "@jupyter-widgets/base",
     "model_module_version": "1.2.0",
     "model_name": "LayoutModel",
     "state": {
      "_model_module": "@jupyter-widgets/base",
      "_model_module_version": "1.2.0",
      "_model_name": "LayoutModel",
      "_view_count": null,
      "_view_module": "@jupyter-widgets/base",
      "_view_module_version": "1.2.0",
      "_view_name": "LayoutView",
      "align_content": null,
      "align_items": null,
      "align_self": null,
      "border": null,
      "bottom": null,
      "display": null,
      "flex": null,
      "flex_flow": null,
      "grid_area": null,
      "grid_auto_columns": null,
      "grid_auto_flow": null,
      "grid_auto_rows": null,
      "grid_column": null,
      "grid_gap": null,
      "grid_row": null,
      "grid_template_areas": null,
      "grid_template_columns": null,
      "grid_template_rows": null,
      "height": null,
      "justify_content": null,
      "justify_items": null,
      "left": null,
      "margin": null,
      "max_height": null,
      "max_width": null,
      "min_height": null,
      "min_width": null,
      "object_fit": null,
      "object_position": null,
      "order": null,
      "overflow": null,
      "overflow_x": null,
      "overflow_y": null,
      "padding": null,
      "right": null,
      "top": null,
      "visibility": null,
      "width": null
     }
    },
    "3a3da552cd6f4600bd25240f234ea0de": {
     "model_module": "@jupyter-widgets/base",
     "model_module_version": "1.2.0",
     "model_name": "LayoutModel",
     "state": {
      "_model_module": "@jupyter-widgets/base",
      "_model_module_version": "1.2.0",
      "_model_name": "LayoutModel",
      "_view_count": null,
      "_view_module": "@jupyter-widgets/base",
      "_view_module_version": "1.2.0",
      "_view_name": "LayoutView",
      "align_content": null,
      "align_items": null,
      "align_self": null,
      "border": null,
      "bottom": null,
      "display": null,
      "flex": null,
      "flex_flow": null,
      "grid_area": null,
      "grid_auto_columns": null,
      "grid_auto_flow": null,
      "grid_auto_rows": null,
      "grid_column": null,
      "grid_gap": null,
      "grid_row": null,
      "grid_template_areas": null,
      "grid_template_columns": null,
      "grid_template_rows": null,
      "height": null,
      "justify_content": null,
      "justify_items": null,
      "left": null,
      "margin": null,
      "max_height": null,
      "max_width": null,
      "min_height": null,
      "min_width": null,
      "object_fit": null,
      "object_position": null,
      "order": null,
      "overflow": null,
      "overflow_x": null,
      "overflow_y": null,
      "padding": null,
      "right": null,
      "top": null,
      "visibility": null,
      "width": null
     }
    },
    "3bbee009e26e4ff8a7c98640424fbaa3": {
     "model_module": "@jupyter-widgets/base",
     "model_module_version": "1.2.0",
     "model_name": "LayoutModel",
     "state": {
      "_model_module": "@jupyter-widgets/base",
      "_model_module_version": "1.2.0",
      "_model_name": "LayoutModel",
      "_view_count": null,
      "_view_module": "@jupyter-widgets/base",
      "_view_module_version": "1.2.0",
      "_view_name": "LayoutView",
      "align_content": null,
      "align_items": null,
      "align_self": null,
      "border": null,
      "bottom": null,
      "display": null,
      "flex": null,
      "flex_flow": null,
      "grid_area": null,
      "grid_auto_columns": null,
      "grid_auto_flow": null,
      "grid_auto_rows": null,
      "grid_column": null,
      "grid_gap": null,
      "grid_row": null,
      "grid_template_areas": null,
      "grid_template_columns": null,
      "grid_template_rows": null,
      "height": null,
      "justify_content": null,
      "justify_items": null,
      "left": null,
      "margin": null,
      "max_height": null,
      "max_width": null,
      "min_height": null,
      "min_width": null,
      "object_fit": null,
      "object_position": null,
      "order": null,
      "overflow": null,
      "overflow_x": null,
      "overflow_y": null,
      "padding": null,
      "right": null,
      "top": null,
      "visibility": null,
      "width": null
     }
    },
    "5923de17e5834b3b9e370e5a1a20e58f": {
     "model_module": "@jupyter-widgets/output",
     "model_module_version": "1.0.0",
     "model_name": "OutputModel",
     "state": {
      "_dom_classes": [],
      "_model_module": "@jupyter-widgets/output",
      "_model_module_version": "1.0.0",
      "_model_name": "OutputModel",
      "_view_count": null,
      "_view_module": "@jupyter-widgets/output",
      "_view_module_version": "1.0.0",
      "_view_name": "OutputView",
      "layout": "IPY_MODEL_25bbfe8629504cd4a497195f1ea2ec3c",
      "msg_id": "",
      "outputs": [
       {
        "data": {
         "text/html": "<pre style=\"white-space:pre;overflow-x:auto;line-height:normal;font-family:Menlo,'DejaVu Sans Mono',consolas,'Courier New',monospace\">Sampling ... <span style=\"color: #008000; text-decoration-color: #008000\">━━━━━━━━━━━━━━━━━━━━━━━━━━━━━━━━━━━━━━━━</span> <span style=\"color: #800080; text-decoration-color: #800080\">100%</span> <span style=\"color: #008080; text-decoration-color: #008080\">0:00:00</span> / <span style=\"color: #808000; text-decoration-color: #808000\">0:00:00</span>\n</pre>\n",
         "text/plain": "Sampling ... \u001b[32m━━━━━━━━━━━━━━━━━━━━━━━━━━━━━━━━━━━━━━━━\u001b[0m \u001b[35m100%\u001b[0m \u001b[36m0:00:00\u001b[0m / \u001b[33m0:00:00\u001b[0m\n"
        },
        "metadata": {},
        "output_type": "display_data"
       }
      ]
     }
    },
    "5a2b106acbc6442eb3103bb966437c40": {
     "model_module": "@jupyter-widgets/base",
     "model_module_version": "1.2.0",
     "model_name": "LayoutModel",
     "state": {
      "_model_module": "@jupyter-widgets/base",
      "_model_module_version": "1.2.0",
      "_model_name": "LayoutModel",
      "_view_count": null,
      "_view_module": "@jupyter-widgets/base",
      "_view_module_version": "1.2.0",
      "_view_name": "LayoutView",
      "align_content": null,
      "align_items": null,
      "align_self": null,
      "border": null,
      "bottom": null,
      "display": null,
      "flex": null,
      "flex_flow": null,
      "grid_area": null,
      "grid_auto_columns": null,
      "grid_auto_flow": null,
      "grid_auto_rows": null,
      "grid_column": null,
      "grid_gap": null,
      "grid_row": null,
      "grid_template_areas": null,
      "grid_template_columns": null,
      "grid_template_rows": null,
      "height": null,
      "justify_content": null,
      "justify_items": null,
      "left": null,
      "margin": null,
      "max_height": null,
      "max_width": null,
      "min_height": null,
      "min_width": null,
      "object_fit": null,
      "object_position": null,
      "order": null,
      "overflow": null,
      "overflow_x": null,
      "overflow_y": null,
      "padding": null,
      "right": null,
      "top": null,
      "visibility": null,
      "width": null
     }
    },
    "92973ffcce6c4ba68c7aa01f61adc37c": {
     "model_module": "@jupyter-widgets/output",
     "model_module_version": "1.0.0",
     "model_name": "OutputModel",
     "state": {
      "_dom_classes": [],
      "_model_module": "@jupyter-widgets/output",
      "_model_module_version": "1.0.0",
      "_model_name": "OutputModel",
      "_view_count": null,
      "_view_module": "@jupyter-widgets/output",
      "_view_module_version": "1.0.0",
      "_view_name": "OutputView",
      "layout": "IPY_MODEL_f847d690980b491aa59d9212ba08986b",
      "msg_id": "",
      "outputs": [
       {
        "data": {
         "text/html": "<pre style=\"white-space:pre;overflow-x:auto;line-height:normal;font-family:Menlo,'DejaVu Sans Mono',consolas,'Courier New',monospace\">Sampling ... <span style=\"color: #008000; text-decoration-color: #008000\">━━━━━━━━━━━━━━━━━━━━━━━━━━━━━━━━━━━━━━━━</span> <span style=\"color: #800080; text-decoration-color: #800080\">100%</span> <span style=\"color: #008080; text-decoration-color: #008080\">0:00:00</span> / <span style=\"color: #808000; text-decoration-color: #808000\">0:00:09</span>\n</pre>\n",
         "text/plain": "Sampling ... \u001b[32m━━━━━━━━━━━━━━━━━━━━━━━━━━━━━━━━━━━━━━━━\u001b[0m \u001b[35m100%\u001b[0m \u001b[36m0:00:00\u001b[0m / \u001b[33m0:00:09\u001b[0m\n"
        },
        "metadata": {},
        "output_type": "display_data"
       }
      ]
     }
    },
    "9ea1905cb4ae4f77972ebb1a8c6dda91": {
     "model_module": "@jupyter-widgets/output",
     "model_module_version": "1.0.0",
     "model_name": "OutputModel",
     "state": {
      "_dom_classes": [],
      "_model_module": "@jupyter-widgets/output",
      "_model_module_version": "1.0.0",
      "_model_name": "OutputModel",
      "_view_count": null,
      "_view_module": "@jupyter-widgets/output",
      "_view_module_version": "1.0.0",
      "_view_name": "OutputView",
      "layout": "IPY_MODEL_e28c7040fc044995905565ca9ecf3de2",
      "msg_id": "",
      "outputs": [
       {
        "data": {
         "text/html": "<pre style=\"white-space:pre;overflow-x:auto;line-height:normal;font-family:Menlo,'DejaVu Sans Mono',consolas,'Courier New',monospace\">Fitting: <span style=\"color: #1764f4; text-decoration-color: #1764f4\">━━━━━━━━━━━━━━━━━━━━━━━━━━━━━━━━━━━━━━━╸</span> <span style=\"color: #800080; text-decoration-color: #800080\">100%</span> <span style=\"color: #008080; text-decoration-color: #008080\">0:00:01</span> Average Loss = 1,483.4\n</pre>\n",
         "text/plain": "Fitting: \u001b[38;2;23;100;244m━━━━━━━━━━━━━━━━━━━━━━━━━━━━━━━━━━━━━━━\u001b[0m\u001b[38;2;23;100;244m╸\u001b[0m \u001b[35m100%\u001b[0m \u001b[36m0:00:01\u001b[0m Average Loss = 1,483.4\n"
        },
        "metadata": {},
        "output_type": "display_data"
       }
      ]
     }
    },
    "ae31142dcade4a9793bcfd14213302e0": {
     "model_module": "@jupyter-widgets/output",
     "model_module_version": "1.0.0",
     "model_name": "OutputModel",
     "state": {
      "_dom_classes": [],
      "_model_module": "@jupyter-widgets/output",
      "_model_module_version": "1.0.0",
      "_model_name": "OutputModel",
      "_view_count": null,
      "_view_module": "@jupyter-widgets/output",
      "_view_module_version": "1.0.0",
      "_view_name": "OutputView",
      "layout": "IPY_MODEL_5a2b106acbc6442eb3103bb966437c40",
      "msg_id": "",
      "outputs": [
       {
        "data": {
         "text/html": "<pre style=\"white-space:pre;overflow-x:auto;line-height:normal;font-family:Menlo,'DejaVu Sans Mono',consolas,'Courier New',monospace\">Fitting: <span style=\"color: #1764f4; text-decoration-color: #1764f4\">━━━━━━━━━━━━━━━━━━━━━━━━━━━━━━━━━━━━━━━╸</span> <span style=\"color: #800080; text-decoration-color: #800080\">100%</span> <span style=\"color: #008080; text-decoration-color: #008080\">0:00:01</span> Average Loss = 3.8935e+05\n</pre>\n",
         "text/plain": "Fitting: \u001b[38;2;23;100;244m━━━━━━━━━━━━━━━━━━━━━━━━━━━━━━━━━━━━━━━\u001b[0m\u001b[38;2;23;100;244m╸\u001b[0m \u001b[35m100%\u001b[0m \u001b[36m0:00:01\u001b[0m Average Loss = 3.8935e+05\n"
        },
        "metadata": {},
        "output_type": "display_data"
       }
      ]
     }
    },
    "dabce417ec2f4fee8d4e242df6b7f95d": {
     "model_module": "@jupyter-widgets/base",
     "model_module_version": "1.2.0",
     "model_name": "LayoutModel",
     "state": {
      "_model_module": "@jupyter-widgets/base",
      "_model_module_version": "1.2.0",
      "_model_name": "LayoutModel",
      "_view_count": null,
      "_view_module": "@jupyter-widgets/base",
      "_view_module_version": "1.2.0",
      "_view_name": "LayoutView",
      "align_content": null,
      "align_items": null,
      "align_self": null,
      "border": null,
      "bottom": null,
      "display": null,
      "flex": null,
      "flex_flow": null,
      "grid_area": null,
      "grid_auto_columns": null,
      "grid_auto_flow": null,
      "grid_auto_rows": null,
      "grid_column": null,
      "grid_gap": null,
      "grid_row": null,
      "grid_template_areas": null,
      "grid_template_columns": null,
      "grid_template_rows": null,
      "height": null,
      "justify_content": null,
      "justify_items": null,
      "left": null,
      "margin": null,
      "max_height": null,
      "max_width": null,
      "min_height": null,
      "min_width": null,
      "object_fit": null,
      "object_position": null,
      "order": null,
      "overflow": null,
      "overflow_x": null,
      "overflow_y": null,
      "padding": null,
      "right": null,
      "top": null,
      "visibility": null,
      "width": null
     }
    },
    "dd358ef856f143058ac55ed13f3da474": {
     "model_module": "@jupyter-widgets/base",
     "model_module_version": "1.2.0",
     "model_name": "LayoutModel",
     "state": {
      "_model_module": "@jupyter-widgets/base",
      "_model_module_version": "1.2.0",
      "_model_name": "LayoutModel",
      "_view_count": null,
      "_view_module": "@jupyter-widgets/base",
      "_view_module_version": "1.2.0",
      "_view_name": "LayoutView",
      "align_content": null,
      "align_items": null,
      "align_self": null,
      "border": null,
      "bottom": null,
      "display": null,
      "flex": null,
      "flex_flow": null,
      "grid_area": null,
      "grid_auto_columns": null,
      "grid_auto_flow": null,
      "grid_auto_rows": null,
      "grid_column": null,
      "grid_gap": null,
      "grid_row": null,
      "grid_template_areas": null,
      "grid_template_columns": null,
      "grid_template_rows": null,
      "height": null,
      "justify_content": null,
      "justify_items": null,
      "left": null,
      "margin": null,
      "max_height": null,
      "max_width": null,
      "min_height": null,
      "min_width": null,
      "object_fit": null,
      "object_position": null,
      "order": null,
      "overflow": null,
      "overflow_x": null,
      "overflow_y": null,
      "padding": null,
      "right": null,
      "top": null,
      "visibility": null,
      "width": null
     }
    },
    "e28c7040fc044995905565ca9ecf3de2": {
     "model_module": "@jupyter-widgets/base",
     "model_module_version": "1.2.0",
     "model_name": "LayoutModel",
     "state": {
      "_model_module": "@jupyter-widgets/base",
      "_model_module_version": "1.2.0",
      "_model_name": "LayoutModel",
      "_view_count": null,
      "_view_module": "@jupyter-widgets/base",
      "_view_module_version": "1.2.0",
      "_view_name": "LayoutView",
      "align_content": null,
      "align_items": null,
      "align_self": null,
      "border": null,
      "bottom": null,
      "display": null,
      "flex": null,
      "flex_flow": null,
      "grid_area": null,
      "grid_auto_columns": null,
      "grid_auto_flow": null,
      "grid_auto_rows": null,
      "grid_column": null,
      "grid_gap": null,
      "grid_row": null,
      "grid_template_areas": null,
      "grid_template_columns": null,
      "grid_template_rows": null,
      "height": null,
      "justify_content": null,
      "justify_items": null,
      "left": null,
      "margin": null,
      "max_height": null,
      "max_width": null,
      "min_height": null,
      "min_width": null,
      "object_fit": null,
      "object_position": null,
      "order": null,
      "overflow": null,
      "overflow_x": null,
      "overflow_y": null,
      "padding": null,
      "right": null,
      "top": null,
      "visibility": null,
      "width": null
     }
    },
    "f421cf7c31914f42b9bdd8a14ffc7aa4": {
     "model_module": "@jupyter-widgets/output",
     "model_module_version": "1.0.0",
     "model_name": "OutputModel",
     "state": {
      "_dom_classes": [],
      "_model_module": "@jupyter-widgets/output",
      "_model_module_version": "1.0.0",
      "_model_name": "OutputModel",
      "_view_count": null,
      "_view_module": "@jupyter-widgets/output",
      "_view_module_version": "1.0.0",
      "_view_name": "OutputView",
      "layout": "IPY_MODEL_3bbee009e26e4ff8a7c98640424fbaa3",
      "msg_id": "",
      "outputs": [
       {
        "data": {
         "text/html": "<pre style=\"white-space:pre;overflow-x:auto;line-height:normal;font-family:Menlo,'DejaVu Sans Mono',consolas,'Courier New',monospace\">Sampling ... <span style=\"color: #008000; text-decoration-color: #008000\">━━━━━━━━━━━━━━━━━━━━━━━━━━━━━━━━━━━━━━━━</span> <span style=\"color: #800080; text-decoration-color: #800080\">100%</span> <span style=\"color: #008080; text-decoration-color: #008080\">0:00:00</span> / <span style=\"color: #808000; text-decoration-color: #808000\">0:00:00</span>\n</pre>\n",
         "text/plain": "Sampling ... \u001b[32m━━━━━━━━━━━━━━━━━━━━━━━━━━━━━━━━━━━━━━━━\u001b[0m \u001b[35m100%\u001b[0m \u001b[36m0:00:00\u001b[0m / \u001b[33m0:00:00\u001b[0m\n"
        },
        "metadata": {},
        "output_type": "display_data"
       }
      ]
     }
    },
    "f847d690980b491aa59d9212ba08986b": {
     "model_module": "@jupyter-widgets/base",
     "model_module_version": "1.2.0",
     "model_name": "LayoutModel",
     "state": {
      "_model_module": "@jupyter-widgets/base",
      "_model_module_version": "1.2.0",
      "_model_name": "LayoutModel",
      "_view_count": null,
      "_view_module": "@jupyter-widgets/base",
      "_view_module_version": "1.2.0",
      "_view_name": "LayoutView",
      "align_content": null,
      "align_items": null,
      "align_self": null,
      "border": null,
      "bottom": null,
      "display": null,
      "flex": null,
      "flex_flow": null,
      "grid_area": null,
      "grid_auto_columns": null,
      "grid_auto_flow": null,
      "grid_auto_rows": null,
      "grid_column": null,
      "grid_gap": null,
      "grid_row": null,
      "grid_template_areas": null,
      "grid_template_columns": null,
      "grid_template_rows": null,
      "height": null,
      "justify_content": null,
      "justify_items": null,
      "left": null,
      "margin": null,
      "max_height": null,
      "max_width": null,
      "min_height": null,
      "min_width": null,
      "object_fit": null,
      "object_position": null,
      "order": null,
      "overflow": null,
      "overflow_x": null,
      "overflow_y": null,
      "padding": null,
      "right": null,
      "top": null,
      "visibility": null,
      "width": null
     }
    },
    "fd4cc8d523d94fc6a60089a96d2d42cd": {
     "model_module": "@jupyter-widgets/output",
     "model_module_version": "1.0.0",
     "model_name": "OutputModel",
     "state": {
      "_dom_classes": [],
      "_model_module": "@jupyter-widgets/output",
      "_model_module_version": "1.0.0",
      "_model_name": "OutputModel",
      "_view_count": null,
      "_view_module": "@jupyter-widgets/output",
      "_view_module_version": "1.0.0",
      "_view_name": "OutputView",
      "layout": "IPY_MODEL_dd358ef856f143058ac55ed13f3da474",
      "msg_id": "",
      "outputs": [
       {
        "data": {
         "text/html": "<pre style=\"white-space:pre;overflow-x:auto;line-height:normal;font-family:Menlo,'DejaVu Sans Mono',consolas,'Courier New',monospace\">Fitting: <span style=\"color: #1764f4; text-decoration-color: #1764f4\">━━━━━━━━━━━━━━━━━━━━━━━━━━━━━━━━━━━━━━━╸</span> <span style=\"color: #800080; text-decoration-color: #800080\">100%</span> <span style=\"color: #008080; text-decoration-color: #008080\">0:00:01</span> Average Loss = 542.2\n</pre>\n",
         "text/plain": "Fitting: \u001b[38;2;23;100;244m━━━━━━━━━━━━━━━━━━━━━━━━━━━━━━━━━━━━━━━\u001b[0m\u001b[38;2;23;100;244m╸\u001b[0m \u001b[35m100%\u001b[0m \u001b[36m0:00:01\u001b[0m Average Loss = 542.2\n"
        },
        "metadata": {},
        "output_type": "display_data"
       }
      ]
     }
    }
   }
  }
 },
 "nbformat": 4,
 "nbformat_minor": 1
}
