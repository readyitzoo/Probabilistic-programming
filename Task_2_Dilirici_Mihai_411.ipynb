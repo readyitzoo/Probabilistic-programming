{
  "cells": [
    {
      "cell_type": "markdown",
      "source": [
        "Task 2 :  "
      ],
      "metadata": {
        "id": "0vq-AMNbcZNe"
      }
    },
    {
      "cell_type": "markdown",
      "source": [
        "# Classification of Novel Classes Using Neural Networks\n",
        "\n",
        "This notebook explores the performance of Bayesian and Classical Neural Networks in multiclass classification tasks, particularly focusing on identifying novel (unseen) classes during testing using uncertainty quantification.\n",
        "\n",
        "---\n",
        "\n",
        "## 1. Data Preparation\n",
        "The dataset used for this experiment is a multiclass classification dataset with at least four distinct classes. The following steps are performed to prepare the data:\n",
        "- **Dataset Splitting**: The dataset is split into training, validation, and testing subsets. One class is excluded entirely from training to simulate the detection of novel classes. This excluded class is added to the test set.\n",
        "- **Tensor Conversion**: Features and labels are converted into PyTorch tensors to facilitate compatibility with PyTorch-based models.\n",
        "\n",
        "---\n",
        "\n",
        "## 2. Bayesian Neural Network (BNN) Implementation\n",
        "The Bayesian Neural Network (BNN) is implemented using PyMC. Probabilistic modeling enables uncertainty quantification and novel class detection:\n",
        "- **Posterior Predictive Inference**: The model generates posterior predictive distributions for test samples. These predictions are used to calculate uncertainty for each sample.\n",
        "- **Novel Class Detection**: Samples with uncertainty above a threshold (e.g., 1.0) are classified as belonging to a novel class.\n",
        "- **Evaluation**: Metrics include the number of total samples and the number classified as unknown.\n",
        "\n",
        "### Key Observations:\n",
        "- BNNs effectively flag novel samples using uncertainty-based thresholds.\n",
        "- Probabilistic modeling is well-suited for tasks requiring reliable detection of outliers or novel inputs.\n",
        "\n",
        "---\n",
        "\n",
        "## 3. Classical Neural Network (NN) Implementation\n",
        "The classical neural network, implemented in PyTorch, is designed to classify known classes and compare against the Bayesian approach.\n",
        "\n",
        "### Network Architecture:\n",
        "- **Input Layer**: Matches the number of features in the dataset.\n",
        "- **Hidden Layers**: Two hidden layers (256 and 64 neurons) with ReLU activation.\n",
        "- **Output Layer**: Softmax activation for multiclass probability predictions.\n",
        "\n",
        "### Training Process:\n",
        "- **Loss Function**: CrossEntropyLoss computes the error between predicted and actual class labels.\n",
        "- **Optimizer**: Adam optimizer (learning rate = 0.002) updates model parameters.\n",
        "- **Batch Training**: The model trains on data in mini-batches (batch size = 32).\n",
        "- **Epochs**: Training progresses for 5 epochs with performance monitored using validation accuracy and loss metrics.\n",
        "\n",
        "---\n",
        "\n",
        "## 4. Model Evaluation and Comparison\n",
        "\n",
        "### Bayesian Neural Network:\n",
        "- **Novel Class Detection**: The thresholding approach detects novel samples. Out of 196 test samples, 35 were classified as unknown.\n",
        "- **Advantages**:\n",
        "  - Precise uncertainty quantification.\n",
        "  - High reliability in detecting unseen inputs.\n",
        "- **Limitations**: Computational overhead due to probabilistic sampling.\n",
        "\n",
        "### Classical Neural Network:\n",
        "- **Test Accuracy**: Achieved a high accuracy of 97.24% on known classes in the test set.\n",
        "- **Limitations**: Does not natively support uncertainty quantification, making it unsuitable for novel class detection without additional mechanisms.\n",
        "\n",
        "---\n",
        "\n",
        "## 5. Results Summary\n",
        "\n",
        "| **Model**               | **Metric**                    | **Value**    |\n",
        "|--------------------------|-------------------------------|--------------|\n",
        "| **Bayesian Neural Network** | Test samples classified as unknown | 35           |\n",
        "|                          | Test accuracy (familiar classes)    | N/A          |\n",
        "| **Classical Neural Network** | Test accuracy (familiar classes)    | 97.24%       |\n",
        "|                          | Novel class detection supported      | No           |\n",
        "\n",
        "---\n",
        "\n",
        "## 6. Future Directions\n",
        "1. **Uncertainty Calibration**: Investigate alternative methods for calibrating uncertainty thresholds in BNNs.\n",
        "2. **Hybrid Approaches**: Combine classical and Bayesian models to leverage strengths of both methods.\n",
        "3. **Scalability**: Explore techniques to reduce computational cost of Bayesian inference for larger datasets.\n",
        "\n",
        "By quantifying uncertainty and comparing probabilistic and classical neural networks, this project demonstrates the importance of Bayesian methods for detecting novel classes while maintaining robust performance on familiar data.\n"
      ],
      "metadata": {
        "id": "Y06kyzyKdqhc"
      }
    },
    {
      "cell_type": "code",
      "execution_count": null,
      "metadata": {
        "id": "SnjKlKdq_KpK"
      },
      "outputs": [],
      "source": [
        "# ! pip install pymc\n",
        "# ! pip install pytensor\n"
      ]
    },
    {
      "cell_type": "code",
      "execution_count": null,
      "metadata": {
        "id": "kIdk-UdW_Fje"
      },
      "outputs": [],
      "source": [
        "# Standard library imports\n",
        "import numpy as np\n",
        "\n",
        "# Third-party library imports\n",
        "import matplotlib.pyplot as plt\n",
        "import seaborn as sns\n",
        "from scipy.stats import entropy\n",
        "\n",
        "from sklearn.model_selection import train_test_split\n",
        "from sklearn.preprocessing import scale, OneHotEncoder\n",
        "from sklearn.datasets import load_digits\n",
        "from sklearn.preprocessing import StandardScaler\n",
        "\n",
        "\n",
        "# PyMC and PyTensor imports\n",
        "import pymc as pm\n",
        "import pymc.math as pmath\n",
        "import pytensor\n",
        "\n",
        "# ArviZ imports\n",
        "import arviz as az\n"
      ]
    },
    {
      "cell_type": "code",
      "execution_count": null,
      "metadata": {
        "id": "AB5uZkSe_6xx"
      },
      "outputs": [],
      "source": [
        "SEED = 7735\n",
        "rng = np.random.default_rng(SEED)\n",
        "\n",
        "floatX = pytensor.config.floatX"
      ]
    },
    {
      "cell_type": "markdown",
      "metadata": {
        "id": "7UEjWOqUIKcv"
      },
      "source": [
        "The dataset I used in this project is the Digits dataset, which is part of the sklearn library. It contains 8x8 pixel images of handwritten digits, each represented as a 64-dimensional feature vector (flattened pixel values). The dataset includes 10 classes (digits 0 through 9), but for this project, we focused on a subset of classes—digits 0, 1, 2, 3, and 4—for training, validation, and testing. This subset consists of 901 samples, each with 64 features. Additionally, digit 6 was omitted from training and validation, but a separate set of 181 samples was kept to test the model on out-of-distribution (OOD) data.\n",
        "\n",
        "The dataset was divided into three subsets: 576 samples for training, 144 for validation, and 181 for testing. The OOD dataset was not used in training or validation but will be used during testing to assess the model's performance on unseen data.\n",
        "\n",
        "Prior to splitting, all features were standardized using StandardScaler. The scaler was fit on the training data to compute the mean and standard deviation, which were then applied to transform the validation, test, and OOD datasets. This standardization ensures that all features are on the same scale, preventing any single feature from dominating due to differences in numeric ranges."
      ]
    },
    {
      "cell_type": "code",
      "execution_count": null,
      "metadata": {
        "colab": {
          "base_uri": "https://localhost:8080/"
        },
        "id": "ZyKRK3YB7XRU",
        "outputId": "f704ae4a-120c-4b58-b7df-12ab6abfc304"
      },
      "outputs": [
        {
          "output_type": "stream",
          "name": "stdout",
          "text": [
            "(1797, 64)\n",
            "(1797,)\n",
            "[0 1 2 ... 8 9 8]\n"
          ]
        }
      ],
      "source": [
        "data, labels = load_digits(return_X_y=True)\n",
        "print(data.shape)\n",
        "print(labels.shape)\n",
        "print(labels)"
      ]
    },
    {
      "cell_type": "code",
      "execution_count": null,
      "metadata": {
        "colab": {
          "base_uri": "https://localhost:8080/"
        },
        "id": "tHWlfhUY7XRU",
        "outputId": "26bae371-4e62-4dc3-84b5-6936c1593ad2"
      },
      "outputs": [
        {
          "output_type": "stream",
          "name": "stdout",
          "text": [
            "X_filtered shape: (901, 64)\n",
            "y_filtered shape: (901,)\n",
            "X_omitted shape: (181, 64)\n",
            "y_omitted shape: (181,)\n",
            "\n",
            "X_train_scaled shape: (576, 64)\n",
            "X_val_scaled shape: (144, 64)\n",
            "X_test_scaled shape: (181, 64)\n"
          ]
        }
      ],
      "source": [
        "# Define the selected classes (digits 0 to 4)\n",
        "selected_classes = [0, 1, 2, 3, 4]\n",
        "\n",
        "# Create a mask to filter the data and labels, selecting only samples from the selected classes\n",
        "mask = [label in selected_classes for label in labels]\n",
        "X_filtered = data[mask]  # Apply the mask to the feature data\n",
        "y_filtered = labels[mask]  # Apply the mask to the labels\n",
        "\n",
        "print(f\"X_filtered shape: {X_filtered.shape}\")\n",
        "print(f\"y_filtered shape: {y_filtered.shape}\")\n",
        "\n",
        "# Create a separate set for the samples with label 6 (out-of-distribution data)\n",
        "X_omitted = data[labels == 6]  # Select samples with label 6\n",
        "y_omitted = labels[labels == 6]  # Select the corresponding labels\n",
        "\n",
        "print(f\"X_omitted shape: {X_omitted.shape}\")\n",
        "print(f\"y_omitted shape: {y_omitted.shape}\")\n",
        "print()\n",
        "\n",
        "# Split the filtered data into training and testing sets\n",
        "X_train, X_test, y_train, y_test = train_test_split(X_filtered, y_filtered, test_size=0.2, random_state=SEED)\n",
        "\n",
        "X_train, X_val, y_train, y_val = train_test_split(X_train, y_train, test_size=0.2, random_state=SEED)\n",
        "\n",
        "# Initialize the StandardScaler to standardize the features\n",
        "scaler = StandardScaler()\n",
        "\n",
        "X_train = scaler.fit_transform(X_train)\n",
        "\n",
        "X_val = scaler.transform(X_val)\n",
        "X_test = scaler.transform(X_test)\n",
        "\n",
        "X_omitted = scaler.transform(X_omitted)\n",
        "\n",
        "# Convert the data arrays to the specified floating-point format\n",
        "X_train = X_train.astype(floatX)\n",
        "X_val = X_val.astype(floatX)\n",
        "X_test = X_test.astype(floatX)\n",
        "X_omitted = X_omitted.astype(floatX)\n",
        "\n",
        "print(f\"X_train_scaled shape: {X_train.shape}\")\n",
        "print(f\"X_val_scaled shape: {X_val.shape}\")\n",
        "print(f\"X_test_scaled shape: {X_test.shape}\")\n"
      ]
    },
    {
      "cell_type": "code",
      "execution_count": null,
      "metadata": {
        "colab": {
          "base_uri": "https://localhost:8080/",
          "height": 1000
        },
        "id": "0KulySOX7XRU",
        "outputId": "8a6865f8-2594-42c6-f7d2-e73c7c13e303"
      },
      "outputs": [
        {
          "output_type": "stream",
          "name": "stdout",
          "text": [
            "Class ratios for Training:\n",
            "\n"
          ]
        },
        {
          "output_type": "display_data",
          "data": {
            "text/plain": [
              "<Figure size 700x400 with 1 Axes>"
            ],
            "image/png": "[encoded data removed]"
          },
          "metadata": {}
        },
        {
          "output_type": "stream",
          "name": "stdout",
          "text": [
            "Class ratios for Test:\n",
            "\n"
          ]
        },
        {
          "output_type": "display_data",
          "data": {
            "text/plain": [
              "<Figure size 700x400 with 1 Axes>"
            ],
            "image/png": "[encoded data removed]"
          },
          "metadata": {}
        },
        {
          "output_type": "stream",
          "name": "stdout",
          "text": [
            "Class ratios for Eliminated class:\n",
            "\n"
          ]
        },
        {
          "output_type": "display_data",
          "data": {
            "text/plain": [
              "<Figure size 700x400 with 1 Axes>"
            ],
            "image/png": "[encoded data removed]"
          },
          "metadata": {}
        }
      ],
      "source": [
        "import matplotlib.pyplot as plt\n",
        "from collections import Counter\n",
        "\n",
        "# Function to calculate class ratios and display them\n",
        "def display_class_ratios_and_plot(labels, set_name):\n",
        "    class_counts = Counter(labels)  # Count the occurrences of each class\n",
        "    total = sum(class_counts.values())  # Calculate the total number of labels\n",
        "\n",
        "    classes = sorted(class_counts.keys())  # Sort the class labels\n",
        "    ratios = [class_counts[cls] / total for cls in classes]  # Calculate ratios\n",
        "\n",
        "    # Display the class ratios\n",
        "    print(f\"Class ratios for {set_name}:\")\n",
        "    for cls, count in sorted(class_counts.items()):\n",
        "        proportion = count / total\n",
        "    print()\n",
        "\n",
        "    # Create a bar plot for the class ratios\n",
        "    plt.figure(figsize=(7, 4))\n",
        "    plt.bar(classes, ratios, color='green', alpha=0.6, edgecolor='black')\n",
        "    plt.title(f\"Class Distribution for - {set_name}\")\n",
        "    plt.xlabel(\"Classes\")\n",
        "    plt.ylabel(\"Proportion\")\n",
        "    plt.xticks(classes)\n",
        "    plt.ylim(0, 1)\n",
        "    plt.grid(axis='y', linestyle='--', alpha=0.7)\n",
        "    plt.show()\n",
        "\n",
        "display_class_ratios_and_plot(y_train, \"Training\")\n",
        "display_class_ratios_and_plot(y_test, \"Test\")\n",
        "display_class_ratios_and_plot(y_omitted, \"Eliminated class\")\n"
      ]
    },
    {
      "cell_type": "code",
      "execution_count": null,
      "metadata": {
        "id": "86cTJz7wEHp2"
      },
      "outputs": [],
      "source": [
        "y_train = y_train.astype(floatX)\n",
        "y_val = y_val.astype(floatX)\n",
        "y_test = y_test.astype(floatX)\n",
        "y_unknown = y_omitted.astype(floatX)"
      ]
    },
    {
      "cell_type": "code",
      "execution_count": null,
      "metadata": {
        "colab": {
          "base_uri": "https://localhost:8080/"
        },
        "id": "0IX4urPMDFTE",
        "outputId": "6231051a-9744-4762-9f3b-9aa01d8d3c13"
      },
      "outputs": [
        {
          "output_type": "stream",
          "name": "stdout",
          "text": [
            "(576, 64) (576,)\n",
            "(144, 64) (144,)\n",
            "(181, 64) (181,)\n",
            "(181, 64) (181,)\n"
          ]
        }
      ],
      "source": [
        "print(X_train.shape, y_train.shape)\n",
        "print(X_val.shape, y_val.shape)\n",
        "print(X_test.shape, y_test.shape)\n",
        "print(X_omitted.shape, y_unknown.shape)"
      ]
    },
    {
      "cell_type": "code",
      "execution_count": null,
      "metadata": {
        "id": "s6N7pKYQFYKO"
      },
      "outputs": [],
      "source": [
        "def construct_bnn(network_input, bnn_output, hidden_layer_neurons, class_nr):\n",
        "    # Initialize random weights between each layer\n",
        "    init_weights = {\n",
        "        \"in_1\": rng.standard_normal(size=(network_input.shape[1], hidden_layer_neurons)).astype(floatX),\n",
        "        \"1_2\": rng.standard_normal(size=(hidden_layer_neurons, hidden_layer_neurons)).astype(floatX),\n",
        "        \"2_out\": rng.standard_normal(size=(hidden_layer_neurons, class_nr)).astype(floatX),\n",
        "    }\n",
        "\n",
        "    # Define coords parameter for training the model\n",
        "    coords = {\n",
        "        \"hidden_layer_1\": np.arange(hidden_layer_neurons),\n",
        "        \"hidden_layer_2\": np.arange(hidden_layer_neurons),\n",
        "        \"output_layer\": np.arange(class_nr),\n",
        "        \"train_cols\": np.arange(network_input.shape[1]),\n",
        "    }\n",
        "\n",
        "    with pm.Model(coords=coords) as bayesian_neural_network:\n",
        "        # Input and output data for the model\n",
        "        network_input = pm.Data(\"network_input\", X_train, dims=(\"obs_id\", \"train_cols\"))\n",
        "        bnn_output = pm.Data(\"bnn_output\", y_train, dims=\"obs_id\")\n",
        "\n",
        "        # Weights initialization for each layer\n",
        "        weights = {\n",
        "            \"in_1\": pm.Normal(\"w_in_1\", mu=0, sigma=1, initval=init_weights[\"in_1\"], dims=(\"train_cols\", \"hidden_layer_1\")),\n",
        "            \"1_2\": pm.Normal(\"w_1_2\", mu=0, sigma=1, initval=init_weights[\"1_2\"], dims=(\"hidden_layer_1\", \"hidden_layer_2\")),\n",
        "            \"2_out\": pm.Normal(\"w_2_out\", mu=0, sigma=1, initval=init_weights[\"2_out\"], dims=(\"hidden_layer_2\", \"output_layer\")),\n",
        "        }\n",
        "\n",
        "        # Build the Bayesian neural network with tanh activation functions\n",
        "        act_1 = pm.math.tanh(pm.math.dot(network_input, weights[\"in_1\"]))\n",
        "        act_2 = pm.math.tanh(pm.math.dot(act_1, weights[\"1_2\"]))\n",
        "        act_out = pm.math.softmax(pm.math.dot(act_2, weights[\"2_out\"]), axis=-1)\n",
        "\n",
        "        # Multiclass classification with Categorical likelihood\n",
        "        out = pm.Categorical(\"out\", p=act_out, observed=bnn_output, total_size=y_train.shape[0], dims=\"obs_id\")\n",
        "        act_out = pm.Deterministic(\"act_out\", act_out)\n",
        "\n",
        "    return bayesian_neural_network\n"
      ]
    },
    {
      "cell_type": "code",
      "execution_count": null,
      "metadata": {
        "id": "mVfT65WBI4dN"
      },
      "outputs": [],
      "source": [
        "hidden_layer_neurons = 16\n",
        "class_nr = len(set(y_train))\n",
        "\n",
        "bnn_model = construct_bnn(X_train, y_train, hidden_layer_neurons, class_nr)"
      ]
    },
    {
      "cell_type": "code",
      "execution_count": null,
      "metadata": {
        "colab": {
          "base_uri": "https://localhost:8080/",
          "height": 34,
          "referenced_widgets": [
            "12b4ae7b634f4a04a2b48176dbaa9dea",
            "f84f2e626ec545ba8f69247b84cb424f"
          ]
        },
        "id": "EsKYWRfiJ5Tm",
        "outputId": "f7d51329-b2a7-4616-f5da-217632948201"
      },
      "outputs": [
        {
          "output_type": "display_data",
          "data": {
            "text/plain": [
              "Output()"
            ],
            "application/vnd.jupyter.widget-view+json": {
              "version_major": 2,
              "version_minor": 0,
              "model_id": "12b4ae7b634f4a04a2b48176dbaa9dea"
            }
          },
          "metadata": {}
        },
        {
          "output_type": "display_data",
          "data": {
            "text/plain": [],
            "text/html": [
              "<pre style=\"white-space:pre;overflow-x:auto;line-height:normal;font-family:Menlo,'DejaVu Sans Mono',consolas,'Courier New',monospace\"></pre>\n"
            ]
          },
          "metadata": {}
        }
      ],
      "source": [
        "with bnn_model:\n",
        "  approx = pm.fit(n=18000)"
      ]
    },
    {
      "cell_type": "code",
      "execution_count": null,
      "metadata": {
        "colab": {
          "base_uri": "https://localhost:8080/",
          "height": 449
        },
        "id": "sdpoIg3_KMpv",
        "outputId": "bb78bfbb-97b9-480b-8ea2-d8ba46542646"
      },
      "outputs": [
        {
          "output_type": "display_data",
          "data": {
            "text/plain": [
              "<Figure size 640x480 with 1 Axes>"
            ],
            "image/png": "[encoded data removed]"
          },
          "metadata": {}
        }
      ],
      "source": [
        "plt.plot(approx.hist, alpha=0.5)\n",
        "plt.ylabel(\"ELBO\")\n",
        "plt.xlabel(\"Number of iterations\")\n",
        "plt.show()"
      ]
    },
    {
      "cell_type": "code",
      "execution_count": null,
      "metadata": {
        "colab": {
          "base_uri": "https://localhost:8080/",
          "height": 34,
          "referenced_widgets": [
            "7a386b4e7e44433b9dc4a3601670f6a7",
            "25e5b75236994a5595cee15a0f37c363"
          ]
        },
        "id": "MnrGlAC_FDUn",
        "outputId": "8d39aacd-8ecb-46db-9bf7-d58234aa3936"
      },
      "outputs": [
        {
          "output_type": "display_data",
          "data": {
            "text/plain": [
              "Output()"
            ],
            "application/vnd.jupyter.widget-view+json": {
              "version_major": 2,
              "version_minor": 0,
              "model_id": "7a386b4e7e44433b9dc4a3601670f6a7"
            }
          },
          "metadata": {}
        },
        {
          "output_type": "display_data",
          "data": {
            "text/plain": [],
            "text/html": [
              "<pre style=\"white-space:pre;overflow-x:auto;line-height:normal;font-family:Menlo,'DejaVu Sans Mono',consolas,'Courier New',monospace\"></pre>\n"
            ]
          },
          "metadata": {}
        }
      ],
      "source": [
        "trace = approx.sample(draws=4000)\n",
        "with bnn_model:\n",
        "  pm.set_data({\"network_input\": X_val, \"bnn_output\": y_val}, coords={\n",
        "    \"hidden_layer_1\": np.arange(hidden_layer_neurons),\n",
        "    \"hidden_layer_2\": np.arange(hidden_layer_neurons),\n",
        "    \"output_layer\": np.arange(class_nr),\n",
        "    \"train_cols\": np.arange(X_val.shape[1])\n",
        "  })\n",
        "  ppc = pm.sample_posterior_predictive(trace, var_names=[\"out\", \"act_out\"])\n",
        "  trace.extend(ppc)"
      ]
    },
    {
      "cell_type": "code",
      "execution_count": null,
      "metadata": {
        "colab": {
          "base_uri": "https://localhost:8080/",
          "height": 34,
          "referenced_widgets": [
            "b72fdc053d68456a90d748bc9f9a019f",
            "9ea0e0c2645c427e924d24d3c8db5bdf"
          ]
        },
        "id": "hc17K1dDigKH",
        "outputId": "42282bb6-acfc-465f-8062-30fa14341795"
      },
      "outputs": [
        {
          "output_type": "display_data",
          "data": {
            "text/plain": [
              "Output()"
            ],
            "application/vnd.jupyter.widget-view+json": {
              "version_major": 2,
              "version_minor": 0,
              "model_id": "b72fdc053d68456a90d748bc9f9a019f"
            }
          },
          "metadata": {}
        },
        {
          "output_type": "display_data",
          "data": {
            "text/plain": [],
            "text/html": [
              "<pre style=\"white-space:pre;overflow-x:auto;line-height:normal;font-family:Menlo,'DejaVu Sans Mono',consolas,'Courier New',monospace\"></pre>\n"
            ]
          },
          "metadata": {}
        }
      ],
      "source": [
        "trace = approx.sample(draws=4000)\n",
        "with bnn_model:\n",
        "  pm.set_data({\"network_input\": X_test}, coords={\n",
        "    \"hidden_layer_1\": np.arange(hidden_layer_neurons),\n",
        "    \"hidden_layer_2\": np.arange(hidden_layer_neurons),\n",
        "    \"output_layer\": np.arange(class_nr),\n",
        "    \"train_cols\": np.arange(X_test.shape[1])\n",
        "\n",
        "  })\n",
        "  ppc = pm.sample_posterior_predictive(trace, var_names=[\"out\", \"act_out\"])\n",
        "  trace.extend(ppc)"
      ]
    },
    {
      "cell_type": "code",
      "execution_count": null,
      "metadata": {
        "colab": {
          "base_uri": "https://localhost:8080/"
        },
        "id": "b-MiIihA7XRW",
        "outputId": "cf23003c-54c3-4ff4-e7d4-87f6411f86c6"
      },
      "outputs": [
        {
          "output_type": "stream",
          "name": "stdout",
          "text": [
            "Accuracy: 0.9502762430939227\n"
          ]
        }
      ],
      "source": [
        "def calculate_accuracy(ppc, y_test, floatX):\n",
        "\n",
        "   # Calculate predictions and accuracy of a model based on posterior predictive samples.\n",
        "\n",
        "    preds = []\n",
        "\n",
        "    # Iterate through each test point\n",
        "    for test_point in range(ppc['out'].shape[2]):\n",
        "        class_votes = []  # List for votes of each class\n",
        "\n",
        "        for draw in ppc['out'][0]:  # Each draw from the posterior predictive\n",
        "            class_votes.append(draw[test_point])\n",
        "\n",
        "        # Determine the class with the most votes\n",
        "        predicted_class = np.argmax(np.bincount(class_votes))\n",
        "        preds.append(predicted_class.astype(floatX))\n",
        "\n",
        "    # Convert the list of predictions into an array\n",
        "    preds = np.array(preds)\n",
        "\n",
        "    # Calculate accuracy\n",
        "    accuracy = (preds == y_test).mean()\n",
        "    print(f\"Accuracy: {accuracy}\")\n",
        "\n",
        "    return preds, accuracy\n",
        "\n",
        "preds, accuracy = calculate_accuracy(ppc.posterior_predictive, y_test, floatX)\n"
      ]
    },
    {
      "cell_type": "markdown",
      "metadata": {
        "id": "UiD-5-R97XRW"
      },
      "source": [
        "UNCERTANTY"
      ]
    },
    {
      "cell_type": "code",
      "execution_count": null,
      "metadata": {
        "colab": {
          "base_uri": "https://localhost:8080/",
          "height": 671
        },
        "id": "bzeCLFMo7XRW",
        "outputId": "27d51e38-7c78-4a8f-9cae-b0d923ad2998"
      },
      "outputs": [
        {
          "output_type": "stream",
          "name": "stdout",
          "text": [
            "Predictions shape: (1, 4000, 181, 5)\n"
          ]
        },
        {
          "output_type": "display_data",
          "data": {
            "text/plain": [
              "<Figure size 1000x700 with 1 Axes>"
            ],
            "image/png": "[encoded data removed]"
          },
          "metadata": {}
        },
        {
          "output_type": "stream",
          "name": "stdout",
          "text": [
            "Number of test points: 181\n"
          ]
        }
      ],
      "source": [
        "def calc_unceirtanty(predictions, label='Test'):\n",
        "    # Calculate total uncertainty (sum of standard deviations) for each test point.\n",
        "\n",
        "    print(f\"Predictions shape: {predictions.shape}\")\n",
        "\n",
        "    # Calculate total uncertainty for each test point\n",
        "    uncertainty_array = np.array([\n",
        "        np.std(predictions[0, :, test_idx, :], axis=0).sum()\n",
        "        for test_idx in range(predictions.shape[2])\n",
        "    ])\n",
        "\n",
        "    # Visualize the uncertainty distribution\n",
        "    plt.figure(figsize=(10, 7))\n",
        "    plt.hist(uncertainty_array, bins=26, color='orange', alpha=0.6, edgecolor='black')\n",
        "    plt.title(f\"{label} Posterior Predictive STD on Softmax\")\n",
        "    plt.xlabel(\"Standard Deviation\")\n",
        "    plt.ylabel(\"Frequency\")\n",
        "    plt.show()\n",
        "\n",
        "    return uncertainty_array\n",
        "\n",
        "\n",
        "# Call the function with the posterior predictive results\n",
        "uncertainty_array = calc_unceirtanty(ppc.posterior_predictive['act_out'], label='Test')\n",
        "\n",
        "# Print the length of the uncertainty array\n",
        "print(f\"Number of test points: {len(uncertainty_array)}\")\n"
      ]
    },
    {
      "cell_type": "code",
      "execution_count": null,
      "metadata": {
        "colab": {
          "base_uri": "https://localhost:8080/",
          "height": 487
        },
        "collapsed": true,
        "id": "xUKhRj-m7XRW",
        "outputId": "1cf099a6-f1ac-45fd-f8e2-2dbbecc56a08"
      },
      "outputs": [
        {
          "output_type": "display_data",
          "data": {
            "text/plain": [
              "<Figure size 800x500 with 1 Axes>"
            ],
            "image/png": "[encoded data removed]"
          },
          "metadata": {}
        }
      ],
      "source": [
        "def compute_entropy(probabilities, epsilon=1e-10):\n",
        "    # Calculate the entropy for a set of probabilities.\n",
        "\n",
        "    total_entropy = np.sum(probabilities * np.log(probabilities + epsilon))\n",
        "    return -total_entropy\n",
        "\n",
        "\n",
        "def calculate_mean_entropy(predictions, label='Test', epsilon=1e-10):\n",
        "\n",
        "    # Calculate uncertainty based on the entropy of the mean softmax for each test point.\n",
        "\n",
        "    uncertainty_values = []\n",
        "\n",
        "    # Iterate through each test point\n",
        "    for test_idx in range(predictions.shape[2]):\n",
        "        # Extract softmax predictions for the current test point\n",
        "        softmax_draws = predictions[0, :, test_idx, :]  # Shape: (n_draws, n_classes)\n",
        "\n",
        "        # Convert to numpy array if it's a Pandas object\n",
        "        if hasattr(softmax_draws, \"values\"):\n",
        "            softmax_draws = softmax_draws.values\n",
        "\n",
        "        # Calculate the mean probability for each class\n",
        "        averaged_probs = np.mean(softmax_draws, axis=0)  # Shape: (n_classes,)\n",
        "\n",
        "        # Calculate the entropy of the mean probabilities\n",
        "        point_entropy = compute_entropy(averaged_probs, epsilon)\n",
        "\n",
        "        # Save the entropy for the current test point\n",
        "        uncertainty_values.append(point_entropy)\n",
        "\n",
        "    # Convert the list of uncertainties into a numpy array\n",
        "    uncertainty_array = np.array(uncertainty_values)\n",
        "\n",
        "    # Visualize the uncertainty distribution (histogram)\n",
        "    plt.figure(figsize=(8, 5))\n",
        "    plt.hist(uncertainty_array, bins=20, color='orange', alpha=0.6, edgecolor='black')\n",
        "    plt.title(f\"{label} Entropy on Mean Softmax\")\n",
        "    plt.xlabel(\"Entropy\")\n",
        "    plt.ylabel(\"Frequency\")\n",
        "    plt.show()\n",
        "\n",
        "    return uncertainty_array\n",
        "\n",
        "\n",
        "# Call the function with posterior predictive results\n",
        "uncertainty_array = calculate_mean_entropy(ppc.posterior_predictive['act_out'], label='Test')\n"
      ]
    },
    {
      "cell_type": "markdown",
      "metadata": {
        "id": "cXnUeVXZIxNW"
      },
      "source": [
        "TEST on the Omitted Class\n",
        "\n",
        "I analyzed the standard deviation chart and concluded that the chosen threshold to determine whether a sample belongs to the unknown class is 1.0."
      ]
    },
    {
      "cell_type": "code",
      "execution_count": null,
      "metadata": {
        "colab": {
          "base_uri": "https://localhost:8080/",
          "height": 34,
          "referenced_widgets": [
            "8d070407410a4fa7be49b6b6b0c03cb5",
            "0864127a5b1e4fdabe327a1b87991ff0"
          ]
        },
        "id": "AccmGmpZIh51",
        "outputId": "a60dc1cf-44f0-4910-bffd-bd15866b7bd0"
      },
      "outputs": [
        {
          "output_type": "display_data",
          "data": {
            "text/plain": [
              "Output()"
            ],
            "application/vnd.jupyter.widget-view+json": {
              "version_major": 2,
              "version_minor": 0,
              "model_id": "8d070407410a4fa7be49b6b6b0c03cb5"
            }
          },
          "metadata": {}
        },
        {
          "output_type": "display_data",
          "data": {
            "text/plain": [],
            "text/html": [
              "<pre style=\"white-space:pre;overflow-x:auto;line-height:normal;font-family:Menlo,'DejaVu Sans Mono',consolas,'Courier New',monospace\"></pre>\n"
            ]
          },
          "metadata": {}
        }
      ],
      "source": [
        "trace = approx.sample(draws=4000)\n",
        "with bnn_model:\n",
        "  pm.set_data({\"network_input\": X_omitted, \"bnn_output\": y_omitted}, coords={\n",
        "    \"hidden_layer_1\": np.arange(hidden_layer_neurons),\n",
        "    \"hidden_layer_2\": np.arange(hidden_layer_neurons),\n",
        "    \"output_layer\": np.arange(class_nr),\n",
        "    \"train_cols\": np.arange(X_val.shape[1])\n",
        "  })\n",
        "  ppc = pm.sample_posterior_predictive(trace, var_names=[\"out\", \"act_out\"])\n",
        "  trace.extend(ppc)"
      ]
    },
    {
      "cell_type": "code",
      "execution_count": null,
      "metadata": {
        "colab": {
          "base_uri": "https://localhost:8080/"
        },
        "collapsed": true,
        "id": "q_Kqn-gDayHq",
        "outputId": "23520e3b-2e90-450c-8eb8-1707dc472dbc"
      },
      "outputs": [
        {
          "output_type": "stream",
          "name": "stdout",
          "text": [
            "Accuracy: 0.0\n"
          ]
        }
      ],
      "source": [
        "preds_omitted, accuracy_omitted = calculate_accuracy(ppc.posterior_predictive, y_omitted, floatX)"
      ]
    },
    {
      "cell_type": "code",
      "execution_count": null,
      "metadata": {
        "colab": {
          "base_uri": "https://localhost:8080/",
          "height": 1000
        },
        "id": "8iiUw3-2NkyJ",
        "outputId": "d069fe06-53e1-41d0-b054-abc2406ab89b"
      },
      "outputs": [
        {
          "output_type": "stream",
          "name": "stdout",
          "text": [
            "Accuracy: 0.2430939226519337\n",
            "Predictions shape: (1, 4000, 181, 5)\n"
          ]
        },
        {
          "output_type": "display_data",
          "data": {
            "text/plain": [
              "<Figure size 1000x700 with 1 Axes>"
            ],
            "image/png": "[encoded data removed]"
          },
          "metadata": {}
        },
        {
          "output_type": "display_data",
          "data": {
            "text/plain": [
              "<Figure size 800x500 with 1 Axes>"
            ],
            "image/png": "[encoded data removed]"
          },
          "metadata": {}
        },
        {
          "output_type": "execute_result",
          "data": {
            "text/plain": [
              "array([1.10820976, 0.75855164, 1.34149433, 0.95088692, 0.9967097 ,\n",
              "       1.08151573, 1.50000315, 1.22512795, 1.17068848, 0.94506048,\n",
              "       0.89890789, 0.9108209 , 0.92330461, 1.1606659 , 1.03874338,\n",
              "       1.14008219, 0.96641469, 1.29266331, 0.8456505 , 1.17259117,\n",
              "       0.91294429, 1.20020168, 0.89011568, 0.72475178, 1.16210445,\n",
              "       0.98292869, 0.94945285, 1.0163722 , 1.23900396, 1.12270988,\n",
              "       1.14068831, 1.30463441, 1.4892563 , 1.00916874, 1.1545161 ,\n",
              "       1.37450744, 0.99365544, 1.11852002, 0.78939883, 0.92050199,\n",
              "       1.06410126, 1.08448781, 1.29641421, 0.81763762, 0.70975133,\n",
              "       1.05433109, 1.11474992, 1.04411966, 1.12390902, 0.64761966,\n",
              "       1.09349512, 1.45316535, 1.25601577, 1.18594143, 1.35694612,\n",
              "       1.23479572, 1.01822292, 1.08517648, 0.97139001, 1.00548988,\n",
              "       1.09624056, 1.20243589, 1.40371476, 1.0412697 , 1.28846764,\n",
              "       0.94848618, 1.06062053, 0.85835072, 1.1796782 , 0.988267  ,\n",
              "       0.97095587, 0.93191072, 0.89929672, 1.47819355, 1.10209901,\n",
              "       1.17554969, 1.26760955, 0.91071228, 0.78324446, 1.0077865 ,\n",
              "       0.90783091, 1.01390599, 0.90981126, 0.79423339, 0.66016353,\n",
              "       0.82194759, 1.1077387 , 1.0632479 , 0.90475251, 0.89871274,\n",
              "       0.95693277, 0.98072062, 1.00866971, 1.02343094, 0.99901969,\n",
              "       1.01883296, 1.02611741, 1.01679371, 1.06226679, 1.24756006,\n",
              "       0.93102989, 1.0465387 , 0.88302233, 1.2679317 , 0.93595892,\n",
              "       1.12618889, 1.0036678 , 1.49650036, 1.45193014, 1.21280042,\n",
              "       1.55809588, 1.43493121, 1.49940898, 1.56266964, 1.31836528,\n",
              "       1.08569597, 1.00185677, 1.11333445, 1.27198388, 1.56920617,\n",
              "       1.58546186, 1.14926507, 1.39726194, 1.33384344, 1.19969867,\n",
              "       1.17889919, 1.52174453, 1.41580419, 1.57093603, 1.58032727,\n",
              "       1.47618664, 1.55861426, 1.55707124, 1.3005301 , 1.28892676,\n",
              "       1.17326172, 1.23317158, 1.02830289, 1.56032578, 1.07213317,\n",
              "       1.07711682, 1.56276838, 0.97772867, 0.98897732, 0.94652051,\n",
              "       0.99946698, 0.87000812, 0.94464106, 0.90321567, 1.06796435,\n",
              "       0.84657345, 0.92561464, 1.20222551, 0.87393381, 1.02365228,\n",
              "       0.77532943, 0.81512159, 0.85971853, 0.93854531, 0.86880136,\n",
              "       0.8030297 , 0.82848848, 0.95022325, 0.97158457, 0.8948365 ,\n",
              "       1.46919789, 0.82372193, 0.8429477 , 1.18215447, 0.87758158,\n",
              "       0.75507643, 1.14482864, 0.72877859, 1.18732951, 0.93033174,\n",
              "       1.01288751, 1.13388315, 1.09315687, 1.32061924, 0.89610006,\n",
              "       0.91173142])"
            ]
          },
          "metadata": {},
          "execution_count": 232
        }
      ],
      "source": [
        "preds_omitted, accuracy_omitted = calculate_accuracy(ppc.posterior_predictive, y_test, floatX)\n",
        "uncertainty_array = calc_unceirtanty(ppc.posterior_predictive['act_out'], label='Test - omitted class 6')\n",
        "len(uncertainty_array)\n",
        "calculate_mean_entropy(ppc.posterior_predictive['act_out'], label='Test - omitted class 6')\n"
      ]
    },
    {
      "cell_type": "markdown",
      "metadata": {
        "id": "DXc0YT_32-O1"
      },
      "source": [
        "Apply the threshold, see the accuracy"
      ]
    },
    {
      "cell_type": "markdown",
      "metadata": {
        "id": "VxXJ4qAZQ_U8"
      },
      "source": [
        "Build a Neural Network and comparing the results.\n",
        "\n",
        "\n",
        "\n"
      ]
    },
    {
      "cell_type": "code",
      "execution_count": null,
      "metadata": {
        "id": "wzuXsYL63B1N"
      },
      "outputs": [],
      "source": [
        "def classifier_from_threshold(uncertainty_array, threshold):\n",
        "    classifications = (uncertainty_array > threshold).astype(int)\n",
        "    unknown_indices = np.where(classifications == 1)[0]\n",
        "    return classifications, unknown_indices\n"
      ]
    },
    {
      "cell_type": "code",
      "execution_count": null,
      "metadata": {
        "colab": {
          "base_uri": "https://localhost:8080/"
        },
        "id": "k9cseshY3GOD",
        "outputId": "8e722cc8-1bed-42ee-bc84-fb169e6cb407"
      },
      "outputs": [
        {
          "output_type": "stream",
          "name": "stdout",
          "text": [
            "Total samples: 181\n",
            "Samples classified as unknown: 181\n",
            "Indices of unknown samples: [  0   1   2   3   4   5   6   7   8   9  10  11  12  13  14  15  16  17\n",
            "  18  19  20  21  22  23  24  25  26  27  28  29  30  31  32  33  34  35\n",
            "  36  37  38  39  40  41  42  43  44  45  46  47  48  49  50  51  52  53\n",
            "  54  55  56  57  58  59  60  61  62  63  64  65  66  67  68  69  70  71\n",
            "  72  73  74  75  76  77  78  79  80  81  82  83  84  85  86  87  88  89\n",
            "  90  91  92  93  94  95  96  97  98  99 100 101 102 103 104 105 106 107\n",
            " 108 109 110 111 112 113 114 115 116 117 118 119 120 121 122 123 124 125\n",
            " 126 127 128 129 130 131 132 133 134 135 136 137 138 139 140 141 142 143\n",
            " 144 145 146 147 148 149 150 151 152 153 154 155 156 157 158 159 160 161\n",
            " 162 163 164 165 166 167 168 169 170 171 172 173 174 175 176 177 178 179\n",
            " 180]\n"
          ]
        }
      ],
      "source": [
        "# Setting the threshold\n",
        "threshold = 0.55\n",
        "\n",
        "# Apply the classification function\n",
        "classifications, unknown_indices = classifier_from_threshold(uncertainty_array, threshold)\n",
        "\n",
        "print(f\"Total samples: {len(uncertainty_array)}\")\n",
        "print(f\"Samples classified as unknown: {len(unknown_indices)}\")\n",
        "print(f\"Indices of unknown samples: {unknown_indices}\")\n"
      ]
    },
    {
      "cell_type": "code",
      "execution_count": null,
      "metadata": {
        "id": "qSqZjzGG631J"
      },
      "outputs": [],
      "source": [
        "X_test_augmented = np.vstack([X_test, X_omitted[:15]])\n",
        "y_test_augmented = np.concatenate([y_test, y_omitted[:15]])\n"
      ]
    },
    {
      "cell_type": "code",
      "execution_count": null,
      "metadata": {
        "colab": {
          "base_uri": "https://localhost:8080/",
          "height": 34,
          "referenced_widgets": [
            "741c54f08c3e42b4a755e965aa48b8fa",
            "a051c45745a84fc89936e978f6372930"
          ]
        },
        "id": "glqdV0hHMHCT",
        "outputId": "bd4e1cb2-f3c6-4dd1-ddd5-c8f98afec7a7"
      },
      "outputs": [
        {
          "output_type": "display_data",
          "data": {
            "text/plain": [
              "Output()"
            ],
            "application/vnd.jupyter.widget-view+json": {
              "version_major": 2,
              "version_minor": 0,
              "model_id": "741c54f08c3e42b4a755e965aa48b8fa"
            }
          },
          "metadata": {}
        },
        {
          "output_type": "display_data",
          "data": {
            "text/plain": [],
            "text/html": [
              "<pre style=\"white-space:pre;overflow-x:auto;line-height:normal;font-family:Menlo,'DejaVu Sans Mono',consolas,'Courier New',monospace\"></pre>\n"
            ]
          },
          "metadata": {}
        }
      ],
      "source": [
        "trace = approx.sample(draws=4000)\n",
        "with bnn_model:\n",
        "  pm.set_data({\"network_input\": X_test_augmented, \"bnn_output\": y_test_augmented}, coords={\n",
        "    \"hidden_layer_1\": np.arange(hidden_layer_neurons),\n",
        "    \"hidden_layer_2\": np.arange(hidden_layer_neurons),\n",
        "    \"output_layer\": np.arange(class_nr),\n",
        "    \"train_cols\": np.arange(X_val.shape[1])\n",
        "  })\n",
        "  ppc = pm.sample_posterior_predictive(trace, var_names=[\"out\", \"act_out\"])\n",
        "  trace.extend(ppc)"
      ]
    },
    {
      "cell_type": "code",
      "execution_count": null,
      "metadata": {
        "colab": {
          "base_uri": "https://localhost:8080/",
          "height": 867
        },
        "id": "YFAd8xQmMRyX",
        "outputId": "dbbacfc7-f8ba-4262-dc63-16f25a67f8d3"
      },
      "outputs": [
        {
          "output_type": "stream",
          "name": "stdout",
          "text": [
            "[1. 2. 3. 3. 4. 3. 0. 1. 1. 0. 3. 2. 1. 4. 2. 3. 4. 0. 1. 3. 3. 1. 3. 2.\n",
            " 1. 2. 1. 1. 1. 0. 2. 1. 1. 2. 2. 0. 4. 2. 1. 3. 2. 0. 0. 1. 0. 0. 0. 2.\n",
            " 2. 1. 3. 2. 4. 1. 4. 4. 4. 0. 3. 1. 1. 4. 2. 3. 0. 4. 2. 4. 1. 3. 3. 0.\n",
            " 2. 2. 4. 4. 4. 3. 2. 0. 4. 2. 1. 3. 4. 3. 0. 1. 4. 4. 2. 1. 0. 2. 3. 4.\n",
            " 2. 4. 4. 1. 2. 4. 3. 4. 4. 4. 4. 1. 0. 3. 4. 0. 0. 0. 3. 3. 3. 3. 3. 2.\n",
            " 3. 2. 4. 1. 4. 0. 1. 4. 1. 0. 1. 0. 4. 0. 1. 2. 0. 4. 3. 3. 4. 3. 1. 2.\n",
            " 4. 3. 1. 3. 3. 0. 3. 4. 1. 2. 4. 0. 3. 1. 1. 1. 1. 4. 2. 3. 1. 3. 2. 1.\n",
            " 1. 0. 1. 1. 3. 4. 0. 1. 0. 3. 4. 1. 4. 6. 6. 6. 6. 6. 6. 6. 6. 6. 6. 6.\n",
            " 6. 6. 6. 6.]\n",
            "15\n",
            "Predictions shape: (1, 4000, 196, 5)\n"
          ]
        },
        {
          "output_type": "display_data",
          "data": {
            "text/plain": [
              "<Figure size 1000x700 with 1 Axes>"
            ],
            "image/png": "[encoded data removed]"
          },
          "metadata": {}
        },
        {
          "output_type": "stream",
          "name": "stdout",
          "text": [
            "Total samples: 196\n",
            "Samples classified as unknown: 35\n"
          ]
        }
      ],
      "source": [
        "print(y_test_augmented)\n",
        "print(np.sum(y_test_augmented == 6) )\n",
        "uncertainty_array = calc_unceirtanty(ppc.posterior_predictive['act_out'], label='Test - both')\n",
        "classifications, unknown_indices = classifier_from_threshold(uncertainty_array, threshold= 1.0)\n",
        "\n",
        "print(f\"Total samples: {len(uncertainty_array)}\")\n",
        "print(f\"Samples classified as unknown: {len(unknown_indices)}\")\n"
      ]
    },
    {
      "cell_type": "code",
      "execution_count": null,
      "metadata": {
        "id": "0KLpAn0XPd3t"
      },
      "outputs": [],
      "source": [
        "import torch\n",
        "import torch.nn as nn\n",
        "import torch.optim as optim\n",
        "from sklearn.metrics import accuracy_score\n"
      ]
    },
    {
      "cell_type": "code",
      "execution_count": null,
      "metadata": {
        "colab": {
          "base_uri": "https://localhost:8080/"
        },
        "id": "fMnbmgC8RLxe",
        "outputId": "37dac826-b90e-4385-c150-e716caeff286"
      },
      "outputs": [
        {
          "output_type": "execute_result",
          "data": {
            "text/plain": [
              "array([0., 1., 2., 3., 4.])"
            ]
          },
          "metadata": {},
          "execution_count": 255
        }
      ],
      "source": [
        "class NormalNeuralNetwork(nn.Module):\n",
        "    def __init__(self, input_dim, num_classes):\n",
        "        super(NormalNeuralNetwork, self).__init__()\n",
        "        self.fc1 = nn.Linear(input_dim, 256)\n",
        "        self.fc2 = nn.Linear(256, 64)\n",
        "        self.fc3 = nn.Linear(64, num_classes)\n",
        "        self.relu = nn.ReLU()\n",
        "        self.softmax = nn.Softmax(dim=1)\n",
        "\n",
        "    def forward(self, x):\n",
        "        x = self.relu(self.fc1(x))\n",
        "        x = self.relu(self.fc2(x))\n",
        "        x = self.softmax(self.fc3(x))\n",
        "        return x\n",
        "\n",
        "# Initial configuration\n",
        "input_dim = X_train.shape[1]\n",
        "num_classes = len(np.unique(y_train))\n",
        "np.unique(y_train)"
      ]
    },
    {
      "cell_type": "code",
      "execution_count": null,
      "metadata": {
        "id": "4O8cXEyKRQRu"
      },
      "outputs": [],
      "source": [
        "X_tens_train = torch.tensor(X_train, dtype=torch.float32)\n",
        "y_tens_train = torch.tensor(y_train, dtype=torch.long)\n",
        "\n",
        "X_tens_val = torch.tensor(X_val, dtype=torch.float32)\n",
        "y_tens_val = torch.tensor(y_val, dtype=torch.long)\n",
        "\n",
        "X_tens_test = torch.tensor(X_test, dtype=torch.float32)\n",
        "y_tens_test = torch.tensor(y_test, dtype=torch.long)\n"
      ]
    },
    {
      "cell_type": "code",
      "execution_count": null,
      "metadata": {
        "id": "VVh3O_BlRbnE"
      },
      "outputs": [],
      "source": [
        "# Initializing the model\n",
        "model = NormalNeuralNetwork(input_dim, num_classes)\n",
        "criterion = nn.CrossEntropyLoss()\n",
        "optimizer = optim.Adam(model.parameters(), lr=0.002)"
      ]
    },
    {
      "cell_type": "code",
      "execution_count": null,
      "metadata": {
        "id": "sQZAFkZtReVh"
      },
      "outputs": [],
      "source": [
        "# Function for training\n",
        "def train_model(model, X_train, y_train, X_val, y_val, epochs=20, batch_size=32):\n",
        "    for epoch in range(epochs):\n",
        "        model.train()\n",
        "        epoch_loss = 0\n",
        "        correct = 0\n",
        "\n",
        "        # Training on batches\n",
        "        for i in range(0, X_train.shape[0], batch_size):\n",
        "            X_batch = X_train[i:i+batch_size]\n",
        "            y_batch = y_train[i:i+batch_size]\n",
        "\n",
        "            optimizer.zero_grad()  # Reset the gradients\n",
        "            outputs = model(X_batch)\n",
        "            loss = criterion(outputs, y_batch)\n",
        "            loss.backward()  # Calculate gradients\n",
        "            optimizer.step()  # Update parameters\n",
        "\n",
        "            epoch_loss += loss.item()\n",
        "            preds = outputs.argmax(dim=1)\n",
        "            correct += (preds == y_batch).sum().item()\n",
        "\n",
        "        # Evaluation on the validation set\n",
        "        model.eval()\n",
        "        with torch.no_grad():\n",
        "            val_outputs = model(X_val)\n",
        "            val_preds = val_outputs.argmax(dim=1)\n",
        "            val_accuracy = (val_preds == y_val).float().mean().item()\n",
        "\n",
        "        print(f\"Epoch {epoch+1}/{epochs}, Loss: {epoch_loss:.4f}, Train Accuracy: {correct/X_train.shape[0]:.4f}, Val Accuracy: {val_accuracy:.4f}\")\n"
      ]
    },
    {
      "cell_type": "code",
      "execution_count": null,
      "metadata": {
        "colab": {
          "base_uri": "https://localhost:8080/"
        },
        "id": "6fitl_gtRjJs",
        "outputId": "cd710ef6-5f8e-4bbc-eff9-f8190b409a74"
      },
      "outputs": [
        {
          "output_type": "stream",
          "name": "stdout",
          "text": [
            "Epoch 1/5, Loss: 16.2872, Train Accuracy: 1.0000, Val Accuracy: 0.9861\n",
            "Epoch 2/5, Loss: 16.2871, Train Accuracy: 1.0000, Val Accuracy: 0.9861\n",
            "Epoch 3/5, Loss: 16.2871, Train Accuracy: 1.0000, Val Accuracy: 0.9861\n",
            "Epoch 4/5, Loss: 16.2871, Train Accuracy: 1.0000, Val Accuracy: 0.9861\n",
            "Epoch 5/5, Loss: 16.2871, Train Accuracy: 1.0000, Val Accuracy: 0.9861\n"
          ]
        }
      ],
      "source": [
        "train_model(model, X_tens_train, y_tens_train, X_tens_val, y_tens_val, epochs=5)\n"
      ]
    },
    {
      "cell_type": "code",
      "execution_count": null,
      "metadata": {
        "colab": {
          "base_uri": "https://localhost:8080/"
        },
        "id": "pO2WRDaHRmv3",
        "outputId": "da1c4fdd-8d9c-4ad1-8fc7-d443e445eb82"
      },
      "outputs": [
        {
          "output_type": "stream",
          "name": "stdout",
          "text": [
            "Test Accuracy: 0.9724\n"
          ]
        }
      ],
      "source": [
        "model.eval()\n",
        "with torch.no_grad():\n",
        "    test_outputs = model(X_tens_test)\n",
        "    test_preds = test_outputs.argmax(dim=1)\n",
        "    test_accuracy = accuracy_score(y_test, test_preds.numpy())\n",
        "    print(f\"Test Accuracy: {test_accuracy:.4f}\")"
      ]
    }
  ],
  "metadata": {
    "colab": {
      "provenance": []
    },
    "kaggle": {
      "accelerator": "none",
      "dataSources": [],
      "dockerImageVersionId": 30839,
      "isGpuEnabled": false,
      "isInternetEnabled": true,
      "language": "python",
      "sourceType": "notebook"
    },
    "kernelspec": {
      "display_name": "Python 3 (ipykernel)",
      "language": "python",
      "name": "python3"
    },
    "language_info": {
      "codemirror_mode": {
        "name": "ipython",
        "version": 3
      },
      "file_extension": ".py",
      "mimetype": "text/x-python",
      "name": "python",
      "nbconvert_exporter": "python",
      "pygments_lexer": "ipython3",
      "version": "3.11.3"
    },
    "widgets": {
      "application/vnd.jupyter.widget-state+json": {
        "12b4ae7b634f4a04a2b48176dbaa9dea": {
          "model_module": "@jupyter-widgets/output",
          "model_name": "OutputModel",
          "model_module_version": "1.0.0",
          "state": {
            "_dom_classes": [],
            "_model_module": "@jupyter-widgets/output",
            "_model_module_version": "1.0.0",
            "_model_name": "OutputModel",
            "_view_count": null,
            "_view_module": "@jupyter-widgets/output",
            "_view_module_version": "1.0.0",
            "_view_name": "OutputView",
            "layout": "IPY_MODEL_f84f2e626ec545ba8f69247b84cb424f",
            "msg_id": "",
            "outputs": [
              {
                "output_type": "display_data",
                "data": {
                  "text/plain": "Fitting: \u001b[38;2;23;100;244m━━━━━━━━━━━━━━━━━━━━━━━━━━━━━━━━━━━━━━━\u001b[0m\u001b[38;2;23;100;244m╸\u001b[0m \u001b[35m100%\u001b[0m \u001b[36m0:00:01\u001b[0m Average Loss = 517.35\n",
                  "text/html": "<pre style=\"white-space:pre;overflow-x:auto;line-height:normal;font-family:Menlo,'DejaVu Sans Mono',consolas,'Courier New',monospace\">Fitting: <span style=\"color: #1764f4; text-decoration-color: #1764f4\">━━━━━━━━━━━━━━━━━━━━━━━━━━━━━━━━━━━━━━━╸</span> <span style=\"color: #800080; text-decoration-color: #800080\">100%</span> <span style=\"color: #008080; text-decoration-color: #008080\">0:00:01</span> Average Loss = 517.35\n</pre>\n"
                },
                "metadata": {}
              }
            ]
          }
        },
        "f84f2e626ec545ba8f69247b84cb424f": {
          "model_module": "@jupyter-widgets/base",
          "model_name": "LayoutModel",
          "model_module_version": "1.2.0",
          "state": {
            "_model_module": "@jupyter-widgets/base",
            "_model_module_version": "1.2.0",
            "_model_name": "LayoutModel",
            "_view_count": null,
            "_view_module": "@jupyter-widgets/base",
            "_view_module_version": "1.2.0",
            "_view_name": "LayoutView",
            "align_content": null,
            "align_items": null,
            "align_self": null,
            "border": null,
            "bottom": null,
            "display": null,
            "flex": null,
            "flex_flow": null,
            "grid_area": null,
            "grid_auto_columns": null,
            "grid_auto_flow": null,
            "grid_auto_rows": null,
            "grid_column": null,
            "grid_gap": null,
            "grid_row": null,
            "grid_template_areas": null,
            "grid_template_columns": null,
            "grid_template_rows": null,
            "height": null,
            "justify_content": null,
            "justify_items": null,
            "left": null,
            "margin": null,
            "max_height": null,
            "max_width": null,
            "min_height": null,
            "min_width": null,
            "object_fit": null,
            "object_position": null,
            "order": null,
            "overflow": null,
            "overflow_x": null,
            "overflow_y": null,
            "padding": null,
            "right": null,
            "top": null,
            "visibility": null,
            "width": null
          }
        },
        "7a386b4e7e44433b9dc4a3601670f6a7": {
          "model_module": "@jupyter-widgets/output",
          "model_name": "OutputModel",
          "model_module_version": "1.0.0",
          "state": {
            "_dom_classes": [],
            "_model_module": "@jupyter-widgets/output",
            "_model_module_version": "1.0.0",
            "_model_name": "OutputModel",
            "_view_count": null,
            "_view_module": "@jupyter-widgets/output",
            "_view_module_version": "1.0.0",
            "_view_name": "OutputView",
            "layout": "IPY_MODEL_25e5b75236994a5595cee15a0f37c363",
            "msg_id": "",
            "outputs": [
              {
                "output_type": "display_data",
                "data": {
                  "text/plain": "Sampling ... \u001b[32m━━━━━━━━━━━━━━━━━━━━━━━━━━━━━━━━━━━━━━━━\u001b[0m \u001b[35m100%\u001b[0m \u001b[36m0:00:00\u001b[0m / \u001b[33m0:00:09\u001b[0m\n",
                  "text/html": "<pre style=\"white-space:pre;overflow-x:auto;line-height:normal;font-family:Menlo,'DejaVu Sans Mono',consolas,'Courier New',monospace\">Sampling ... <span style=\"color: #008000; text-decoration-color: #008000\">━━━━━━━━━━━━━━━━━━━━━━━━━━━━━━━━━━━━━━━━</span> <span style=\"color: #800080; text-decoration-color: #800080\">100%</span> <span style=\"color: #008080; text-decoration-color: #008080\">0:00:00</span> / <span style=\"color: #808000; text-decoration-color: #808000\">0:00:09</span>\n</pre>\n"
                },
                "metadata": {}
              }
            ]
          }
        },
        "25e5b75236994a5595cee15a0f37c363": {
          "model_module": "@jupyter-widgets/base",
          "model_name": "LayoutModel",
          "model_module_version": "1.2.0",
          "state": {
            "_model_module": "@jupyter-widgets/base",
            "_model_module_version": "1.2.0",
            "_model_name": "LayoutModel",
            "_view_count": null,
            "_view_module": "@jupyter-widgets/base",
            "_view_module_version": "1.2.0",
            "_view_name": "LayoutView",
            "align_content": null,
            "align_items": null,
            "align_self": null,
            "border": null,
            "bottom": null,
            "display": null,
            "flex": null,
            "flex_flow": null,
            "grid_area": null,
            "grid_auto_columns": null,
            "grid_auto_flow": null,
            "grid_auto_rows": null,
            "grid_column": null,
            "grid_gap": null,
            "grid_row": null,
            "grid_template_areas": null,
            "grid_template_columns": null,
            "grid_template_rows": null,
            "height": null,
            "justify_content": null,
            "justify_items": null,
            "left": null,
            "margin": null,
            "max_height": null,
            "max_width": null,
            "min_height": null,
            "min_width": null,
            "object_fit": null,
            "object_position": null,
            "order": null,
            "overflow": null,
            "overflow_x": null,
            "overflow_y": null,
            "padding": null,
            "right": null,
            "top": null,
            "visibility": null,
            "width": null
          }
        },
        "b72fdc053d68456a90d748bc9f9a019f": {
          "model_module": "@jupyter-widgets/output",
          "model_name": "OutputModel",
          "model_module_version": "1.0.0",
          "state": {
            "_dom_classes": [],
            "_model_module": "@jupyter-widgets/output",
            "_model_module_version": "1.0.0",
            "_model_name": "OutputModel",
            "_view_count": null,
            "_view_module": "@jupyter-widgets/output",
            "_view_module_version": "1.0.0",
            "_view_name": "OutputView",
            "layout": "IPY_MODEL_9ea0e0c2645c427e924d24d3c8db5bdf",
            "msg_id": "",
            "outputs": [
              {
                "output_type": "display_data",
                "data": {
                  "text/plain": "Sampling ... \u001b[32m━━━━━━━━━━━━━━━━━━━━━━━━━━━━━━━━━━━━━━━━\u001b[0m \u001b[35m100%\u001b[0m \u001b[36m0:00:00\u001b[0m / \u001b[33m0:00:06\u001b[0m\n",
                  "text/html": "<pre style=\"white-space:pre;overflow-x:auto;line-height:normal;font-family:Menlo,'DejaVu Sans Mono',consolas,'Courier New',monospace\">Sampling ... <span style=\"color: #008000; text-decoration-color: #008000\">━━━━━━━━━━━━━━━━━━━━━━━━━━━━━━━━━━━━━━━━</span> <span style=\"color: #800080; text-decoration-color: #800080\">100%</span> <span style=\"color: #008080; text-decoration-color: #008080\">0:00:00</span> / <span style=\"color: #808000; text-decoration-color: #808000\">0:00:06</span>\n</pre>\n"
                },
                "metadata": {}
              }
            ]
          }
        },
        "9ea0e0c2645c427e924d24d3c8db5bdf": {
          "model_module": "@jupyter-widgets/base",
          "model_name": "LayoutModel",
          "model_module_version": "1.2.0",
          "state": {
            "_model_module": "@jupyter-widgets/base",
            "_model_module_version": "1.2.0",
            "_model_name": "LayoutModel",
            "_view_count": null,
            "_view_module": "@jupyter-widgets/base",
            "_view_module_version": "1.2.0",
            "_view_name": "LayoutView",
            "align_content": null,
            "align_items": null,
            "align_self": null,
            "border": null,
            "bottom": null,
            "display": null,
            "flex": null,
            "flex_flow": null,
            "grid_area": null,
            "grid_auto_columns": null,
            "grid_auto_flow": null,
            "grid_auto_rows": null,
            "grid_column": null,
            "grid_gap": null,
            "grid_row": null,
            "grid_template_areas": null,
            "grid_template_columns": null,
            "grid_template_rows": null,
            "height": null,
            "justify_content": null,
            "justify_items": null,
            "left": null,
            "margin": null,
            "max_height": null,
            "max_width": null,
            "min_height": null,
            "min_width": null,
            "object_fit": null,
            "object_position": null,
            "order": null,
            "overflow": null,
            "overflow_x": null,
            "overflow_y": null,
            "padding": null,
            "right": null,
            "top": null,
            "visibility": null,
            "width": null
          }
        },
        "8d070407410a4fa7be49b6b6b0c03cb5": {
          "model_module": "@jupyter-widgets/output",
          "model_name": "OutputModel",
          "model_module_version": "1.0.0",
          "state": {
            "_dom_classes": [],
            "_model_module": "@jupyter-widgets/output",
            "_model_module_version": "1.0.0",
            "_model_name": "OutputModel",
            "_view_count": null,
            "_view_module": "@jupyter-widgets/output",
            "_view_module_version": "1.0.0",
            "_view_name": "OutputView",
            "layout": "IPY_MODEL_0864127a5b1e4fdabe327a1b87991ff0",
            "msg_id": "",
            "outputs": [
              {
                "output_type": "display_data",
                "data": {
                  "text/plain": "Sampling ... \u001b[32m━━━━━━━━━━━━━━━━━━━━━━━━━━━━━━━━━━━━━━━━\u001b[0m \u001b[35m100%\u001b[0m \u001b[36m0:00:00\u001b[0m / \u001b[33m0:00:07\u001b[0m\n",
                  "text/html": "<pre style=\"white-space:pre;overflow-x:auto;line-height:normal;font-family:Menlo,'DejaVu Sans Mono',consolas,'Courier New',monospace\">Sampling ... <span style=\"color: #008000; text-decoration-color: #008000\">━━━━━━━━━━━━━━━━━━━━━━━━━━━━━━━━━━━━━━━━</span> <span style=\"color: #800080; text-decoration-color: #800080\">100%</span> <span style=\"color: #008080; text-decoration-color: #008080\">0:00:00</span> / <span style=\"color: #808000; text-decoration-color: #808000\">0:00:07</span>\n</pre>\n"
                },
                "metadata": {}
              }
            ]
          }
        },
        "0864127a5b1e4fdabe327a1b87991ff0": {
          "model_module": "@jupyter-widgets/base",
          "model_name": "LayoutModel",
          "model_module_version": "1.2.0",
          "state": {
            "_model_module": "@jupyter-widgets/base",
            "_model_module_version": "1.2.0",
            "_model_name": "LayoutModel",
            "_view_count": null,
            "_view_module": "@jupyter-widgets/base",
            "_view_module_version": "1.2.0",
            "_view_name": "LayoutView",
            "align_content": null,
            "align_items": null,
            "align_self": null,
            "border": null,
            "bottom": null,
            "display": null,
            "flex": null,
            "flex_flow": null,
            "grid_area": null,
            "grid_auto_columns": null,
            "grid_auto_flow": null,
            "grid_auto_rows": null,
            "grid_column": null,
            "grid_gap": null,
            "grid_row": null,
            "grid_template_areas": null,
            "grid_template_columns": null,
            "grid_template_rows": null,
            "height": null,
            "justify_content": null,
            "justify_items": null,
            "left": null,
            "margin": null,
            "max_height": null,
            "max_width": null,
            "min_height": null,
            "min_width": null,
            "object_fit": null,
            "object_position": null,
            "order": null,
            "overflow": null,
            "overflow_x": null,
            "overflow_y": null,
            "padding": null,
            "right": null,
            "top": null,
            "visibility": null,
            "width": null
          }
        },
        "741c54f08c3e42b4a755e965aa48b8fa": {
          "model_module": "@jupyter-widgets/output",
          "model_name": "OutputModel",
          "model_module_version": "1.0.0",
          "state": {
            "_dom_classes": [],
            "_model_module": "@jupyter-widgets/output",
            "_model_module_version": "1.0.0",
            "_model_name": "OutputModel",
            "_view_count": null,
            "_view_module": "@jupyter-widgets/output",
            "_view_module_version": "1.0.0",
            "_view_name": "OutputView",
            "layout": "IPY_MODEL_a051c45745a84fc89936e978f6372930",
            "msg_id": "",
            "outputs": [
              {
                "output_type": "display_data",
                "data": {
                  "text/plain": "Sampling ... \u001b[32m━━━━━━━━━━━━━━━━━━━━━━━━━━━━━━━━━━━━━━━━\u001b[0m \u001b[35m100%\u001b[0m \u001b[36m0:00:00\u001b[0m / \u001b[33m0:00:07\u001b[0m\n",
                  "text/html": "<pre style=\"white-space:pre;overflow-x:auto;line-height:normal;font-family:Menlo,'DejaVu Sans Mono',consolas,'Courier New',monospace\">Sampling ... <span style=\"color: #008000; text-decoration-color: #008000\">━━━━━━━━━━━━━━━━━━━━━━━━━━━━━━━━━━━━━━━━</span> <span style=\"color: #800080; text-decoration-color: #800080\">100%</span> <span style=\"color: #008080; text-decoration-color: #008080\">0:00:00</span> / <span style=\"color: #808000; text-decoration-color: #808000\">0:00:07</span>\n</pre>\n"
                },
                "metadata": {}
              }
            ]
          }
        },
        "a051c45745a84fc89936e978f6372930": {
          "model_module": "@jupyter-widgets/base",
          "model_name": "LayoutModel",
          "model_module_version": "1.2.0",
          "state": {
            "_model_module": "@jupyter-widgets/base",
            "_model_module_version": "1.2.0",
            "_model_name": "LayoutModel",
            "_view_count": null,
            "_view_module": "@jupyter-widgets/base",
            "_view_module_version": "1.2.0",
            "_view_name": "LayoutView",
            "align_content": null,
            "align_items": null,
            "align_self": null,
            "border": null,
            "bottom": null,
            "display": null,
            "flex": null,
            "flex_flow": null,
            "grid_area": null,
            "grid_auto_columns": null,
            "grid_auto_flow": null,
            "grid_auto_rows": null,
            "grid_column": null,
            "grid_gap": null,
            "grid_row": null,
            "grid_template_areas": null,
            "grid_template_columns": null,
            "grid_template_rows": null,
            "height": null,
            "justify_content": null,
            "justify_items": null,
            "left": null,
            "margin": null,
            "max_height": null,
            "max_width": null,
            "min_height": null,
            "min_width": null,
            "object_fit": null,
            "object_position": null,
            "order": null,
            "overflow": null,
            "overflow_x": null,
            "overflow_y": null,
            "padding": null,
            "right": null,
            "top": null,
            "visibility": null,
            "width": null
          }
        }
      }
    }
  },
  "nbformat": 4,
  "nbformat_minor": 0
}