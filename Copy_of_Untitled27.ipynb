{
 "cells": [
  {
   "cell_type": "code",
   "execution_count": 1,
   "metadata": {
    "colab": {
     "base_uri": "https://localhost:8080/"
    },
    "id": "SnjKlKdq_KpK",
    "outputId": "e318736a-499a-442b-94e4-5467dcdc46ca"
   },
   "outputs": [
    {
     "name": "stdout",
     "output_type": "stream",
     "text": [
      "Requirement already satisfied: pymc in d:\\program files\\anaconda 3\\lib\\site-packages (5.20.0)Note: you may need to restart the kernel to use updated packages.\n",
      "\n",
      "Requirement already satisfied: arviz>=0.13.0 in d:\\program files\\anaconda 3\\lib\\site-packages (from pymc) (0.20.0)\n",
      "Requirement already satisfied: cachetools>=4.2.1 in d:\\program files\\anaconda 3\\lib\\site-packages (from pymc) (5.5.0)\n",
      "Requirement already satisfied: cloudpickle in d:\\program files\\anaconda 3\\lib\\site-packages (from pymc) (2.2.1)\n",
      "Requirement already satisfied: numpy>=1.25.0 in d:\\program files\\anaconda 3\\lib\\site-packages (from pymc) (1.26.4)\n",
      "Requirement already satisfied: pandas>=0.24.0 in d:\\program files\\anaconda 3\\lib\\site-packages (from pymc) (1.5.3)\n",
      "Requirement already satisfied: pytensor<2.27,>=2.26.1 in d:\\program files\\anaconda 3\\lib\\site-packages (from pymc) (2.26.4)\n",
      "Requirement already satisfied: rich>=13.7.1 in d:\\program files\\anaconda 3\\lib\\site-packages (from pymc) (13.7.1)\n",
      "Requirement already satisfied: scipy>=1.4.1 in d:\\program files\\anaconda 3\\lib\\site-packages (from pymc) (1.10.1)\n",
      "Requirement already satisfied: threadpoolctl<4.0.0,>=3.1.0 in d:\\program files\\anaconda 3\\lib\\site-packages (from pymc) (3.5.0)\n",
      "Requirement already satisfied: typing-extensions>=3.7.4 in d:\\program files\\anaconda 3\\lib\\site-packages (from pymc) (4.9.0)\n",
      "Requirement already satisfied: setuptools>=60.0.0 in d:\\program files\\anaconda 3\\lib\\site-packages (from arviz>=0.13.0->pymc) (67.8.0)\n",
      "Requirement already satisfied: matplotlib>=3.5 in d:\\program files\\anaconda 3\\lib\\site-packages (from arviz>=0.13.0->pymc) (3.7.1)\n",
      "Requirement already satisfied: packaging in d:\\program files\\anaconda 3\\lib\\site-packages (from arviz>=0.13.0->pymc) (23.0)\n",
      "Requirement already satisfied: xarray>=2022.6.0 in d:\\program files\\anaconda 3\\lib\\site-packages (from arviz>=0.13.0->pymc) (2022.11.0)\n",
      "Requirement already satisfied: h5netcdf>=1.0.2 in d:\\program files\\anaconda 3\\lib\\site-packages (from arviz>=0.13.0->pymc) (1.4.1)\n",
      "Requirement already satisfied: xarray-einstats>=0.3 in d:\\program files\\anaconda 3\\lib\\site-packages (from arviz>=0.13.0->pymc) (0.8.0)\n",
      "Requirement already satisfied: python-dateutil>=2.8.1 in d:\\program files\\anaconda 3\\lib\\site-packages (from pandas>=0.24.0->pymc) (2.8.2)\n",
      "Requirement already satisfied: pytz>=2020.1 in d:\\program files\\anaconda 3\\lib\\site-packages (from pandas>=0.24.0->pymc) (2022.7)\n",
      "Requirement already satisfied: filelock>=3.15 in d:\\program files\\anaconda 3\\lib\\site-packages (from pytensor<2.27,>=2.26.1->pymc) (3.16.1)\n",
      "Requirement already satisfied: etuples in d:\\program files\\anaconda 3\\lib\\site-packages (from pytensor<2.27,>=2.26.1->pymc) (0.3.9)\n",
      "Requirement already satisfied: logical-unification in d:\\program files\\anaconda 3\\lib\\site-packages (from pytensor<2.27,>=2.26.1->pymc) (0.4.6)\n",
      "Requirement already satisfied: miniKanren in d:\\program files\\anaconda 3\\lib\\site-packages (from pytensor<2.27,>=2.26.1->pymc) (1.0.3)\n",
      "Requirement already satisfied: cons in d:\\program files\\anaconda 3\\lib\\site-packages (from pytensor<2.27,>=2.26.1->pymc) (0.4.6)\n",
      "Requirement already satisfied: markdown-it-py>=2.2.0 in d:\\program files\\anaconda 3\\lib\\site-packages (from rich>=13.7.1->pymc) (2.2.0)\n",
      "Requirement already satisfied: pygments<3.0.0,>=2.13.0 in d:\\program files\\anaconda 3\\lib\\site-packages (from rich>=13.7.1->pymc) (2.15.1)\n",
      "Requirement already satisfied: h5py in d:\\program files\\anaconda 3\\lib\\site-packages (from h5netcdf>=1.0.2->arviz>=0.13.0->pymc) (3.11.0)\n",
      "Requirement already satisfied: mdurl~=0.1 in d:\\program files\\anaconda 3\\lib\\site-packages (from markdown-it-py>=2.2.0->rich>=13.7.1->pymc) (0.1.0)\n",
      "Requirement already satisfied: contourpy>=1.0.1 in d:\\program files\\anaconda 3\\lib\\site-packages (from matplotlib>=3.5->arviz>=0.13.0->pymc) (1.0.5)\n",
      "Requirement already satisfied: cycler>=0.10 in d:\\program files\\anaconda 3\\lib\\site-packages (from matplotlib>=3.5->arviz>=0.13.0->pymc) (0.11.0)\n",
      "Requirement already satisfied: fonttools>=4.22.0 in d:\\program files\\anaconda 3\\lib\\site-packages (from matplotlib>=3.5->arviz>=0.13.0->pymc) (4.25.0)\n",
      "Requirement already satisfied: kiwisolver>=1.0.1 in d:\\program files\\anaconda 3\\lib\\site-packages (from matplotlib>=3.5->arviz>=0.13.0->pymc) (1.4.4)\n",
      "Requirement already satisfied: pillow>=6.2.0 in d:\\program files\\anaconda 3\\lib\\site-packages (from matplotlib>=3.5->arviz>=0.13.0->pymc) (9.4.0)\n",
      "Requirement already satisfied: pyparsing>=2.3.1 in d:\\program files\\anaconda 3\\lib\\site-packages (from matplotlib>=3.5->arviz>=0.13.0->pymc) (3.0.9)\n",
      "Requirement already satisfied: six>=1.5 in d:\\program files\\anaconda 3\\lib\\site-packages (from python-dateutil>=2.8.1->pandas>=0.24.0->pymc) (1.16.0)\n",
      "Requirement already satisfied: toolz in d:\\program files\\anaconda 3\\lib\\site-packages (from logical-unification->pytensor<2.27,>=2.26.1->pymc) (0.12.0)\n",
      "Requirement already satisfied: multipledispatch in d:\\program files\\anaconda 3\\lib\\site-packages (from logical-unification->pytensor<2.27,>=2.26.1->pymc) (0.6.0)\n",
      "Requirement already satisfied: pytensor in d:\\program files\\anaconda 3\\lib\\site-packages (2.26.4)\n",
      "Requirement already satisfied: setuptools>=59.0.0 in d:\\program files\\anaconda 3\\lib\\site-packages (from pytensor) (67.8.0)\n",
      "Requirement already satisfied: scipy<2,>=1 in d:\\program files\\anaconda 3\\lib\\site-packages (from pytensor) (1.10.1)\n",
      "Requirement already satisfied: numpy<2,>=1.17.0 in d:\\program files\\anaconda 3\\lib\\site-packages (from pytensor) (1.26.4)\n",
      "Requirement already satisfied: filelock>=3.15 in d:\\program files\\anaconda 3\\lib\\site-packages (from pytensor) (3.16.1)\n",
      "Requirement already satisfied: etuples in d:\\program files\\anaconda 3\\lib\\site-packages (from pytensor) (0.3.9)\n",
      "Requirement already satisfied: logical-unification in d:\\program files\\anaconda 3\\lib\\site-packages (from pytensor) (0.4.6)\n",
      "Requirement already satisfied: miniKanren in d:\\program files\\anaconda 3\\lib\\site-packages (from pytensor) (1.0.3)\n",
      "Requirement already satisfied: cons in d:\\program files\\anaconda 3\\lib\\site-packages (from pytensor) (0.4.6)\n",
      "Requirement already satisfied: toolz in d:\\program files\\anaconda 3\\lib\\site-packages (from logical-unification->pytensor) (0.12.0)\n",
      "Requirement already satisfied: multipledispatch in d:\\program files\\anaconda 3\\lib\\site-packages (from logical-unification->pytensor) (0.6.0)\n",
      "Requirement already satisfied: six in d:\\program files\\anaconda 3\\lib\\site-packages (from multipledispatch->logical-unification->pytensor) (1.16.0)\n",
      "Note: you may need to restart the kernel to use updated packages.\n"
     ]
    }
   ],
   "source": [
    "%pip install pymc\n",
    "%pip install pytensor"
   ]
  },
  {
   "cell_type": "code",
   "execution_count": 5,
   "metadata": {
    "id": "kIdk-UdW_Fje"
   },
   "outputs": [],
   "source": [
    "import pymc as pm\n",
    "import numpy as np\n",
    "import pytensor\n",
    "import pytensor.tensor as pt\n",
    "\n",
    "from sklearn.datasets import load_digits\n",
    "from sklearn.model_selection import train_test_split\n",
    "from sklearn.preprocessing import StandardScaler\n",
    "\n",
    "import matplotlib.pyplot as plt\n",
    "\n",
    "from scipy.stats import entropy, mode, variation"
   ]
  },
  {
   "cell_type": "code",
   "execution_count": 6,
   "metadata": {
    "id": "AB5uZkSe_6xx"
   },
   "outputs": [],
   "source": [
    "SEED = 9927\n",
    "random_nr_generator = np.random.default_rng(SEED)\n",
    "\n",
    "floatX = pytensor.config.floatX"
   ]
  },
  {
   "cell_type": "code",
   "execution_count": 7,
   "metadata": {
    "id": "ZG72c6H9BPot"
   },
   "outputs": [],
   "source": [
    "X, y = load_digits(return_X_y=True)\n",
    "\n",
    "X_used = X[np.isin(y, [0, 1, 2, 3, 4])]\n",
    "y_used = y[np.isin(y, [0, 1, 2, 3, 4])]\n",
    "\n",
    "X_novel = X[y == 5]\n",
    "y_novel = y[y == 5]\n",
    "\n",
    "X_train, X_test, y_train, y_test = train_test_split(X_used, y_used, test_size=0.2, random_state=SEED)\n",
    "\n",
    "X_train, X_val, y_train, y_val = train_test_split(X_train, y_train, test_size=0.2, random_state=SEED)\n",
    "\n",
    "scaler = StandardScaler()\n",
    "X_train = scaler.fit_transform(X_train).astype(floatX)\n",
    "X_val = scaler.transform(X_val).astype(floatX)\n",
    "X_test = scaler.transform(X_test).astype(floatX)\n",
    "X_novel = scaler.transform(X_novel).astype(floatX)"
   ]
  },
  {
   "cell_type": "code",
   "execution_count": 8,
   "metadata": {
    "id": "CAJ5kjITEHxN"
   },
   "outputs": [],
   "source": [
    "# class_to_label = {0:0, 1:1, 2:2, 3:3, 5:4}\n",
    "# y_train = np.array([class_to_label[label] for label in y_train])\n",
    "# y_val = np.array([class_to_label[label] for label in y_val])\n",
    "# y_test = np.array([class_to_label[label] for label in y_test])"
   ]
  },
  {
   "cell_type": "code",
   "execution_count": 9,
   "metadata": {
    "id": "86cTJz7wEHp2"
   },
   "outputs": [],
   "source": [
    "y_train = y_train.astype(floatX)\n",
    "y_val = y_val.astype(floatX)\n",
    "y_test = y_test.astype(floatX)\n",
    "y_novel = y_novel.astype(floatX)"
   ]
  },
  {
   "cell_type": "code",
   "execution_count": 10,
   "metadata": {
    "colab": {
     "base_uri": "https://localhost:8080/"
    },
    "id": "0IX4urPMDFTE",
    "outputId": "da01158f-ef27-471f-844b-2bda4131275b"
   },
   "outputs": [
    {
     "name": "stdout",
     "output_type": "stream",
     "text": [
      "(576, 64) (576,)\n",
      "(144, 64) (144,)\n",
      "(181, 64) (181,)\n",
      "(182, 64) (182,)\n"
     ]
    }
   ],
   "source": [
    "print(X_train.shape, y_train.shape)\n",
    "print(X_val.shape, y_val.shape)\n",
    "print(X_test.shape, y_test.shape)\n",
    "print(X_novel.shape, y_novel.shape)"
   ]
  },
  {
   "cell_type": "code",
   "execution_count": 11,
   "metadata": {
    "id": "s6N7pKYQFYKO"
   },
   "outputs": [],
   "source": [
    "def construct_bayesian_neural_network(bnn_input, bnn_output, num_hidden_neurons, num_classes):\n",
    "  # Initialize random weights between each layer\n",
    "  init_1 = random_nr_generator.standard_normal(size=(bnn_input.shape[1], num_hidden_neurons)).astype(floatX)\n",
    "  init_2 = random_nr_generator.standard_normal(size=(num_hidden_neurons, num_hidden_neurons)).astype(floatX)\n",
    "  init_out = random_nr_generator.standard_normal(size=(num_hidden_neurons, num_classes)).astype(floatX)\n",
    "\n",
    "  # Define coords parameter for training the model\n",
    "  coords = {\n",
    "      \"hidden_layer_1\": np.arange(num_hidden_neurons),\n",
    "      \"hidden_layer_2\": np.arange(num_hidden_neurons),\n",
    "      \"output_layer\": np.arange(num_classes),\n",
    "      \"train_cols\": np.arange(bnn_input.shape[1]),\n",
    "      # \"obs_id\": np.arange(bnn_input.shape[0]),\n",
    "  }\n",
    "\n",
    "  with pm.Model(coords=coords) as bayesian_neural_network:\n",
    "    bnn_input = pm.Data(\"bnn_input\", X_train, dims=(\"obs_id\", \"train_cols\"))\n",
    "    bnn_output = pm.Data(\"bnn_output\", y_train, dims=\"obs_id\")\n",
    "\n",
    "    # Weights from input to first hidden layer\n",
    "    weights_in_1 = pm.Normal(\"w_in_1\", mu=0, sigma=1, initval=init_1, dims=(\"train_cols\", \"hidden_layer_1\"))\n",
    "\n",
    "    # Weights from first hidden layer to second hidden layer\n",
    "    weights_1_2 = pm.Normal(\"w_1_2\", mu=0, sigma=1, initval=init_2, dims=(\"hidden_layer_1\", \"hidden_layer_2\"))\n",
    "\n",
    "    # Weights from second hidden layer to output layer\n",
    "    weights_2_out = pm.Normal(\"w_2_out\", mu=0, sigma=1, initval=init_out, dims=(\"hidden_layer_2\", \"output_layer\"))\n",
    "\n",
    "    # Build bayesian neural network using tanh activation function\n",
    "    act_1 = pm.math.tanh(pm.math.dot(bnn_input, weights_in_1))\n",
    "    act_2 = pm.math.tanh(pm.math.dot(act_1, weights_1_2))\n",
    "    act_out = pm.math.softmax(pm.math.dot(act_2, weights_2_out), axis=-1)\n",
    "\n",
    "    # Multiclass clasification -> Categorical likelihood\n",
    "    out = pm.Categorical(\"out\", p=act_out, observed=bnn_output, total_size=y_train.shape[0], dims=\"obs_id\")\n",
    "    act_out = pm.Deterministic(\"act_out\", act_out)\n",
    "\n",
    "  return bayesian_neural_network"
   ]
  },
  {
   "cell_type": "code",
   "execution_count": 12,
   "metadata": {
    "id": "Whrc1NyAIkyL"
   },
   "outputs": [],
   "source": [
    "num_hidden_neurons = 16\n",
    "num_classes = len(np.unique(y_train))"
   ]
  },
  {
   "cell_type": "code",
   "execution_count": 13,
   "metadata": {
    "colab": {
     "base_uri": "https://localhost:8080/"
    },
    "id": "tsAMD_n-I08-",
    "outputId": "1fb5c41e-0aad-4625-cf39-0473b3ea4054"
   },
   "outputs": [
    {
     "name": "stdout",
     "output_type": "stream",
     "text": [
      "Number of classes: 5\n"
     ]
    }
   ],
   "source": [
    "print(f\"Number of classes: {num_classes}\")"
   ]
  },
  {
   "cell_type": "code",
   "execution_count": 14,
   "metadata": {
    "id": "mVfT65WBI4dN"
   },
   "outputs": [],
   "source": [
    "bayesian_neural_network = construct_bayesian_neural_network(X_train, y_train, num_hidden_neurons, num_classes)"
   ]
  },
  {
   "cell_type": "code",
   "execution_count": 15,
   "metadata": {
    "colab": {
     "base_uri": "https://localhost:8080/",
     "height": 34,
     "referenced_widgets": [
      "b5aacc9fe3404f88aba914256839ce9d",
      "2b0a422c93824ce697402bd3db714724"
     ]
    },
    "id": "EsKYWRfiJ5Tm",
    "outputId": "476d04ce-a3f5-47e8-8182-ee01471b4402"
   },
   "outputs": [
    {
     "data": {
      "application/vnd.jupyter.widget-view+json": {
       "model_id": "6b51102d732c4b7a827c748197abd22a",
       "version_major": 2,
       "version_minor": 0
      },
      "text/plain": [
       "Output()"
      ]
     },
     "metadata": {},
     "output_type": "display_data"
    },
    {
     "data": {
      "text/html": [
       "<pre style=\"white-space:pre;overflow-x:auto;line-height:normal;font-family:Menlo,'DejaVu Sans Mono',consolas,'Courier New',monospace\"></pre>\n"
      ],
      "text/plain": []
     },
     "metadata": {},
     "output_type": "display_data"
    },
    {
     "data": {
      "text/html": [
       "<pre style=\"white-space:pre;overflow-x:auto;line-height:normal;font-family:Menlo,'DejaVu Sans Mono',consolas,'Courier New',monospace\">\n",
       "</pre>\n"
      ],
      "text/plain": [
       "\n"
      ]
     },
     "metadata": {},
     "output_type": "display_data"
    },
    {
     "name": "stderr",
     "output_type": "stream",
     "text": [
      "Finished [100%]: Average Loss = 1,559.6\n"
     ]
    }
   ],
   "source": [
    "with bayesian_neural_network:\n",
    "  approx = pm.fit(n=3000)"
   ]
  },
  {
   "cell_type": "code",
   "execution_count": 16,
   "metadata": {
    "colab": {
     "base_uri": "https://localhost:8080/",
     "height": 454
    },
    "id": "sdpoIg3_KMpv",
    "outputId": "37f886de-d613-4d75-c8f9-d9b9fe3198b2"
   },
   "outputs": [
    {
     "data": {
      "image/png": "[encoded data removed]",
      "text/plain": [
       "<Figure size 640x480 with 1 Axes>"
      ]
     },
     "metadata": {},
     "output_type": "display_data"
    }
   ],
   "source": [
    "plt.plot(approx.hist, alpha=0.3)\n",
    "plt.ylabel(\"ELBO\")\n",
    "plt.xlabel(\"iteration\")\n",
    "plt.show()"
   ]
  },
  {
   "cell_type": "code",
   "execution_count": 17,
   "metadata": {
    "colab": {
     "base_uri": "https://localhost:8080/",
     "height": 356
    },
    "id": "MnrGlAC_FDUn",
    "outputId": "3427404a-5ca1-4cd6-cac5-1d04c85c8a7d"
   },
   "outputs": [
    {
     "name": "stderr",
     "output_type": "stream",
     "text": [
      "Sampling: [out]\n"
     ]
    },
    {
     "data": {
      "application/vnd.jupyter.widget-view+json": {
       "model_id": "493b37f4757b42dfa213caa41a8ca1be",
       "version_major": 2,
       "version_minor": 0
      },
      "text/plain": [
       "Output()"
      ]
     },
     "metadata": {},
     "output_type": "display_data"
    },
    {
     "data": {
      "text/html": [
       "<pre style=\"white-space:pre;overflow-x:auto;line-height:normal;font-family:Menlo,'DejaVu Sans Mono',consolas,'Courier New',monospace\"></pre>\n"
      ],
      "text/plain": []
     },
     "metadata": {},
     "output_type": "display_data"
    },
    {
     "data": {
      "text/html": [
       "<pre style=\"white-space:pre;overflow-x:auto;line-height:normal;font-family:Menlo,'DejaVu Sans Mono',consolas,'Courier New',monospace\">\n",
       "</pre>\n"
      ],
      "text/plain": [
       "\n"
      ]
     },
     "metadata": {},
     "output_type": "display_data"
    }
   ],
   "source": [
    "trace = approx.sample(draws=5000)\n",
    "with bayesian_neural_network:\n",
    "  pm.set_data({\"bnn_input\": X_val}, coords={\n",
    "    \"hidden_layer_1\": np.arange(num_hidden_neurons),\n",
    "    \"hidden_layer_2\": np.arange(num_hidden_neurons),\n",
    "    \"output_layer\": np.arange(num_classes),\n",
    "    \"train_cols\": np.arange(X_val.shape[1]),\n",
    "    # \"obs_id\": np.arange(X_val.shape[0]),\n",
    "  })\n",
    "  ppc = pm.sample_posterior_predictive(trace, var_names=[\"out\"])\n",
    "  trace.extend(ppc)"
   ]
  },
  {
   "cell_type": "code",
   "execution_count": 18,
   "metadata": {
    "id": "Opp_jmC1Gh5d"
   },
   "outputs": [
    {
     "name": "stdout",
     "output_type": "stream",
     "text": [
      "(5000, 144)\n"
     ]
    }
   ],
   "source": [
    "for item in ppc.posterior_predictive['out']:\n",
    "    preds = []\n",
    "    print(item.shape)\n",
    "    for i in range(item.shape[1]):\n",
    "        classes = []\n",
    "        for j in range(item.shape[0]):\n",
    "            #print(item[j][i])\n",
    "            classes.append(item[j][i])\n",
    "\n",
    "        #print(classes)\n",
    "        #print(np.argmax(np.bincount(classes)), y_test[i])\n",
    "        preds.append(np.argmax(np.bincount(classes)).astype(floatX))"
   ]
  },
  {
   "cell_type": "code",
   "execution_count": 19,
   "metadata": {
    "colab": {
     "base_uri": "https://localhost:8080/",
     "height": 356
    },
    "id": "hc17K1dDigKH",
    "outputId": "57ecd02e-0c35-4310-fac2-ea42ebf87a4b"
   },
   "outputs": [
    {
     "name": "stderr",
     "output_type": "stream",
     "text": [
      "Sampling: [out]\n"
     ]
    },
    {
     "data": {
      "application/vnd.jupyter.widget-view+json": {
       "model_id": "397e8cbb2070444aaa7a7dc7809d589f",
       "version_major": 2,
       "version_minor": 0
      },
      "text/plain": [
       "Output()"
      ]
     },
     "metadata": {},
     "output_type": "display_data"
    },
    {
     "data": {
      "text/html": [
       "<pre style=\"white-space:pre;overflow-x:auto;line-height:normal;font-family:Menlo,'DejaVu Sans Mono',consolas,'Courier New',monospace\"></pre>\n"
      ],
      "text/plain": []
     },
     "metadata": {},
     "output_type": "display_data"
    },
    {
     "data": {
      "text/html": [
       "<pre style=\"white-space:pre;overflow-x:auto;line-height:normal;font-family:Menlo,'DejaVu Sans Mono',consolas,'Courier New',monospace\">\n",
       "</pre>\n"
      ],
      "text/plain": [
       "\n"
      ]
     },
     "metadata": {},
     "output_type": "display_data"
    }
   ],
   "source": [
    "trace = approx.sample(draws=5000)\n",
    "with bayesian_neural_network:\n",
    "  pm.set_data({\"bnn_input\": X_test}, coords={\n",
    "    \"hidden_layer_1\": np.arange(num_hidden_neurons),\n",
    "    \"hidden_layer_2\": np.arange(num_hidden_neurons),\n",
    "    \"output_layer\": np.arange(num_classes),\n",
    "    \"train_cols\": np.arange(X_test.shape[1]),\n",
    "    # \"obs_id\": np.arange(X_test.shape[0]),\n",
    "  })\n",
    "  ppc = pm.sample_posterior_predictive(trace, var_names=[\"out\", \"act_out\"])\n",
    "  trace.extend(ppc)"
   ]
  },
  {
   "cell_type": "code",
   "execution_count": 20,
   "metadata": {
    "colab": {
     "base_uri": "https://localhost:8080/"
    },
    "id": "nsb8h9NNmXiJ",
    "outputId": "23317ebb-db2c-4291-8837-75a19dd608da"
   },
   "outputs": [
    {
     "name": "stdout",
     "output_type": "stream",
     "text": [
      "<xarray.DataArray 'out' (chain: 1, draw: 5000, obs_id: 181)>\n",
      "array([[[2, 0, 4, ..., 3, 3, 3],\n",
      "        [2, 0, 4, ..., 3, 1, 1],\n",
      "        [4, 4, 0, ..., 3, 1, 0],\n",
      "        ...,\n",
      "        [2, 4, 1, ..., 3, 3, 0],\n",
      "        [2, 0, 4, ..., 3, 3, 3],\n",
      "        [2, 0, 2, ..., 2, 3, 3]]], dtype=int64)\n",
      "Coordinates:\n",
      "  * chain    (chain) int32 0\n",
      "  * draw     (draw) int32 0 1 2 3 4 5 6 7 ... 4993 4994 4995 4996 4997 4998 4999\n",
      "  * obs_id   (obs_id) int32 0 1 2 3 4 5 6 7 ... 173 174 175 176 177 178 179 180\n",
      "(1, 5000, 181)\n"
     ]
    }
   ],
   "source": [
    "print(ppc.posterior_predictive['out'])\n",
    "print(ppc.posterior_predictive['out'].shape)\n",
    "\n",
    "preds = []\n",
    "for item in ppc.posterior_predictive['out']:\n",
    "    for i in range(item.shape[1]):\n",
    "        classes = []\n",
    "        for j in range(item.shape[0]):\n",
    "            classes.append(item[j][i])\n",
    "\n",
    "        preds.append(np.argmax(np.bincount(classes)).astype(floatX))"
   ]
  },
  {
   "cell_type": "code",
   "execution_count": 21,
   "metadata": {},
   "outputs": [
    {
     "name": "stdout",
     "output_type": "stream",
     "text": [
      "Accuracy: 0.8729281767955801\n"
     ]
    }
   ],
   "source": [
    "# Predict on test set\n",
    "for item in ppc.posterior_predictive['out']:\n",
    "    preds = []\n",
    "    for i in range(item.shape[1]):\n",
    "        classes = []\n",
    "        for j in range(item.shape[0]):\n",
    "            classes.append(item[j][i])\n",
    "\n",
    "        preds.append(np.argmax(np.bincount(classes)).astype(floatX))\n",
    "\n",
    "# Calculate accuracy\n",
    "acc = np.mean(preds == y_test)\n",
    "print(f\"Accuracy: {acc}\")"
   ]
  },
  {
   "cell_type": "code",
   "execution_count": 22,
   "metadata": {},
   "outputs": [
    {
     "name": "stdout",
     "output_type": "stream",
     "text": [
      "Example 1 probabilities: [0.0546 0.0336 0.7542 0.1128 0.0448]\n",
      "Example 2 probabilities: [0.5934 0.036  0.0224 0.0218 0.3264]\n",
      "Example 3 probabilities: [0.125  0.1624 0.0234 0.0082 0.681 ]\n",
      "Example 4 probabilities: [0.0048 0.6478 0.0644 0.1134 0.1696]\n",
      "Example 5 probabilities: [0.0112 0.6046 0.1256 0.2148 0.0438]\n",
      "Example 6 probabilities: [0.062  0.0466 0.6394 0.232  0.02  ]\n",
      "Example 7 probabilities: [0.0962 0.1564 0.0234 0.012  0.712 ]\n",
      "Example 8 probabilities: [0.0458 0.0472 0.3618 0.5428 0.0024]\n",
      "Example 9 probabilities: [0.1166 0.3088 0.3652 0.1782 0.0312]\n",
      "Example 10 probabilities: [0.0866 0.6076 0.0134 0.1776 0.1148]\n",
      "[2.0, 0.0, 4.0, 1.0, 1.0, 2.0, 4.0, 3.0, 2.0, 1.0]\n",
      "(1, 5000, 181, 5)\n"
     ]
    }
   ],
   "source": [
    "# Extract probabilities for each prediction from posterior predictive samples\n",
    "softmax_probs = []\n",
    "\n",
    "# Iterate over posterior predictive samples\n",
    "for item in ppc.posterior_predictive['out']:\n",
    "    probs = []\n",
    "    for i in range(item.shape[1]):  # Iterate over each example\n",
    "        # Count occurrences of each class across posterior samples\n",
    "        class_counts = np.bincount(item[:, i], minlength=5)\n",
    "        # Normalize to get probabilities\n",
    "        class_probs = class_counts / np.sum(class_counts)\n",
    "        probs.append(class_probs)\n",
    "    softmax_probs.append(probs)\n",
    "\n",
    "# Convert to a NumPy array for easier handling\n",
    "softmax_probs = np.array(softmax_probs)  # Shape: (num_samples, num_examples, num_classes)\n",
    "\n",
    "# View probabilities for the first few examples\n",
    "for i in range(10):  # First 5 examples\n",
    "    print(f\"Example {i+1} probabilities: {np.mean(softmax_probs[:, i, :], axis=0)}\")\n",
    "\n",
    "print(preds[:10])\n",
    "\n",
    "# standard deviation for each class \n",
    "\n",
    "print(ppc.posterior_predictive['act_out'].shape)\n"
   ]
  },
  {
   "cell_type": "code",
   "execution_count": 23,
   "metadata": {},
   "outputs": [
    {
     "data": {
      "image/png": "[encoded data removed]",
      "text/plain": [
       "<Figure size 800x500 with 1 Axes>"
      ]
     },
     "metadata": {},
     "output_type": "display_data"
    },
    {
     "data": {
      "text/plain": [
       "array([1.02658228, 1.1144814 , 1.08327761, 1.13534705, 1.19493954,\n",
       "       1.14989618, 1.04963462, 1.1147163 , 1.44523288, 1.23037588,\n",
       "       1.06624931, 0.70386749, 1.00743609, 1.10794015, 0.94088798,\n",
       "       1.42122033, 1.2685338 , 0.67276079, 1.00465176, 1.29948887,\n",
       "       1.39446077, 1.2241482 , 1.22097217, 1.24215527, 1.07702364,\n",
       "       1.13916406, 0.8039022 , 1.19454665, 0.63919754, 1.15852558,\n",
       "       1.45380451, 1.11968428, 1.21626994, 0.79447872, 1.42211467,\n",
       "       0.84158125, 1.2857098 , 1.19928473, 0.81700337, 0.81200871,\n",
       "       1.24216374, 0.98877946, 1.2068083 , 1.29591454, 1.14468203,\n",
       "       1.02976408, 0.85330182, 1.39294723, 1.29420622, 1.12082232,\n",
       "       1.01752504, 0.88802517, 1.20278802, 1.16152983, 0.78403199,\n",
       "       0.80272097, 1.07377547, 1.18583806, 0.99594697, 1.22350208,\n",
       "       0.91529775, 0.71186098, 0.9311824 , 1.16763745, 1.23751037,\n",
       "       0.81366233, 1.24978192, 0.760772  , 1.47611635, 0.96675034,\n",
       "       1.16821429, 1.47382411, 0.72629677, 1.25906511, 0.87223106,\n",
       "       1.04177504, 0.99048349, 1.31874241, 1.22550894, 1.23395772,\n",
       "       0.93588543, 0.99370132, 0.923896  , 0.67716155, 1.30717836,\n",
       "       0.96918657, 0.93922631, 1.42445725, 0.7619615 , 1.33120626,\n",
       "       0.74349674, 0.95683489, 0.95485618, 0.74461323, 1.00084086,\n",
       "       0.99721294, 1.0601483 , 1.30418338, 1.31028669, 1.21897363,\n",
       "       1.19470278, 0.84564398, 1.52106725, 1.0732178 , 1.24997419,\n",
       "       1.40966045, 1.1776842 , 0.93738652, 1.55736975, 1.0958007 ,\n",
       "       0.68212737, 1.48156836, 1.08910014, 1.04610023, 0.68160441,\n",
       "       0.83896174, 1.0573649 , 1.10168158, 1.4757404 , 0.9260886 ,\n",
       "       0.94800662, 1.02437914, 1.41198388, 0.97169782, 1.11704961,\n",
       "       0.84914976, 0.93002984, 1.29845638, 0.74401965, 1.26054105,\n",
       "       1.36694761, 1.13418591, 1.04779297, 1.17003108, 0.85528933,\n",
       "       0.96489518, 0.72422311, 1.00382262, 1.46222035, 1.16985532,\n",
       "       0.74849675, 0.74783043, 0.97029563, 1.55106029, 1.19190723,\n",
       "       1.20901512, 1.44437966, 1.04001005, 0.93115422, 1.41343323,\n",
       "       1.27631486, 1.15437793, 0.93668801, 0.87073306, 1.12127635,\n",
       "       1.22032757, 0.68152684, 0.75628073, 0.97696979, 0.68424775,\n",
       "       1.45144821, 1.28223159, 1.11089037, 1.21086068, 1.07310596,\n",
       "       1.07999061, 1.33720419, 0.92826889, 1.24385869, 1.2833745 ,\n",
       "       1.1908984 , 1.28892716, 1.03872487, 1.27751068, 0.82935174,\n",
       "       1.09696932, 0.85456027, 0.74953251, 0.88693722, 1.17300225,\n",
       "       0.84016654])"
      ]
     },
     "execution_count": 23,
     "metadata": {},
     "output_type": "execute_result"
    }
   ],
   "source": [
    "def uncert_2(y_sm_test,verb=0,what='Test'):\n",
    "    # Placeholder for total uncertainty (sum of STDs for each class) for each test point\n",
    "    uncert_list = []\n",
    "    \n",
    "    # Loop through each test point\n",
    "    for i in range(y_sm_test.shape[2]):\n",
    "        # Extract softmax draws for the i-th test point\n",
    "        y_sm_one = y_sm_test[0, :, i, :]  # Shape: (n_draws, n_classes)\n",
    "    \n",
    "        # Compute STD for each class along the draws\n",
    "        std_per_class = np.std(y_sm_one, axis=0)  # Shape: (n_classes,)\n",
    "    \n",
    "        # Sum up the STDs for all classes\n",
    "        total_uncertainty = np.sum(std_per_class)\n",
    "    \n",
    "        # Store the total uncertainty\n",
    "        uncert_list.append(total_uncertainty)\n",
    "    \n",
    "    # Convert the list to a numpy array for easier processing\n",
    "    uncert_array = np.array(uncert_list)\n",
    "\n",
    "    if verb==1:\n",
    "        # Plot histogram of STD\n",
    "        plt.figure(figsize=(8, 5))\n",
    "        plt.hist(uncert_array, bins=20, color='blue', alpha=0.7, edgecolor='black')\n",
    "        plt.title(\"{} Posterior Predictive STD on Softmax\".format(what))\n",
    "        plt.xlabel(\"Standard Deviation\")\n",
    "        plt.ylabel(\"Frequency\")\n",
    "        plt.show()\n",
    "    return uncert_array\n",
    "\n",
    "uncert_2(ppc.posterior_predictive['act_out'],verb=1,what='Test')\n",
    "\n"
   ]
  },
  {
   "cell_type": "code",
   "execution_count": 24,
   "metadata": {},
   "outputs": [
    {
     "data": {
      "image/png": "[encoded data removed]",
      "text/plain": [
       "<Figure size 800x500 with 1 Axes>"
      ]
     },
     "metadata": {},
     "output_type": "display_data"
    },
    {
     "data": {
      "text/plain": [
       "array([0.85727282, 0.95223443, 0.95229711, 1.02862941, 1.08005193,\n",
       "       1.01479837, 0.89564791, 0.99210457, 1.4021508 , 1.12617749,\n",
       "       0.91102206, 0.50758402, 0.86721182, 1.01441326, 0.78012978,\n",
       "       1.36435676, 1.16418222, 0.51123535, 0.85325735, 1.18413977,\n",
       "       1.30842956, 1.10228571, 1.10644907, 1.12791732, 0.93069596,\n",
       "       0.99717   , 0.63784348, 1.04030379, 0.47773497, 1.10747801,\n",
       "       1.40981411, 0.97866571, 1.08340636, 0.62471357, 1.35554752,\n",
       "       0.68323442, 1.20420712, 1.08371832, 0.63445129, 0.64433235,\n",
       "       1.09468181, 0.85006317, 1.08496947, 1.18685541, 1.08005097,\n",
       "       0.89808782, 0.69720343, 1.30534891, 1.2069262 , 0.99980453,\n",
       "       0.86132937, 0.71345638, 1.07067   , 1.01887538, 0.61895207,\n",
       "       0.61393776, 0.96079644, 1.08628677, 0.85512373, 1.09332745,\n",
       "       0.79977959, 0.54632946, 0.76404273, 1.02760509, 1.11144538,\n",
       "       0.64102458, 1.14990974, 0.57506914, 1.42691309, 0.79721528,\n",
       "       1.02960831, 1.39194345, 0.55283857, 1.13183008, 0.68553049,\n",
       "       0.87818746, 0.84113468, 1.23195921, 1.08188503, 1.128439  ,\n",
       "       0.81395184, 0.83506342, 0.7732328 , 0.5116843 , 1.22238918,\n",
       "       0.85673153, 0.78489932, 1.33703499, 0.57282957, 1.20840428,\n",
       "       0.54913472, 0.79162381, 0.79627746, 0.58774677, 0.8934751 ,\n",
       "       0.82431304, 0.91162273, 1.19006041, 1.22080504, 1.09424742,\n",
       "       1.06448391, 0.6827546 , 1.49682343, 0.95554314, 1.15794963,\n",
       "       1.35036225, 1.03224792, 0.77521   , 1.51529397, 0.9206124 ,\n",
       "       0.52288847, 1.42824826, 0.93656813, 0.89294823, 0.50928218,\n",
       "       0.71022148, 0.89406457, 0.94453208, 1.40343069, 0.77936766,\n",
       "       0.81407528, 0.89009349, 1.32850024, 0.80047963, 0.99115513,\n",
       "       0.73147196, 0.73266058, 1.20989841, 0.58977593, 1.17258107,\n",
       "       1.29368451, 1.05703522, 0.8912809 , 1.07766787, 0.72596757,\n",
       "       0.81447711, 0.5550714 , 0.85047808, 1.39045986, 1.02237424,\n",
       "       0.58179875, 0.55176902, 0.84008382, 1.53862823, 1.11464378,\n",
       "       1.11965944, 1.39844839, 0.90311399, 0.75290672, 1.32078003,\n",
       "       1.20667066, 1.02295192, 0.77629834, 0.71400381, 0.96767012,\n",
       "       1.08484156, 0.50268576, 0.5809303 , 0.82326751, 0.51159907,\n",
       "       1.40196354, 1.15763732, 0.9619391 , 1.14251184, 0.94666377,\n",
       "       0.91256085, 1.25666243, 0.80706989, 1.10870192, 1.18195634,\n",
       "       1.08831057, 1.19855085, 0.91134808, 1.15327953, 0.66895051,\n",
       "       0.96347863, 0.66509105, 0.56828348, 0.76567602, 1.03109413,\n",
       "       0.6980959 ])"
      ]
     },
     "execution_count": 24,
     "metadata": {},
     "output_type": "execute_result"
    }
   ],
   "source": [
    "def entropy(probs,eps=1e-10):\n",
    "    entrop=0\n",
    "    \n",
    "    for i in range(probs.shape[0]):\n",
    "        entrop=entrop+probs[i]*np.log(probs[i]+eps)\n",
    "    entrop=-entrop\n",
    "    return entrop\n",
    "    \n",
    "#Metoda 3 ---- Entropie din medie\n",
    "num_classes=5\n",
    "def uncert_3(y_sm_test,verb=0,what='Test',eps=1e-10):\n",
    "    uncert_list = []\n",
    "    \n",
    "    # Loop through each test point\n",
    "    for i in range(y_sm_test.shape[2]):\n",
    "        # Extract softmax draws for the i-th test point\n",
    "        y_sm_one = y_sm_test[0, :, i, :]  # Shape: (n_draws, n_classes)\n",
    "\n",
    "        mean_probs = np.mean(y_sm_one, axis=0)  # Shape: (n_classes,)\n",
    "        entropy_one=entropy(mean_probs,eps)  \n",
    "        # Store the total uncertainty\n",
    "        uncert_list.append(entropy_one)\n",
    "    \n",
    "    # Convert the list to a numpy array for easier processing\n",
    "    uncert_array = np.array(uncert_list)\n",
    "    \n",
    "    if verb==1:\n",
    "        plt.figure(figsize=(8, 5))\n",
    "        plt.hist(uncert_array, bins=20, color='blue', alpha=0.7, edgecolor='black')\n",
    "        plt.title(\"{} Entropy on Mean Softmax\".format(what))\n",
    "        plt.xlabel(\"Entropy\")\n",
    "        plt.ylabel(\"Frequency\")\n",
    "        plt.show()\n",
    "    return uncert_array\n",
    "\n",
    "uncert_3(ppc.posterior_predictive['act_out'],verb=1,what='Test')"
   ]
  },
  {
   "cell_type": "code",
   "execution_count": 25,
   "metadata": {},
   "outputs": [],
   "source": [
    "# # Test for the novel class\n",
    "\n",
    "# trace = approx.sample(draws=5000)\n",
    "# with bayesian_neural_network:\n",
    "#   pm.set_data({\"bnn_input\": X_novel}, coords={\n",
    "#     \"hidden_layer_1\": np.arange(num_hidden_neurons),\n",
    "#     \"hidden_layer_2\": np.arange(num_hidden_neurons),\n",
    "#     \"output_layer\": np.arange(num_classes),\n",
    "#     \"train_cols\": np.arange(X_novel.shape[1]),\n",
    "#     # \"obs_id\": np.arange(X_novel.shape[0]),\n",
    "#   })\n",
    "#   ppc = pm.sample_posterior_predictive(trace, var_names=[\"out\"])\n",
    "#   trace.extend(ppc)"
   ]
  },
  {
   "cell_type": "code",
   "execution_count": null,
   "metadata": {},
   "outputs": [],
   "source": [
    "# # Use the measured uncertainty of BNN to predict that an example is from an unseen class\n",
    "\n",
    "# for item in ppc.posterior_predictive['out']:\n",
    "#     preds = []\n",
    "#     for i in range(item.shape[1]):\n",
    "#         classes = []\n",
    "#         for j in range(item.shape[0]):\n",
    "#             classes.append(item[j][i])\n",
    "\n",
    "#         preds.append(np.argmax(np.bincount(classes)).astype(floatX))\n",
    "\n",
    "# # Calculate the uncertainty of the model\n",
    "\n",
    "# entropies = []\n",
    "# for item in ppc.posterior_predictive['out']:\n",
    "#     for i in range(item.shape[1]):\n",
    "#         entropies.append(entropy(np.bincount(item[:, i])))\n",
    "\n",
    "# entropies = np.array(entropies)\n",
    "# print(f\"Entropy: {np.mean(entropies)}\")\n",
    "\n",
    "# variations = []\n",
    "# for item in ppc.posterior_predictive['out']:\n",
    "#     for i in range(item.shape[1]):\n",
    "#         variations.append(variation(np.bincount(item[:, i])))\n",
    "# variations = np.array(variations)\n",
    "\n",
    "# print(f\"Variation: {np.mean(variations)}\")\n"
   ]
  }
 ],
 "metadata": {
  "colab": {
   "provenance": []
  },
  "kernelspec": {
   "display_name": "Python 3 (ipykernel)",
   "language": "python",
   "name": "python3"
  },
  "language_info": {
   "codemirror_mode": {
    "name": "ipython",
    "version": 3
   },
   "file_extension": ".py",
   "mimetype": "text/x-python",
   "name": "python",
   "nbconvert_exporter": "python",
   "pygments_lexer": "ipython3",
   "version": "3.11.3"
  },
  "widgets": {
   "application/vnd.jupyter.widget-state+json": {
    "2b0a422c93824ce697402bd3db714724": {
     "model_module": "@jupyter-widgets/base",
     "model_module_version": "1.2.0",
     "model_name": "LayoutModel",
     "state": {
      "_model_module": "@jupyter-widgets/base",
      "_model_module_version": "1.2.0",
      "_model_name": "LayoutModel",
      "_view_count": null,
      "_view_module": "@jupyter-widgets/base",
      "_view_module_version": "1.2.0",
      "_view_name": "LayoutView",
      "align_content": null,
      "align_items": null,
      "align_self": null,
      "border": null,
      "bottom": null,
      "display": null,
      "flex": null,
      "flex_flow": null,
      "grid_area": null,
      "grid_auto_columns": null,
      "grid_auto_flow": null,
      "grid_auto_rows": null,
      "grid_column": null,
      "grid_gap": null,
      "grid_row": null,
      "grid_template_areas": null,
      "grid_template_columns": null,
      "grid_template_rows": null,
      "height": null,
      "justify_content": null,
      "justify_items": null,
      "left": null,
      "margin": null,
      "max_height": null,
      "max_width": null,
      "min_height": null,
      "min_width": null,
      "object_fit": null,
      "object_position": null,
      "order": null,
      "overflow": null,
      "overflow_x": null,
      "overflow_y": null,
      "padding": null,
      "right": null,
      "top": null,
      "visibility": null,
      "width": null
     }
    },
    "b5aacc9fe3404f88aba914256839ce9d": {
     "model_module": "@jupyter-widgets/output",
     "model_module_version": "1.0.0",
     "model_name": "OutputModel",
     "state": {
      "_dom_classes": [],
      "_model_module": "@jupyter-widgets/output",
      "_model_module_version": "1.0.0",
      "_model_name": "OutputModel",
      "_view_count": null,
      "_view_module": "@jupyter-widgets/output",
      "_view_module_version": "1.0.0",
      "_view_name": "OutputView",
      "layout": "IPY_MODEL_2b0a422c93824ce697402bd3db714724",
      "msg_id": "",
      "outputs": [
       {
        "data": {
         "text/html": "<pre style=\"white-space:pre;overflow-x:auto;line-height:normal;font-family:Menlo,'DejaVu Sans Mono',consolas,'Courier New',monospace\">Fitting: <span style=\"color: #1764f4; text-decoration-color: #1764f4\">━━━━━━━━━━━━━━━━━━━━━━━━━━━━━━━━━━━━━━━╸</span> <span style=\"color: #800080; text-decoration-color: #800080\">100%</span> <span style=\"color: #008080; text-decoration-color: #008080\">0:00:01</span> Average Loss = 449.96\n</pre>\n",
         "text/plain": "Fitting: \u001b[38;2;23;100;244m━━━━━━━━━━━━━━━━━━━━━━━━━━━━━━━━━━━━━━━\u001b[0m\u001b[38;2;23;100;244m╸\u001b[0m \u001b[35m100%\u001b[0m \u001b[36m0:00:01\u001b[0m Average Loss = 449.96\n"
        },
        "metadata": {},
        "output_type": "display_data"
       }
      ]
     }
    }
   }
  }
 },
 "nbformat": 4,
 "nbformat_minor": 1
}
