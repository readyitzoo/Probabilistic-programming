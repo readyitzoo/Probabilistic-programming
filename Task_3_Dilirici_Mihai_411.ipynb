{
  "nbformat": 4,
  "nbformat_minor": 0,
  "metadata": {
    "colab": {
      "provenance": []
    },
    "kernelspec": {
      "name": "python3",
      "display_name": "Python 3"
    },
    "language_info": {
      "name": "python"
    },
    "widgets": {
      "application/vnd.jupyter.widget-state+json": {
        "400d99c072554d16bd44caad51588873": {
          "model_module": "@jupyter-widgets/output",
          "model_name": "OutputModel",
          "model_module_version": "1.0.0",
          "state": {
            "_dom_classes": [],
            "_model_module": "@jupyter-widgets/output",
            "_model_module_version": "1.0.0",
            "_model_name": "OutputModel",
            "_view_count": null,
            "_view_module": "@jupyter-widgets/output",
            "_view_module_version": "1.0.0",
            "_view_name": "OutputView",
            "layout": "IPY_MODEL_d79f4cec5a0b4c44a220428ee32de4fe",
            "msg_id": "",
            "outputs": [
              {
                "output_type": "display_data",
                "data": {
                  "text/plain": "Fitting: \u001b[38;2;23;100;244m━━━━━━━━━━━━━━━━━━━━━━━━━━━━━━━━━━━━━━━\u001b[0m\u001b[38;2;23;100;244m╸\u001b[0m \u001b[35m100%\u001b[0m \u001b[36m0:00:01\u001b[0m Average Loss = 1,308.2\n",
                  "text/html": "<pre style=\"white-space:pre;overflow-x:auto;line-height:normal;font-family:Menlo,'DejaVu Sans Mono',consolas,'Courier New',monospace\">Fitting: <span style=\"color: #1764f4; text-decoration-color: #1764f4\">━━━━━━━━━━━━━━━━━━━━━━━━━━━━━━━━━━━━━━━╸</span> <span style=\"color: #800080; text-decoration-color: #800080\">100%</span> <span style=\"color: #008080; text-decoration-color: #008080\">0:00:01</span> Average Loss = 1,308.2\n</pre>\n"
                },
                "metadata": {}
              }
            ]
          }
        },
        "d79f4cec5a0b4c44a220428ee32de4fe": {
          "model_module": "@jupyter-widgets/base",
          "model_name": "LayoutModel",
          "model_module_version": "1.2.0",
          "state": {
            "_model_module": "@jupyter-widgets/base",
            "_model_module_version": "1.2.0",
            "_model_name": "LayoutModel",
            "_view_count": null,
            "_view_module": "@jupyter-widgets/base",
            "_view_module_version": "1.2.0",
            "_view_name": "LayoutView",
            "align_content": null,
            "align_items": null,
            "align_self": null,
            "border": null,
            "bottom": null,
            "display": null,
            "flex": null,
            "flex_flow": null,
            "grid_area": null,
            "grid_auto_columns": null,
            "grid_auto_flow": null,
            "grid_auto_rows": null,
            "grid_column": null,
            "grid_gap": null,
            "grid_row": null,
            "grid_template_areas": null,
            "grid_template_columns": null,
            "grid_template_rows": null,
            "height": null,
            "justify_content": null,
            "justify_items": null,
            "left": null,
            "margin": null,
            "max_height": null,
            "max_width": null,
            "min_height": null,
            "min_width": null,
            "object_fit": null,
            "object_position": null,
            "order": null,
            "overflow": null,
            "overflow_x": null,
            "overflow_y": null,
            "padding": null,
            "right": null,
            "top": null,
            "visibility": null,
            "width": null
          }
        },
        "145f6d252ee44270ac5530d645dc6a74": {
          "model_module": "@jupyter-widgets/output",
          "model_name": "OutputModel",
          "model_module_version": "1.0.0",
          "state": {
            "_dom_classes": [],
            "_model_module": "@jupyter-widgets/output",
            "_model_module_version": "1.0.0",
            "_model_name": "OutputModel",
            "_view_count": null,
            "_view_module": "@jupyter-widgets/output",
            "_view_module_version": "1.0.0",
            "_view_name": "OutputView",
            "layout": "IPY_MODEL_92398604d5f747d6a75b3938b91c1cc1",
            "msg_id": "",
            "outputs": [
              {
                "output_type": "display_data",
                "data": {
                  "text/plain": "Sampling ... \u001b[32m━━━━━━━━━━━━━━━━━━━━━━━━━━━━━━━━━━━━━━━━\u001b[0m \u001b[35m100%\u001b[0m \u001b[36m0:00:00\u001b[0m / \u001b[33m0:00:00\u001b[0m\n",
                  "text/html": "<pre style=\"white-space:pre;overflow-x:auto;line-height:normal;font-family:Menlo,'DejaVu Sans Mono',consolas,'Courier New',monospace\">Sampling ... <span style=\"color: #008000; text-decoration-color: #008000\">━━━━━━━━━━━━━━━━━━━━━━━━━━━━━━━━━━━━━━━━</span> <span style=\"color: #800080; text-decoration-color: #800080\">100%</span> <span style=\"color: #008080; text-decoration-color: #008080\">0:00:00</span> / <span style=\"color: #808000; text-decoration-color: #808000\">0:00:00</span>\n</pre>\n"
                },
                "metadata": {}
              }
            ]
          }
        },
        "92398604d5f747d6a75b3938b91c1cc1": {
          "model_module": "@jupyter-widgets/base",
          "model_name": "LayoutModel",
          "model_module_version": "1.2.0",
          "state": {
            "_model_module": "@jupyter-widgets/base",
            "_model_module_version": "1.2.0",
            "_model_name": "LayoutModel",
            "_view_count": null,
            "_view_module": "@jupyter-widgets/base",
            "_view_module_version": "1.2.0",
            "_view_name": "LayoutView",
            "align_content": null,
            "align_items": null,
            "align_self": null,
            "border": null,
            "bottom": null,
            "display": null,
            "flex": null,
            "flex_flow": null,
            "grid_area": null,
            "grid_auto_columns": null,
            "grid_auto_flow": null,
            "grid_auto_rows": null,
            "grid_column": null,
            "grid_gap": null,
            "grid_row": null,
            "grid_template_areas": null,
            "grid_template_columns": null,
            "grid_template_rows": null,
            "height": null,
            "justify_content": null,
            "justify_items": null,
            "left": null,
            "margin": null,
            "max_height": null,
            "max_width": null,
            "min_height": null,
            "min_width": null,
            "object_fit": null,
            "object_position": null,
            "order": null,
            "overflow": null,
            "overflow_x": null,
            "overflow_y": null,
            "padding": null,
            "right": null,
            "top": null,
            "visibility": null,
            "width": null
          }
        },
        "cf6766840992421294928361554d57ca": {
          "model_module": "@jupyter-widgets/output",
          "model_name": "OutputModel",
          "model_module_version": "1.0.0",
          "state": {
            "_dom_classes": [],
            "_model_module": "@jupyter-widgets/output",
            "_model_module_version": "1.0.0",
            "_model_name": "OutputModel",
            "_view_count": null,
            "_view_module": "@jupyter-widgets/output",
            "_view_module_version": "1.0.0",
            "_view_name": "OutputView",
            "layout": "IPY_MODEL_16864b9b289d4c5c876c9b7aa4340b98",
            "msg_id": "",
            "outputs": [
              {
                "output_type": "display_data",
                "data": {
                  "text/plain": "Fitting: \u001b[38;2;23;100;244m━━━━━━━━━━━━━━━━━━━━━━━━━━━━━━━━━━━━━━━\u001b[0m\u001b[38;2;23;100;244m╸\u001b[0m \u001b[35m100%\u001b[0m \u001b[36m0:00:01\u001b[0m Average Loss = 1,483.5\n",
                  "text/html": "<pre style=\"white-space:pre;overflow-x:auto;line-height:normal;font-family:Menlo,'DejaVu Sans Mono',consolas,'Courier New',monospace\">Fitting: <span style=\"color: #1764f4; text-decoration-color: #1764f4\">━━━━━━━━━━━━━━━━━━━━━━━━━━━━━━━━━━━━━━━╸</span> <span style=\"color: #800080; text-decoration-color: #800080\">100%</span> <span style=\"color: #008080; text-decoration-color: #008080\">0:00:01</span> Average Loss = 1,483.5\n</pre>\n"
                },
                "metadata": {}
              }
            ]
          }
        },
        "16864b9b289d4c5c876c9b7aa4340b98": {
          "model_module": "@jupyter-widgets/base",
          "model_name": "LayoutModel",
          "model_module_version": "1.2.0",
          "state": {
            "_model_module": "@jupyter-widgets/base",
            "_model_module_version": "1.2.0",
            "_model_name": "LayoutModel",
            "_view_count": null,
            "_view_module": "@jupyter-widgets/base",
            "_view_module_version": "1.2.0",
            "_view_name": "LayoutView",
            "align_content": null,
            "align_items": null,
            "align_self": null,
            "border": null,
            "bottom": null,
            "display": null,
            "flex": null,
            "flex_flow": null,
            "grid_area": null,
            "grid_auto_columns": null,
            "grid_auto_flow": null,
            "grid_auto_rows": null,
            "grid_column": null,
            "grid_gap": null,
            "grid_row": null,
            "grid_template_areas": null,
            "grid_template_columns": null,
            "grid_template_rows": null,
            "height": null,
            "justify_content": null,
            "justify_items": null,
            "left": null,
            "margin": null,
            "max_height": null,
            "max_width": null,
            "min_height": null,
            "min_width": null,
            "object_fit": null,
            "object_position": null,
            "order": null,
            "overflow": null,
            "overflow_x": null,
            "overflow_y": null,
            "padding": null,
            "right": null,
            "top": null,
            "visibility": null,
            "width": null
          }
        },
        "f27a2a15a9d34ad2ab21c01f6db6e762": {
          "model_module": "@jupyter-widgets/output",
          "model_name": "OutputModel",
          "model_module_version": "1.0.0",
          "state": {
            "_dom_classes": [],
            "_model_module": "@jupyter-widgets/output",
            "_model_module_version": "1.0.0",
            "_model_name": "OutputModel",
            "_view_count": null,
            "_view_module": "@jupyter-widgets/output",
            "_view_module_version": "1.0.0",
            "_view_name": "OutputView",
            "layout": "IPY_MODEL_b507cac3c9844844ac813d1b37cb4682",
            "msg_id": "",
            "outputs": [
              {
                "output_type": "display_data",
                "data": {
                  "text/plain": "Sampling ... \u001b[32m━━━━━━━━━━━━━━━━━━━━━━━━━━━━━━━━━━━━━━━━\u001b[0m \u001b[35m100%\u001b[0m \u001b[36m0:00:00\u001b[0m / \u001b[33m0:00:00\u001b[0m\n",
                  "text/html": "<pre style=\"white-space:pre;overflow-x:auto;line-height:normal;font-family:Menlo,'DejaVu Sans Mono',consolas,'Courier New',monospace\">Sampling ... <span style=\"color: #008000; text-decoration-color: #008000\">━━━━━━━━━━━━━━━━━━━━━━━━━━━━━━━━━━━━━━━━</span> <span style=\"color: #800080; text-decoration-color: #800080\">100%</span> <span style=\"color: #008080; text-decoration-color: #008080\">0:00:00</span> / <span style=\"color: #808000; text-decoration-color: #808000\">0:00:00</span>\n</pre>\n"
                },
                "metadata": {}
              }
            ]
          }
        },
        "b507cac3c9844844ac813d1b37cb4682": {
          "model_module": "@jupyter-widgets/base",
          "model_name": "LayoutModel",
          "model_module_version": "1.2.0",
          "state": {
            "_model_module": "@jupyter-widgets/base",
            "_model_module_version": "1.2.0",
            "_model_name": "LayoutModel",
            "_view_count": null,
            "_view_module": "@jupyter-widgets/base",
            "_view_module_version": "1.2.0",
            "_view_name": "LayoutView",
            "align_content": null,
            "align_items": null,
            "align_self": null,
            "border": null,
            "bottom": null,
            "display": null,
            "flex": null,
            "flex_flow": null,
            "grid_area": null,
            "grid_auto_columns": null,
            "grid_auto_flow": null,
            "grid_auto_rows": null,
            "grid_column": null,
            "grid_gap": null,
            "grid_row": null,
            "grid_template_areas": null,
            "grid_template_columns": null,
            "grid_template_rows": null,
            "height": null,
            "justify_content": null,
            "justify_items": null,
            "left": null,
            "margin": null,
            "max_height": null,
            "max_width": null,
            "min_height": null,
            "min_width": null,
            "object_fit": null,
            "object_position": null,
            "order": null,
            "overflow": null,
            "overflow_x": null,
            "overflow_y": null,
            "padding": null,
            "right": null,
            "top": null,
            "visibility": null,
            "width": null
          }
        }
      }
    }
  },
  "cells": [
    {
      "cell_type": "markdown",
      "source": [
        "**Task 3**"
      ],
      "metadata": {
        "id": "UUYtqS8vXqlB"
      }
    },
    {
      "cell_type": "markdown",
      "source": [
        "# Extension to Regression: Detecting Extrapolation Regions with a Bayesian Neural Network\n",
        "\n",
        "This notebook explores the application of Bayesian Neural Networks (BNNs) to a nonlinear regression problem. The goal is to use uncertainty estimates from the BNN to identify data points that lie in the extrapolation region, where the model lacks sufficient training data for accurate predictions.\n",
        "\n",
        "---\n",
        "\n",
        "## 1. Problem Setup\n",
        "\n",
        "The regression problem involves fitting a nonlinear function to a set of training data. The BNN is trained to model both the function and the uncertainty of its predictions. Extrapolation regions, where the model has less confidence in its predictions, are identified by analyzing uncertainty estimates.\n",
        "\n",
        "- **Training Data**: The training data is selected to represent a subset of the overall domain, ensuring the existence of regions where the model has no exposure to training samples.\n",
        "- **Extrapolation Region**: The extrapolation region is defined as the domain outside the training data range, where uncertainty is expected to increase significantly.\n",
        "\n",
        "---\n",
        "\n",
        "## 2. Bayesian Neural Network Training\n",
        "\n",
        "### Model Architecture:\n",
        "- The BNN is implemented using PyMC, a probabilistic programming library.\n",
        "- The model includes both weights and biases as probabilistic parameters, enabling it to capture uncertainty in predictions.\n",
        "\n",
        "### Uncertainty Estimation:\n",
        "- The BNN generates a posterior predictive distribution for each input point.\n",
        "- Uncertainty is quantified using metrics such as the standard deviation of predictions from the posterior distribution.\n",
        "\n",
        "---\n",
        "\n",
        "## 3. Detecting Extrapolation Regions\n",
        "\n",
        "### Step 1: Threshold Calculation\n",
        "- **Percentile-Based Threshold**: A threshold for uncertainty is computed based on the 77th percentile of the uncertainty values for extrapolated data points.\n",
        "- **Purpose**: Points with uncertainty exceeding this threshold are classified as belonging to the extrapolation region.\n",
        "\n",
        "### Step 2: Identifying Extrapolated Points\n",
        "- The indices of extrapolated points are determined by comparing the uncertainty values to the calculated threshold.\n",
        "\n",
        "---\n",
        "\n",
        "## 4. Results\n",
        "\n",
        "### Key Outputs:\n",
        "- **Threshold Value**: A threshold value of `6.85` was calculated based on the 77th percentile of uncertainty values.\n",
        "- **Number of Extrapolated Points**: A total of `17` points were detected as being in the extrapolation region.\n",
        "\n",
        "### Interpretation:\n",
        "- The high uncertainty in the extrapolation region aligns with the model's lack of exposure to training data in these areas.\n",
        "- By quantifying uncertainty, the BNN effectively identifies points that lie outside the training data range.\n",
        "\n",
        "---\n",
        "\n",
        "This task demonstrates the power of Bayesian Neural Networks in leveraging uncertainty estimates for tasks beyond traditional regression, such as detecting extrapolation regions. The methodology can be extended to other domains requiring robust uncertainty quantification.\n",
        "\n"
      ],
      "metadata": {
        "id": "TncV6HdRe3Tl"
      }
    },
    {
      "cell_type": "code",
      "source": [
        "!pip install ucimlrepo\n"
      ],
      "metadata": {
        "colab": {
          "base_uri": "https://localhost:8080/"
        },
        "id": "uXOna7gnXwH6",
        "outputId": "8351b1fc-cedb-41ed-8796-e78bcfe45abd"
      },
      "execution_count": null,
      "outputs": [
        {
          "output_type": "stream",
          "name": "stdout",
          "text": [
            "Collecting ucimlrepo\n",
            "  Downloading ucimlrepo-0.0.7-py3-none-any.whl.metadata (5.5 kB)\n",
            "Requirement already satisfied: pandas>=1.0.0 in /usr/local/lib/python3.11/dist-packages (from ucimlrepo) (2.2.2)\n",
            "Requirement already satisfied: certifi>=2020.12.5 in /usr/local/lib/python3.11/dist-packages (from ucimlrepo) (2024.12.14)\n",
            "Requirement already satisfied: numpy>=1.23.2 in /usr/local/lib/python3.11/dist-packages (from pandas>=1.0.0->ucimlrepo) (1.26.4)\n",
            "Requirement already satisfied: python-dateutil>=2.8.2 in /usr/local/lib/python3.11/dist-packages (from pandas>=1.0.0->ucimlrepo) (2.8.2)\n",
            "Requirement already satisfied: pytz>=2020.1 in /usr/local/lib/python3.11/dist-packages (from pandas>=1.0.0->ucimlrepo) (2024.2)\n",
            "Requirement already satisfied: tzdata>=2022.7 in /usr/local/lib/python3.11/dist-packages (from pandas>=1.0.0->ucimlrepo) (2025.1)\n",
            "Requirement already satisfied: six>=1.5 in /usr/local/lib/python3.11/dist-packages (from python-dateutil>=2.8.2->pandas>=1.0.0->ucimlrepo) (1.17.0)\n",
            "Downloading ucimlrepo-0.0.7-py3-none-any.whl (8.0 kB)\n",
            "Installing collected packages: ucimlrepo\n",
            "Successfully installed ucimlrepo-0.0.7\n"
          ]
        }
      ]
    },
    {
      "cell_type": "code",
      "source": [
        "# Standard library imports\n",
        "import numpy as np\n",
        "\n",
        "# Third-party library imports\n",
        "import matplotlib.pyplot as plt\n",
        "import seaborn as sns\n",
        "from scipy.stats import entropy\n",
        "\n",
        "from sklearn.model_selection import train_test_split\n",
        "from sklearn.preprocessing import scale, OneHotEncoder\n",
        "from sklearn.datasets import load_digits\n",
        "from sklearn.preprocessing import StandardScaler\n",
        "\n",
        "\n",
        "# PyMC and PyTensor imports\n",
        "import pymc as pm\n",
        "import pymc.math as pmath\n",
        "import pytensor\n",
        "\n",
        "# ArviZ imports\n",
        "import arviz as az"
      ],
      "metadata": {
        "id": "L3kPQjdjYEgJ"
      },
      "execution_count": null,
      "outputs": []
    },
    {
      "cell_type": "code",
      "source": [
        "import seaborn as sns\n",
        "\n",
        "# Load the Auto MPG dataset\n",
        "mpg = sns.load_dataset('mpg')\n",
        "\n",
        "mpg = mpg.dropna()\n",
        "\n",
        "X = mpg[['cylinders', 'displacement', 'horsepower', 'weight', 'acceleration', 'model_year', 'origin']]\n",
        "y = mpg['mpg']\n",
        "\n",
        "print(\"Features (X):\")\n",
        "print(X.head())\n",
        "\n",
        "print(\"\\nTarget (y):\")\n",
        "print(y.head())\n"
      ],
      "metadata": {
        "colab": {
          "base_uri": "https://localhost:8080/"
        },
        "id": "dnDDfu8sX0G1",
        "outputId": "158e9074-5f18-44de-a169-221f1bb6e699"
      },
      "execution_count": null,
      "outputs": [
        {
          "output_type": "stream",
          "name": "stdout",
          "text": [
            "Features (X):\n",
            "   cylinders  displacement  horsepower  weight  acceleration  model_year  \\\n",
            "0          8         307.0       130.0    3504          12.0          70   \n",
            "1          8         350.0       165.0    3693          11.5          70   \n",
            "2          8         318.0       150.0    3436          11.0          70   \n",
            "3          8         304.0       150.0    3433          12.0          70   \n",
            "4          8         302.0       140.0    3449          10.5          70   \n",
            "\n",
            "  origin  \n",
            "0    usa  \n",
            "1    usa  \n",
            "2    usa  \n",
            "3    usa  \n",
            "4    usa  \n",
            "\n",
            "Target (y):\n",
            "0    18.0\n",
            "1    15.0\n",
            "2    18.0\n",
            "3    16.0\n",
            "4    17.0\n",
            "Name: mpg, dtype: float64\n"
          ]
        }
      ]
    },
    {
      "cell_type": "code",
      "source": [
        "import pandas as pd\n",
        "\n",
        "# 1. Drop the 'name' column (not useful)\n",
        "mpg = mpg.drop(columns=['name'])\n",
        "\n",
        "# 2. Fill missing values in 'horsepower' with the column mean\n",
        "mpg['horsepower'] = mpg['horsepower'].fillna(mpg['horsepower'].mean())\n",
        "\n",
        "# 3. Convert 'origin' to a numerical variable (one-hot encoding)\n",
        "mpg = pd.get_dummies(mpg, columns=['origin'], drop_first=True)\n",
        "\n",
        "# 4. Select features and target\n",
        "X = mpg.drop(columns=['mpg'])  # Features\n",
        "y = mpg['mpg']  # Target (mpg)\n",
        "\n",
        "# Display the prepared dataset\n",
        "print(X.head())\n",
        "print(y.head())\n"
      ],
      "metadata": {
        "colab": {
          "base_uri": "https://localhost:8080/"
        },
        "id": "e1htFOwdX0Je",
        "outputId": "fa51abfe-0cd3-4ae2-e0a4-0e3f7be063c1"
      },
      "execution_count": null,
      "outputs": [
        {
          "output_type": "stream",
          "name": "stdout",
          "text": [
            "   cylinders  displacement  horsepower  weight  acceleration  model_year  \\\n",
            "0          8         307.0       130.0    3504          12.0          70   \n",
            "1          8         350.0       165.0    3693          11.5          70   \n",
            "2          8         318.0       150.0    3436          11.0          70   \n",
            "3          8         304.0       150.0    3433          12.0          70   \n",
            "4          8         302.0       140.0    3449          10.5          70   \n",
            "\n",
            "   origin_japan  origin_usa  \n",
            "0         False        True  \n",
            "1         False        True  \n",
            "2         False        True  \n",
            "3         False        True  \n",
            "4         False        True  \n",
            "0    18.0\n",
            "1    15.0\n",
            "2    18.0\n",
            "3    16.0\n",
            "4    17.0\n",
            "Name: mpg, dtype: float64\n"
          ]
        }
      ]
    },
    {
      "cell_type": "code",
      "source": [
        "# Setting the interval for the training set\n",
        "values = (mpg['cylinders'] >= 3) & (mpg['cylinders'] <= 6)\n",
        "\n",
        "\n",
        "# Separate the data for 'cylinders = 7'\n",
        "data_cyl_7 = mpg[mpg['cylinders'] == 7]\n",
        "\n",
        "mpg.to_csv(\"preprocessed_mpg.csv\", index=False)\n"
      ],
      "metadata": {
        "id": "5MNYE59gX0L1"
      },
      "execution_count": null,
      "outputs": []
    },
    {
      "cell_type": "code",
      "source": [
        "from sklearn.model_selection import train_test_split\n",
        "\n",
        "# Split the data into train and test\n",
        "X_train, X_test, y_train, y_test = train_test_split(X, y, test_size=0.2, random_state=42)\n",
        "\n",
        "print(\"Shape of training data:\", X_train.shape)\n",
        "print(\"Shape of test data:\", X_test.shape)\n",
        "\n",
        "# Load the Auto MPG dataset\n",
        "import seaborn as sns\n",
        "\n",
        "mpg = sns.load_dataset(\"mpg\").dropna()\n",
        "\n",
        "# Select features and target\n",
        "X = mpg[[\"cylinders\", \"displacement\", \"horsepower\", \"weight\", \"acceleration\", \"model_year\", \"origin\"]]\n",
        "y = mpg[\"mpg\"]\n",
        "\n",
        "# Apply one-hot encoding to categorical features\n",
        "X = pd.get_dummies(X, columns=[\"origin\"], drop_first=True)\n",
        "\n",
        "# Standardize the numerical features\n",
        "scaler = StandardScaler()\n",
        "X_scaled = scaler.fit_transform(X)\n",
        "\n",
        "# Split the data into training and test sets\n",
        "RANDOM_SEED = 9927\n",
        "X_train, X_test, y_train, y_test = train_test_split(X_scaled, y, test_size=0.2, random_state=RANDOM_SEED)\n",
        "\n",
        "# Convert to numpy format\n",
        "X_train = X_train.astype(np.float64)\n",
        "X_test = X_test.astype(np.float64)\n",
        "y_train = y_train.to_numpy().astype(np.float64)\n",
        "y_test = y_test.to_numpy().astype(np.float64)\n"
      ],
      "metadata": {
        "colab": {
          "base_uri": "https://localhost:8080/"
        },
        "id": "0yJRDYo9X4xS",
        "outputId": "876f341c-b14b-414c-a676-5157d8165579"
      },
      "execution_count": null,
      "outputs": [
        {
          "output_type": "stream",
          "name": "stdout",
          "text": [
            "Shape of training data: (313, 8)\n",
            "Shape of test data: (79, 8)\n"
          ]
        }
      ]
    },
    {
      "cell_type": "code",
      "source": [
        "def create_bayesian_network(input_data, output_data):\n",
        "\n",
        "    # Define a Bayesian neural network for regression\n",
        "\n",
        "    coords = {\n",
        "        \"input_features\": np.arange(input_data.shape[1]),\n",
        "        \"samples\": np.arange(input_data.shape[0]),\n",
        "    }\n",
        "\n",
        "    with pm.Model(coords=coords) as bayesian_nn:\n",
        "        # Define input and output data\n",
        "        model_input = pm.Data(\"model_input\", input_data, dims=(\"samples\", \"input_features\"))\n",
        "        model_output = pm.Data(\"model_output\", output_data, dims=\"samples\")\n",
        "\n",
        "        # Priors for the first hidden layer\n",
        "        weights_layer1 = pm.Normal(\"weights_layer1\", mu=0, sigma=2, shape=(input_data.shape[1], 20))\n",
        "        biases_layer1 = pm.Normal(\"biases_layer1\", mu=0, sigma=1, shape=(20,))\n",
        "\n",
        "        # Priors for the second hidden layer\n",
        "        weights_layer2 = pm.Normal(\"weights_layer2\", mu=0, sigma=2, shape=(20, 15))\n",
        "        biases_layer2 = pm.Normal(\"biases_layer2\", mu=0, sigma=1, shape=(15,))\n",
        "\n",
        "        # Priors for the output layer\n",
        "        weights_output = pm.Normal(\"weights_output\", mu=0, sigma=1, shape=(15, 1))\n",
        "        bias_output = pm.Normal(\"bias_output\", mu=0, sigma=1)\n",
        "\n",
        "        # Calculate activations for each layer\n",
        "        hidden_layer1 = pm.Deterministic(\"hidden_layer1\", pm.math.tanh(pmath.dot(model_input, weights_layer1) + biases_layer1))\n",
        "        hidden_layer2 = pm.Deterministic(\"hidden_layer2\", pm.math.tanh(pmath.dot(hidden_layer1, weights_layer2) + biases_layer2))\n",
        "        network_output = pm.Deterministic(\"network_output\", pm.math.flatten(pmath.dot(hidden_layer2, weights_output) + bias_output))\n",
        "\n",
        "        predictions_det = pm.Deterministic(\"predictions\", network_output)\n",
        "\n",
        "        # Define the distribution for the model's output\n",
        "        sigma = pm.HalfNormal(\"sigma\", sigma=0.5)\n",
        "        output = pm.Normal(\"output\", mu=network_output, sigma=sigma, observed=model_output)\n",
        "\n",
        "    return bayesian_nn\n"
      ],
      "metadata": {
        "id": "4IzCPmy8X41y"
      },
      "execution_count": null,
      "outputs": []
    },
    {
      "cell_type": "code",
      "source": [
        "# Create the model\n",
        "bnn = create_bayesian_network(X_train, y_train)\n",
        "\n",
        "with bnn:\n",
        "    # Adjust the model using ADVI method\n",
        "    approx = pm.fit(50000, method=\"advi\", random_seed=RANDOM_SEED)\n",
        "    trace = approx.sample(draws=1000, return_inferencedata=True)\n"
      ],
      "metadata": {
        "colab": {
          "base_uri": "https://localhost:8080/",
          "height": 34,
          "referenced_widgets": [
            "400d99c072554d16bd44caad51588873",
            "d79f4cec5a0b4c44a220428ee32de4fe"
          ]
        },
        "id": "S0mZupplX43-",
        "outputId": "4ccf08d1-ac60-4f56-fc5a-e5b90bc44257"
      },
      "execution_count": null,
      "outputs": [
        {
          "output_type": "display_data",
          "data": {
            "text/plain": [
              "Output()"
            ],
            "application/vnd.jupyter.widget-view+json": {
              "version_major": 2,
              "version_minor": 0,
              "model_id": "400d99c072554d16bd44caad51588873"
            }
          },
          "metadata": {}
        },
        {
          "output_type": "display_data",
          "data": {
            "text/plain": [],
            "text/html": [
              "<pre style=\"white-space:pre;overflow-x:auto;line-height:normal;font-family:Menlo,'DejaVu Sans Mono',consolas,'Courier New',monospace\"></pre>\n"
            ]
          },
          "metadata": {}
        }
      ]
    },
    {
      "cell_type": "code",
      "source": [
        "predictions = None\n",
        "\n",
        "with bnn:\n",
        "    # Update coordinates and data for the test set\n",
        "    pm.set_data({\n",
        "        \"model_input\": X_test,\n",
        "        \"model_output\": np.zeros(y_test.shape)  # Using actual values as placeholders\n",
        "    }, coords={\"samples\": np.arange(X_test.shape[0])})\n",
        "\n",
        "    # Generate predictions from the posterior\n",
        "    ppc = pm.sample_posterior_predictive(trace, var_names=[\"output\"])\n",
        "\n",
        "    predictions_draws = np.squeeze(ppc.posterior_predictive[\"output\"])\n",
        "    print(predictions_draws.shape)\n",
        "    predictions = np.mean(predictions_draws, axis=0)\n",
        "\n",
        "    # Calculate Spearman correlation between predicted and actual values\n",
        "    spearman_corr = np.corrcoef(y_test, predictions, rowvar=False)[0, 1]\n",
        "    print(f\"Spearman correlation: {spearman_corr}\")\n",
        "    print(predictions.shape)\n",
        "\n",
        "print(\"Out of with\")\n"
      ],
      "metadata": {
        "colab": {
          "base_uri": "https://localhost:8080/",
          "height": 103,
          "referenced_widgets": [
            "145f6d252ee44270ac5530d645dc6a74",
            "92398604d5f747d6a75b3938b91c1cc1"
          ]
        },
        "id": "LlH6s1jgX46L",
        "outputId": "ac04a52c-8ddd-4f15-ef40-00b8fd5e13dd"
      },
      "execution_count": null,
      "outputs": [
        {
          "output_type": "display_data",
          "data": {
            "text/plain": [
              "Output()"
            ],
            "application/vnd.jupyter.widget-view+json": {
              "version_major": 2,
              "version_minor": 0,
              "model_id": "145f6d252ee44270ac5530d645dc6a74"
            }
          },
          "metadata": {}
        },
        {
          "output_type": "display_data",
          "data": {
            "text/plain": [],
            "text/html": [
              "<pre style=\"white-space:pre;overflow-x:auto;line-height:normal;font-family:Menlo,'DejaVu Sans Mono',consolas,'Courier New',monospace\"></pre>\n"
            ]
          },
          "metadata": {}
        },
        {
          "output_type": "stream",
          "name": "stdout",
          "text": [
            "(1000, 79)\n",
            "Spearman correlation: 0.8468951059164076\n",
            "(79,)\n",
            "Out of with\n"
          ]
        }
      ]
    },
    {
      "cell_type": "code",
      "source": [
        "# Verify the range for the 'cylynders' column\n",
        "min_value = mpg['cylinders'].min()\n",
        "max_value = mpg['cylinders'].max()\n",
        "\n",
        "print(f\"Intervalul pentru 'cylinders': [{min_value}, {max_value}]\")\n",
        "\n",
        "# Print the unique values\n",
        "unique_values = mpg['cylinders'].unique()\n",
        "print(f\"Valorile unice pentru 'cylinders': {sorted(unique_values)}\")\n",
        "\n",
        "value_counts = mpg['cylinders'].value_counts()\n",
        "print(\"\\nDistribuția frecvențelor pentru 'cylinders':\")\n",
        "print(value_counts)\n"
      ],
      "metadata": {
        "id": "NMtDVkGuX48f"
      },
      "execution_count": null,
      "outputs": []
    },
    {
      "cell_type": "code",
      "source": [
        "# Interval for the training set\n",
        "train_interval = (mpg['cylinders'] >= 3) & (mpg['cylinders'] <= 6)\n",
        "\n",
        "# Separate all data where `cylinders = 8`\n",
        "data_cyl_8 = mpg[mpg['cylinders'] == 8]\n",
        "\n",
        "# Select a fraction for testing (e.g., 30% of `cylinders = 8`)\n",
        "test_data, extra_traindata = train_test_split(data_cyl_8, test_size=0.3, random_state=42)\n",
        "\n",
        "# Add the remaining data (70%) to the training set\n",
        "train_data = pd.concat([mpg[mpg['cylinders'] <= 6], extra_traindata])\n",
        "\n",
        "# Separate features and target\n",
        "X_train = train_data.drop(columns=['mpg'])\n",
        "y_train = train_data['mpg']\n",
        "X_test = test_data.drop(columns=['mpg'])\n",
        "y_test = test_data['mpg']\n",
        "\n",
        "# Check the dimensions\n",
        "print(f\"Number of examples in the training set: {len(X_train)}\")\n",
        "print(f\"Number of examples in the test set: {len(X_test)}\")\n"
      ],
      "metadata": {
        "colab": {
          "base_uri": "https://localhost:8080/"
        },
        "id": "wQW2JgeJX4-0",
        "outputId": "3b048b44-bb6f-49d7-d522-221157d8e76f"
      },
      "execution_count": null,
      "outputs": [
        {
          "output_type": "stream",
          "name": "stdout",
          "text": [
            "Number of examples in the training set: 320\n",
            "Number of examples in the test set: 72\n"
          ]
        }
      ]
    },
    {
      "cell_type": "code",
      "source": [
        "def uncertain_regr_calc(predictions, label='Test'):\n",
        "\n",
        "    # Calculate total uncertainty (standard deviation) for each test point.\n",
        "\n",
        "    # Compute the standard deviation for each point\n",
        "    uncertainty_array = np.std(predictions, axis=0)  # Dimension: (n_samples,)\n",
        "\n",
        "    # Visualize the distribution of uncertainties\n",
        "    plt.figure(figsize=(10, 7))\n",
        "    plt.hist(uncertainty_array, bins=15, color='orange', alpha=0.6, edgecolor='black')\n",
        "    plt.title(f\"{label} Posterior Predictive Uncertainty\")\n",
        "    plt.xlabel(\"Standard Deviation\")\n",
        "    plt.ylabel(\"Frequency\")\n",
        "    plt.show()\n",
        "\n",
        "    return uncertainty_array\n"
      ],
      "metadata": {
        "id": "lFSOg7E6X0OG"
      },
      "execution_count": null,
      "outputs": []
    },
    {
      "cell_type": "code",
      "source": [
        "def detect_extrapolation_points(uncertainty_array, threshold=None):\n",
        "    # Detect points with high uncertainty, which are considered as extrapolation points.\n",
        "\n",
        "    # Set the threshold if not specified\n",
        "    if threshold is None:\n",
        "        threshold = np.percentile(uncertainty_array, 95)  # Default threshold: 95th percentile\n",
        "\n",
        "    # Detect points with uncertainty above the threshold\n",
        "    extrapolation_points = np.where(uncertainty_array > threshold)[0]\n",
        "\n",
        "    print(f\"Threshold used for extrapolation: {threshold:.2f}\")\n",
        "    print(f\"Number of extrapolation points: {len(extrapolation_points)}\")\n",
        "\n",
        "    return extrapolation_points, threshold\n"
      ],
      "metadata": {
        "id": "GR_llHC4X0QK"
      },
      "execution_count": null,
      "outputs": []
    },
    {
      "cell_type": "code",
      "source": [
        "predictions = np.array(predictions)\n",
        "uncertainty_array = uncertain_regr_calc(predictions, label=\"Test - data\")\n"
      ],
      "metadata": {
        "colab": {
          "base_uri": "https://localhost:8080/",
          "height": 632
        },
        "id": "jwdyPxcpYVFR",
        "outputId": "1fd684e2-e9e9-4e85-ccc8-9eb926219b53"
      },
      "execution_count": null,
      "outputs": [
        {
          "output_type": "display_data",
          "data": {
            "text/plain": [
              "<Figure size 1000x700 with 1 Axes>"
            ],
            "image/png": "[encoded data removed]"
          },
          "metadata": {}
        }
      ]
    },
    {
      "cell_type": "code",
      "source": [
        "threshold = np.percentile(uncertainty_array, 95)\n",
        "\n",
        "print(f\"Selected threshold (95 percentile): {threshold:.2f}\")\n",
        "\n",
        "threshold = np.percentile(uncertainty_array, 90)\n",
        "\n",
        "print(f\"Selected threshold (90 percentile): {threshold:.2f}\")"
      ],
      "metadata": {
        "colab": {
          "base_uri": "https://localhost:8080/"
        },
        "id": "MBp8U_hPYVHs",
        "outputId": "3434f3d9-38f8-4a37-e1df-52fe54b35b46"
      },
      "execution_count": null,
      "outputs": [
        {
          "output_type": "stream",
          "name": "stdout",
          "text": [
            "Selected threshold (95 percentile): 5.40\n",
            "Selected threshold (90 percentile): 5.40\n"
          ]
        }
      ]
    },
    {
      "cell_type": "code",
      "source": [
        "# Load the Auto MPG dataset\n",
        "mpg = sns.load_dataset('mpg')\n",
        "\n",
        "mpg = mpg.dropna()\n",
        "\n",
        "X = mpg[['cylinders', 'displacement', 'horsepower', 'weight', 'acceleration', 'model_year', 'origin']]\n",
        "y = mpg['mpg']\n",
        "\n",
        "print(\"Features (X):\")\n",
        "print(X.head())\n",
        "\n",
        "print(\"\\nTarget (y):\")\n",
        "print(y.head())\n",
        "\n",
        "# 1. Drop the 'name' column (not useful)\n",
        "mpg = mpg.drop(columns=['name'])\n",
        "\n",
        "# 2. Fill missing values in 'horsepower' with the column mean\n",
        "mpg['horsepower'] = mpg['horsepower'].fillna(mpg['horsepower'].mean())\n",
        "\n",
        "# 3. Convert 'origin' to a numerical variable (one-hot encoding)\n",
        "mpg = pd.get_dummies(mpg, columns=['origin'], drop_first=True)\n",
        "\n",
        "# 4. Select features and target\n",
        "X = mpg.drop(columns=['mpg'])  # Features\n",
        "y = mpg['mpg']  # Target (mpg)\n",
        "\n",
        "# Display the prepared dataset\n",
        "print(X.head())\n",
        "print(y.head())\n",
        "\n",
        "# Setting the interval for the training set\n",
        "values = (mpg['cylinders'] >= 3) & (mpg['cylinders'] <= 6)\n",
        "\n",
        "\n",
        "# Separate the data for 'cylinders = 8'\n",
        "data_cyl_8 = mpg[mpg['cylinders'] == 8]\n",
        "\n",
        "mpg.to_csv(\"preprocessed_mpg.csv\", index=False)"
      ],
      "metadata": {
        "colab": {
          "base_uri": "https://localhost:8080/"
        },
        "id": "cthFC9vxa-lS",
        "outputId": "cc9f0b1e-d364-41f0-b9ec-5c22a26a3149"
      },
      "execution_count": null,
      "outputs": [
        {
          "output_type": "stream",
          "name": "stdout",
          "text": [
            "Features (X):\n",
            "   cylinders  displacement  horsepower  weight  acceleration  model_year  \\\n",
            "0          8         307.0       130.0    3504          12.0          70   \n",
            "1          8         350.0       165.0    3693          11.5          70   \n",
            "2          8         318.0       150.0    3436          11.0          70   \n",
            "3          8         304.0       150.0    3433          12.0          70   \n",
            "4          8         302.0       140.0    3449          10.5          70   \n",
            "\n",
            "  origin  \n",
            "0    usa  \n",
            "1    usa  \n",
            "2    usa  \n",
            "3    usa  \n",
            "4    usa  \n",
            "\n",
            "Target (y):\n",
            "0    18.0\n",
            "1    15.0\n",
            "2    18.0\n",
            "3    16.0\n",
            "4    17.0\n",
            "Name: mpg, dtype: float64\n",
            "   cylinders  displacement  horsepower  weight  acceleration  model_year  \\\n",
            "0          8         307.0       130.0    3504          12.0          70   \n",
            "1          8         350.0       165.0    3693          11.5          70   \n",
            "2          8         318.0       150.0    3436          11.0          70   \n",
            "3          8         304.0       150.0    3433          12.0          70   \n",
            "4          8         302.0       140.0    3449          10.5          70   \n",
            "\n",
            "   origin_japan  origin_usa  \n",
            "0         False        True  \n",
            "1         False        True  \n",
            "2         False        True  \n",
            "3         False        True  \n",
            "4         False        True  \n",
            "0    18.0\n",
            "1    15.0\n",
            "2    18.0\n",
            "3    16.0\n",
            "4    17.0\n",
            "Name: mpg, dtype: float64\n"
          ]
        }
      ]
    },
    {
      "cell_type": "code",
      "source": [
        "# Read the dataset\n",
        "mpg = pd.read_csv(\"preprocessed_mpg.csv\")\n",
        "\n",
        "# Drop columns that are not relevant for analysis\n",
        "# mpg = mpg.drop(columns=['name'])\n",
        "\n",
        "# Fill missing values\n",
        "mpg['horsepower'] = mpg['horsepower'].fillna(mpg['horsepower'].mean())\n",
        "\n",
        "# Apply one-hot encoding to the categorical column 'origin'\n",
        "# mpg = pd.get_dummies(mpg, columns=['origin'], drop_first=True)\n",
        "\n",
        "# Check the dataset\n",
        "print(mpg.head())\n"
      ],
      "metadata": {
        "colab": {
          "base_uri": "https://localhost:8080/"
        },
        "id": "sB4zKkk4YVJ3",
        "outputId": "7e66b26c-3c88-4586-9e8c-7c6750ad5578"
      },
      "execution_count": null,
      "outputs": [
        {
          "output_type": "stream",
          "name": "stdout",
          "text": [
            "    mpg  cylinders  displacement  horsepower  weight  acceleration  \\\n",
            "0  18.0          8         307.0       130.0    3504          12.0   \n",
            "1  15.0          8         350.0       165.0    3693          11.5   \n",
            "2  18.0          8         318.0       150.0    3436          11.0   \n",
            "3  16.0          8         304.0       150.0    3433          12.0   \n",
            "4  17.0          8         302.0       140.0    3449          10.5   \n",
            "\n",
            "   model_year  origin_japan  origin_usa  \n",
            "0          70         False        True  \n",
            "1          70         False        True  \n",
            "2          70         False        True  \n",
            "3          70         False        True  \n",
            "4          70         False        True  \n"
          ]
        }
      ]
    },
    {
      "cell_type": "code",
      "source": [
        "from sklearn.model_selection import train_test_split\n",
        "\n",
        "# 1. Split the data based on the training interval\n",
        "train_interval = (mpg['cylinders'] >= 3) & (mpg['cylinders'] <= 6)\n",
        "normal_traindata = mpg[train_interval]\n",
        "\n",
        "# 2. Select all data for `cylinders = 8` (extrapolation)\n",
        "data_cyl_7 = mpg[mpg['cylinders'] == 8]\n",
        "\n",
        "# 3. Split the data for `cylinders = 8` into test and \"extra train\" (30% for testing)\n",
        "test_data_extrapolated, extra_traindata = train_test_split(data_cyl_8, test_size=0.3, random_state=42)\n",
        "\n",
        "# 4. Create the full training set (add 70% of `cylinders = 8` to the normal data)\n",
        "train_data = pd.concat([normal_traindata, extra_traindata])\n",
        "\n",
        "# 5. Create feature and target sets\n",
        "X_extr_train = train_data.drop(columns=['mpg'])\n",
        "y_extr_train = train_data['mpg']\n",
        "\n",
        "X_extr_test = test_data_extrapolated.drop(columns=['mpg'])\n",
        "y_extr_test = test_data_extrapolated['mpg']\n",
        "\n",
        "# Check the dimensions\n",
        "print(f\"Number of examples in the training set: {len(X_extr_train)}\")\n",
        "print(f\"Number of examples in the test set: {len(X_extr_test)}\")\n"
      ],
      "metadata": {
        "colab": {
          "base_uri": "https://localhost:8080/"
        },
        "id": "y756XDa-YVL-",
        "outputId": "9f4994e8-a9ba-4076-da3c-73dec73d4c6f"
      },
      "execution_count": null,
      "outputs": [
        {
          "output_type": "stream",
          "name": "stdout",
          "text": [
            "Number of examples in the training set: 320\n",
            "Number of examples in the test set: 72\n"
          ]
        }
      ]
    },
    {
      "cell_type": "code",
      "source": [
        "# Verify the overlap between train and test\n",
        "overlap = X_extr_test.merge(X_extr_train, how='inner')\n",
        "print(f\"Number of overlapped points between train and test: {len(overlap)}\")\n",
        "\n"
      ],
      "metadata": {
        "colab": {
          "base_uri": "https://localhost:8080/"
        },
        "id": "4sg573j3Yahg",
        "outputId": "0f055e5c-24af-44d2-b6ff-e0b41e4eb897"
      },
      "execution_count": null,
      "outputs": [
        {
          "output_type": "stream",
          "name": "stdout",
          "text": [
            "Number of overlapped points between train and test: 0\n"
          ]
        }
      ]
    },
    {
      "cell_type": "code",
      "source": [
        "# Apply one-hot encoding to categorical columns, ensuring all data are numeric\n",
        "X_extr_train = pd.get_dummies(X_extr_train, drop_first=True)\n",
        "X_extr_test = pd.get_dummies(X_extr_test, drop_first=True)\n",
        "\n",
        "bayesian_nn_extr = create_bayesian_network(X_extr_train, y_extr_train)\n",
        "\n",
        "with bayesian_nn_extr:\n",
        "    # Adjust the model using the ADVI method\n",
        "    approx_extrapolated = pm.fit(100000, method=\"advi\", random_seed=42)\n",
        "    trace_extrapolated = approx_extrapolated.sample(draws=1000, return_inferencedata=True)\n"
      ],
      "metadata": {
        "colab": {
          "base_uri": "https://localhost:8080/",
          "height": 34,
          "referenced_widgets": [
            "cf6766840992421294928361554d57ca",
            "16864b9b289d4c5c876c9b7aa4340b98"
          ]
        },
        "id": "z_RQEQ4yYakL",
        "outputId": "6e9be7af-684b-41ee-81d3-0ff2e90f4e81"
      },
      "execution_count": null,
      "outputs": [
        {
          "output_type": "display_data",
          "data": {
            "text/plain": [
              "Output()"
            ],
            "application/vnd.jupyter.widget-view+json": {
              "version_major": 2,
              "version_minor": 0,
              "model_id": "cf6766840992421294928361554d57ca"
            }
          },
          "metadata": {}
        },
        {
          "output_type": "display_data",
          "data": {
            "text/plain": [],
            "text/html": [
              "<pre style=\"white-space:pre;overflow-x:auto;line-height:normal;font-family:Menlo,'DejaVu Sans Mono',consolas,'Courier New',monospace\"></pre>\n"
            ]
          },
          "metadata": {}
        }
      ]
    },
    {
      "cell_type": "code",
      "source": [
        "# Initialize variable to store predictions\n",
        "predictions_extrapolated = None\n",
        "\n",
        "with bayesian_nn_extr:\n",
        "    # Set the test data for posterior prediction\n",
        "    pm.set_data({\n",
        "        \"model_input\": X_extr_test,\n",
        "        \"model_output\": np.zeros(y_extr_test.shape)  # Placeholder\n",
        "    }, coords={\"samples\": np.arange(X_extr_test.shape[0])})\n",
        "\n",
        "    # Generate posterior predictions using the model\n",
        "    ppc_extrapolated = pm.sample_posterior_predictive(trace_extrapolated, var_names=[\"output\"])\n",
        "    predictions_draws_extrapolated = np.squeeze(ppc_extrapolated.posterior_predictive[\"output\"])\n",
        "\n",
        "    # Compute the mean of predictions for each test point\n",
        "    predictions_extrapolated = np.mean(predictions_draws_extrapolated, axis=0)\n"
      ],
      "metadata": {
        "colab": {
          "base_uri": "https://localhost:8080/",
          "height": 34,
          "referenced_widgets": [
            "f27a2a15a9d34ad2ab21c01f6db6e762",
            "b507cac3c9844844ac813d1b37cb4682"
          ]
        },
        "id": "E1doEd8TYamH",
        "outputId": "dd110e7d-4b1f-4395-c37f-81e06dab8a90"
      },
      "execution_count": null,
      "outputs": [
        {
          "output_type": "display_data",
          "data": {
            "text/plain": [
              "Output()"
            ],
            "application/vnd.jupyter.widget-view+json": {
              "version_major": 2,
              "version_minor": 0,
              "model_id": "f27a2a15a9d34ad2ab21c01f6db6e762"
            }
          },
          "metadata": {}
        },
        {
          "output_type": "display_data",
          "data": {
            "text/plain": [],
            "text/html": [
              "<pre style=\"white-space:pre;overflow-x:auto;line-height:normal;font-family:Menlo,'DejaVu Sans Mono',consolas,'Courier New',monospace\"></pre>\n"
            ]
          },
          "metadata": {}
        }
      ]
    },
    {
      "cell_type": "code",
      "source": [
        "# Calculate the uncertainty for the extrapolated points\n",
        "uncertain_extr = uncertain_regr_calc(\n",
        "    predictions_draws_extrapolated, label=\"Extrapolated Test Data\"\n",
        ")\n"
      ],
      "metadata": {
        "colab": {
          "base_uri": "https://localhost:8080/",
          "height": 636
        },
        "id": "IjamK-fKYf9m",
        "outputId": "97ee8985-fd09-4820-9d50-d2955d83c8da"
      },
      "execution_count": null,
      "outputs": [
        {
          "output_type": "display_data",
          "data": {
            "text/plain": [
              "<Figure size 1000x700 with 1 Axes>"
            ],
            "image/png": "[encoded data removed]"
          },
          "metadata": {}
        }
      ]
    },
    {
      "cell_type": "code",
      "source": [
        "threshold_extrapolated = np.percentile(uncertain_extr, 77)\n",
        "extrapolated_points = np.where(uncertain_extr > threshold_extrapolated)[0]\n",
        "\n",
        "print(f\"Calculated threshold: {threshold_extrapolated:.2f}\")\n",
        "print(f\"Number of extrapolated points detected: {len(extrapolated_points)}\")\n"
      ],
      "metadata": {
        "colab": {
          "base_uri": "https://localhost:8080/"
        },
        "id": "NwZiuhsKYgB-",
        "outputId": "4e7bb6cc-c804-43e8-88f9-320404296dba"
      },
      "execution_count": null,
      "outputs": [
        {
          "output_type": "stream",
          "name": "stdout",
          "text": [
            "Calculated threshold: 6.85\n",
            "Number of extrapolated points detected: 17\n"
          ]
        }
      ]
    }
  ]
}